{
  "nbformat": 4,
  "nbformat_minor": 0,
  "metadata": {
    "colab": {
      "name": "load_data_colab.ipynb",
      "provenance": [],
      "collapsed_sections": [],
      "include_colab_link": true
    },
    "kernelspec": {
      "display_name": "Python 3",
      "language": "python",
      "name": "python3"
    },
    "language_info": {
      "codemirror_mode": {
        "name": "ipython",
        "version": 3
      },
      "file_extension": ".py",
      "mimetype": "text/x-python",
      "name": "python",
      "nbconvert_exporter": "python",
      "pygments_lexer": "ipython3",
      "version": "3.7.4"
    }
  },
  "cells": [
    {
      "cell_type": "markdown",
      "metadata": {
        "id": "view-in-github",
        "colab_type": "text"
      },
      "source": [
        "<a href=\"https://colab.research.google.com/github/marketpsych/marketpsych/blob/main/notebooks/load_data.ipynb\" target=\"_parent\"><img src=\"https://colab.research.google.com/assets/colab-badge.svg\" alt=\"Open In Colab\"/></a>"
      ]
    },
    {
      "cell_type": "markdown",
      "metadata": {
        "id": "6oEg5liYXjDR"
      },
      "source": [
        "# Loading CSV files directly from SFTP\n",
        "\n",
        "This notebook shows how to load MarketPsych's data with your SFTP credentials directly into a Jupyter Notebook. Note, however, that this notebook is an **alpha version**. For more robust testing, we recommend downloading the trialing flat files, as instructed by the MRNSupport, and then loading them into your own environment. "
      ]
    },
    {
      "cell_type": "markdown",
      "metadata": {
        "id": "OeDQ4hDmXjDV"
      },
      "source": [
        "---\n",
        "## Settings\n",
        "In order to have this example working, you'll need to install MarketPsych's library. Additionally, this notebook uses some widgets to facilitate with your navigation. To install the libraries and enable widgets, please run the following cell. "
      ]
    },
    {
      "cell_type": "code",
      "metadata": {
        "id": "moMyEx-HXjDW",
        "outputId": "bdaa1548-0628-4cb1-feb1-aec6760b1ac2"
      },
      "source": [
        "import sys\n",
        "# Installs marketpsych library into your environment\n",
        "!{sys.executable} -m pip install marketpsych --upgrade --quiet\n",
        "# Installs ipywidget library into your environment\n",
        "!{sys.executable} -m pip install ipywidgets --upgrade --quiet\n",
        "\n",
        "## Libraries\n",
        "from marketpsych import sftp\n",
        "from marketpsych import mpwidgets\n",
        "\n",
        "# Allows using the widgets\n",
        "!{sys.executable} -m jupyter nbextension enable --py widgetsnbextension\n",
        "\n",
        "from IPython.core.magic import register_cell_magic\n",
        "from IPython.display import HTML, display\n",
        "\n",
        "%load_ext autoreload\n",
        "%autoreload 2"
      ],
      "execution_count": null,
      "outputs": [
        {
          "name": "stdout",
          "output_type": "stream",
          "text": [
            "Enabling notebook extension jupyter-js-widgets/extension...\r\n",
            "      - Validating: \u001b[32mOK\u001b[0m\r\n"
          ]
        }
      ]
    },
    {
      "cell_type": "markdown",
      "metadata": {
        "id": "xjX_TfMuXjDZ"
      },
      "source": [
        "---\n",
        "## Selecting your login credentials\n",
        "\n",
        "Please input your credentials, i.e., the path to the `Key file`, and `UserID` as provided by the MRNSupport. \n",
        "\n",
        "<font color='blue'>**IMPORTANT**</font>       \n",
        "<font color='blue'>1. Run the following cell. After running it, you should see two widgets.</font>  \n",
        "<font color='blue'>2. Click on the uploader named `Key File`.</font>        \n",
        "<font color='blue'>3. Check if your `User ID` is correct, if not, change it manually.</font>  \n",
        "<font color='blue'>4. Move on to the next cell.</font>  "
      ]
    },
    {
      "cell_type": "code",
      "metadata": {
        "id": "lshp6uE7XjDZ",
        "outputId": "9a39579b-1d8c-4997-ea84-93480e16ba5b",
        "colab": {
          "referenced_widgets": [
            "a586e32b9ae5463a8b0225f0525acdb5"
          ]
        }
      },
      "source": [
        "cwdgts = mpwidgets.LoginWidgets()\n",
        "cwdgts.display()"
      ],
      "execution_count": null,
      "outputs": [
        {
          "data": {
            "application/vnd.jupyter.widget-view+json": {
              "model_id": "a586e32b9ae5463a8b0225f0525acdb5",
              "version_major": 2,
              "version_minor": 0
            },
            "text/plain": [
              "HBox(children=(FileUpload(value={}, description='Key File:'), Text(value='', description='User ID:', placehold…"
            ]
          },
          "metadata": {},
          "output_type": "display_data"
        }
      ]
    },
    {
      "cell_type": "markdown",
      "metadata": {
        "id": "RlaoEGLMa07h"
      },
      "source": [
        "**WARNING**                         \n",
        "When you run the following cell after waiting for too long, you may be given the following error:\n",
        "```python\n",
        "\"ValueError\": I/O operation on closed file.\n",
        "```   \n",
        "\n",
        "If so, please re-run the previous cell and upload your key. Otherwise, continue."
      ]
    },
    {
      "cell_type": "code",
      "metadata": {
        "id": "ev5drG1RXjDa"
      },
      "source": [
        "# Creates client\n",
        "client = sftp.connect(user=cwdgts.id_widget.value, key=cwdgts.key_widget.content)"
      ],
      "execution_count": null,
      "outputs": []
    },
    {
      "cell_type": "markdown",
      "metadata": {
        "id": "b5qMK0ElXjDa"
      },
      "source": [
        "---\n",
        "## Loading the data\n",
        "\n",
        "Finally, you can download the files directly into a pandas dataframe. The options can be defined through the 5 widgets below.\n",
        "\n",
        " - Select the checkbox if you are trialing the data. In some special cases, even if you are trialing, you may need to uncheck it (you can try both options in case of Permission errors).\n",
        "\n",
        " - The options for **Asset class** are:  \n",
        "\n",
        "|Asset class   | Description|\n",
        "|:-------------|:------------|\n",
        "|`CMPNY`       | Individual companies|\n",
        "|`CMPNY_AMER`  | Individual companies domiciled in America|\n",
        "|`CMPNY_APAC`  | Individual companies domiciled in APAC|\n",
        "|`CMPNY_EMEA`  | Individual companies domiciled in EMEA|\n",
        "|`CMPNY_ESG`   | Individual companies (ESG package)|\n",
        "|`CMPNY_GRP`   | Company groups and ETFs|\n",
        "|`COM_AGR`     | Agricultural commodities|  \n",
        "|`COM_ENM`     | Energy and Metals|\n",
        "|`COU`         | Countries|\n",
        "|`COU_ESG`     | Countries (ESG package)|\n",
        "|`COU_MKT`     | Stock indices, sovereign bonds, real estate|\n",
        "|`CRYPTO`      | Cryptocurrencies|\n",
        "|`CUR`         | Currencies|  \n",
        "\n",
        " - The options for **frequencies** are:  \n",
        "  \n",
        "|Frequency  | Description| Use case |\n",
        "|:----------|:-----------|:---------|\n",
        "|`W365_UDAI`| Yearly lookback window and daily updates| ESG Core only |\n",
        "|`WDAI_UDAI`| Daily lookback window and daily updates| Daily data stamped 30 minutes before the NYSE close|\n",
        "|`WDAI_UHOU`| Daily lookback window and hourly updates| Daily data stamped hourly (in case you want daily data adjusted to your time-zone) |\n",
        "|`W01M_U01M`| Minutely lookback window and minutely updates| Low-latency data (**WARNING:** extremely large datasets)|\n",
        " \n",
        "- Regarding **dates**, simply select the start and end dates of interest. Note that for dates older than 2 months (with respect to your current date), the files are packaged in monthly batches. Hence, only the selection of month will matter and not the specific day. For example, if you select `2020-12-25` as the start or end date, the full `2020-12` month will be loaded anyways.\n",
        "\n",
        "**WARNINGS**   \n",
        "Loading large files such as CMPNY data with a long window-frame can take quite a while and take over your memory. Start by loading very short periods (e.g., one month of data), then moving to ever longer periods. \n",
        "\n",
        "Check your asset class permissions. If you try downloading data for which no access was provided, it will give a Permission error:\n",
        "```python\n",
        "\"PermissionError\": [Errno 13] Access denied\n",
        "```   "
      ]
    },
    {
      "cell_type": "markdown",
      "metadata": {
        "id": "E0hd9ezyXjDb"
      },
      "source": [
        "<font color='blue'>Run the following cell ONCE. After it you'll be able to select the parameters. Once you have selected them, run the next cell.</font> "
      ]
    },
    {
      "cell_type": "code",
      "metadata": {
        "id": "wnqmnC5UXjDb",
        "outputId": "6c82d377-1def-4652-95e3-85070db60776",
        "colab": {
          "referenced_widgets": [
            "cf590e2e32d94a26b41a41bc1aa09343",
            "ebc451c9c1124e778231142635b89435",
            "6068b07754e74cb8b6ac842dea0ac1ce",
            "09063deb52864f7f8048f0997c16a3a1",
            "9db7df9387ed4bb4bfb7bf4f60c04d02"
          ]
        }
      },
      "source": [
        "lwdgts = mpwidgets.LoaderWidgets()\n",
        "lwdgts.display()"
      ],
      "execution_count": null,
      "outputs": [
        {
          "data": {
            "application/vnd.jupyter.widget-view+json": {
              "model_id": "cf590e2e32d94a26b41a41bc1aa09343",
              "version_major": 2,
              "version_minor": 0
            },
            "text/plain": [
              "Checkbox(value=True, description='Trial')"
            ]
          },
          "metadata": {},
          "output_type": "display_data"
        },
        {
          "data": {
            "application/vnd.jupyter.widget-view+json": {
              "model_id": "ebc451c9c1124e778231142635b89435",
              "version_major": 2,
              "version_minor": 0
            },
            "text/plain": [
              "HBox(children=(Dropdown(description='Asset class:', index=7, options=('CMPNY', 'CMPNY_AMER', 'CMPNY_APAC', 'CM…"
            ]
          },
          "metadata": {},
          "output_type": "display_data"
        },
        {
          "data": {
            "application/vnd.jupyter.widget-view+json": {
              "model_id": "6068b07754e74cb8b6ac842dea0ac1ce",
              "version_major": 2,
              "version_minor": 0
            },
            "text/plain": [
              "HBox(children=(DatePicker(value=datetime.datetime(2020, 12, 1, 0, 0), description='Start date:'), DatePicker(v…"
            ]
          },
          "metadata": {},
          "output_type": "display_data"
        },
        {
          "data": {
            "application/vnd.jupyter.widget-view+json": {
              "model_id": "09063deb52864f7f8048f0997c16a3a1",
              "version_major": 2,
              "version_minor": 0
            },
            "text/plain": [
              "HBox(children=(SelectMultiple(description='Source:', index=(0, 1, 2, 3), options=('News_Social', 'News', 'News…"
            ]
          },
          "metadata": {},
          "output_type": "display_data"
        },
        {
          "data": {
            "application/vnd.jupyter.widget-view+json": {
              "model_id": "9db7df9387ed4bb4bfb7bf4f60c04d02",
              "version_major": 2,
              "version_minor": 0
            },
            "text/plain": [
              "Output()"
            ]
          },
          "metadata": {},
          "output_type": "display_data"
        }
      ]
    },
    {
      "cell_type": "code",
      "metadata": {
        "id": "1Ey75Fs_XjDc",
        "outputId": "49a4b013-19e6-4fae-dc7d-3730ef002286"
      },
      "source": [
        "%%time\n",
        "\n",
        "df = client.download(\n",
        "    asset_class=sftp.AssetClass[lwdgts.asset_class_widget.value],\n",
        "    frequency=sftp.Frequency[lwdgts.frequency_widget.value],\n",
        "    start=lwdgts.start_date_widget.value,\n",
        "    end=lwdgts.end_date_widget.value,\n",
        "    trial=lwdgts.trial_check_widget.value,\n",
        "    assets=tuple(lwdgts.assets_widget.value.split()),\n",
        "    sources=tuple(lwdgts.data_type_widget.value)\n",
        ")\n",
        "\n",
        "display(df)"
      ],
      "execution_count": null,
      "outputs": [
        {
          "data": {
            "text/html": [
              "<div>\n",
              "<style scoped>\n",
              "    .dataframe tbody tr th:only-of-type {\n",
              "        vertical-align: middle;\n",
              "    }\n",
              "\n",
              "    .dataframe tbody tr th {\n",
              "        vertical-align: top;\n",
              "    }\n",
              "\n",
              "    .dataframe thead th {\n",
              "        text-align: right;\n",
              "    }\n",
              "</style>\n",
              "<table border=\"1\" class=\"dataframe\">\n",
              "  <thead>\n",
              "    <tr style=\"text-align: right;\">\n",
              "      <th></th>\n",
              "      <th>id</th>\n",
              "      <th>assetCode</th>\n",
              "      <th>windowTimestamp</th>\n",
              "      <th>dataType</th>\n",
              "      <th>systemVersion</th>\n",
              "      <th>mentions</th>\n",
              "      <th>buzz</th>\n",
              "      <th>sentiment</th>\n",
              "      <th>negative</th>\n",
              "      <th>positive</th>\n",
              "      <th>...</th>\n",
              "      <th>overvaluedVsUndervalued</th>\n",
              "      <th>volatility</th>\n",
              "      <th>consumptionVolume</th>\n",
              "      <th>productionVolume</th>\n",
              "      <th>regulatoryIssues</th>\n",
              "      <th>supplyVsDemand</th>\n",
              "      <th>supplyVsDemandForecast</th>\n",
              "      <th>newExploration</th>\n",
              "      <th>safetyAccident</th>\n",
              "      <th>futureVsPast</th>\n",
              "    </tr>\n",
              "  </thead>\n",
              "  <tbody>\n",
              "    <tr>\n",
              "      <th>0</th>\n",
              "      <td>mp:2020-12-01_20.30.00.News.COM_ENM.CRU</td>\n",
              "      <td>CRU</td>\n",
              "      <td>2020-12-01 20:30:00+00:00</td>\n",
              "      <td>News</td>\n",
              "      <td>MP:4.0.0</td>\n",
              "      <td>5585</td>\n",
              "      <td>26119.65</td>\n",
              "      <td>-0.018722</td>\n",
              "      <td>0.242021</td>\n",
              "      <td>0.223299</td>\n",
              "      <td>...</td>\n",
              "      <td>0.000077</td>\n",
              "      <td>0.023574</td>\n",
              "      <td>0.000345</td>\n",
              "      <td>-0.015506</td>\n",
              "      <td>0.000077</td>\n",
              "      <td>-0.011811</td>\n",
              "      <td>-0.012270</td>\n",
              "      <td>0.001091</td>\n",
              "      <td>0.000115</td>\n",
              "      <td>-0.249569</td>\n",
              "    </tr>\n",
              "    <tr>\n",
              "      <th>1</th>\n",
              "      <td>mp:2020-12-01_20.30.00.News_Social.COM_ENM.CRU</td>\n",
              "      <td>CRU</td>\n",
              "      <td>2020-12-01 20:30:00+00:00</td>\n",
              "      <td>News_Social</td>\n",
              "      <td>MP:4.0.0</td>\n",
              "      <td>8009</td>\n",
              "      <td>28548.95</td>\n",
              "      <td>-0.015762</td>\n",
              "      <td>0.239921</td>\n",
              "      <td>0.224159</td>\n",
              "      <td>...</td>\n",
              "      <td>-0.000105</td>\n",
              "      <td>0.023109</td>\n",
              "      <td>0.000280</td>\n",
              "      <td>-0.014361</td>\n",
              "      <td>0.000070</td>\n",
              "      <td>-0.010368</td>\n",
              "      <td>-0.011542</td>\n",
              "      <td>0.001314</td>\n",
              "      <td>0.000140</td>\n",
              "      <td>-0.236252</td>\n",
              "    </tr>\n",
              "    <tr>\n",
              "      <th>2</th>\n",
              "      <td>mp:2020-12-01_20.30.00.News_Headline.COM_ENM.CRU</td>\n",
              "      <td>CRU</td>\n",
              "      <td>2020-12-01 20:30:00+00:00</td>\n",
              "      <td>News_Headline</td>\n",
              "      <td>MP:4.0.0</td>\n",
              "      <td>289</td>\n",
              "      <td>468.00</td>\n",
              "      <td>-0.141026</td>\n",
              "      <td>0.305556</td>\n",
              "      <td>0.164530</td>\n",
              "      <td>...</td>\n",
              "      <td>NaN</td>\n",
              "      <td>0.021368</td>\n",
              "      <td>NaN</td>\n",
              "      <td>-0.056624</td>\n",
              "      <td>NaN</td>\n",
              "      <td>-0.048077</td>\n",
              "      <td>-0.012821</td>\n",
              "      <td>NaN</td>\n",
              "      <td>NaN</td>\n",
              "      <td>-0.103632</td>\n",
              "    </tr>\n",
              "    <tr>\n",
              "      <th>3</th>\n",
              "      <td>mp:2020-12-01_20.30.00.Social.COM_ENM.CRU</td>\n",
              "      <td>CRU</td>\n",
              "      <td>2020-12-01 20:30:00+00:00</td>\n",
              "      <td>Social</td>\n",
              "      <td>MP:4.0.0</td>\n",
              "      <td>2424</td>\n",
              "      <td>2429.30</td>\n",
              "      <td>0.016054</td>\n",
              "      <td>0.217347</td>\n",
              "      <td>0.233401</td>\n",
              "      <td>...</td>\n",
              "      <td>-0.002058</td>\n",
              "      <td>0.018112</td>\n",
              "      <td>-0.000412</td>\n",
              "      <td>-0.002058</td>\n",
              "      <td>NaN</td>\n",
              "      <td>0.005146</td>\n",
              "      <td>-0.003705</td>\n",
              "      <td>0.003705</td>\n",
              "      <td>0.000412</td>\n",
              "      <td>-0.093072</td>\n",
              "    </tr>\n",
              "    <tr>\n",
              "      <th>4</th>\n",
              "      <td>mp:2020-12-02_20.30.00.News.COM_ENM.CRU</td>\n",
              "      <td>CRU</td>\n",
              "      <td>2020-12-02 20:30:00+00:00</td>\n",
              "      <td>News</td>\n",
              "      <td>MP:4.0.0</td>\n",
              "      <td>4853</td>\n",
              "      <td>18488.80</td>\n",
              "      <td>-0.010574</td>\n",
              "      <td>0.237793</td>\n",
              "      <td>0.227219</td>\n",
              "      <td>...</td>\n",
              "      <td>0.000000</td>\n",
              "      <td>0.018930</td>\n",
              "      <td>0.001136</td>\n",
              "      <td>-0.015117</td>\n",
              "      <td>NaN</td>\n",
              "      <td>0.001244</td>\n",
              "      <td>0.002380</td>\n",
              "      <td>0.001298</td>\n",
              "      <td>0.000054</td>\n",
              "      <td>-0.265031</td>\n",
              "    </tr>\n",
              "    <tr>\n",
              "      <th>...</th>\n",
              "      <td>...</td>\n",
              "      <td>...</td>\n",
              "      <td>...</td>\n",
              "      <td>...</td>\n",
              "      <td>...</td>\n",
              "      <td>...</td>\n",
              "      <td>...</td>\n",
              "      <td>...</td>\n",
              "      <td>...</td>\n",
              "      <td>...</td>\n",
              "      <td>...</td>\n",
              "      <td>...</td>\n",
              "      <td>...</td>\n",
              "      <td>...</td>\n",
              "      <td>...</td>\n",
              "      <td>...</td>\n",
              "      <td>...</td>\n",
              "      <td>...</td>\n",
              "      <td>...</td>\n",
              "      <td>...</td>\n",
              "      <td>...</td>\n",
              "    </tr>\n",
              "    <tr>\n",
              "      <th>115</th>\n",
              "      <td>mp:2020-12-29_20.30.00.Social.COM_ENM.CRU</td>\n",
              "      <td>CRU</td>\n",
              "      <td>2020-12-29 20:30:00+00:00</td>\n",
              "      <td>Social</td>\n",
              "      <td>MP:4.0.0</td>\n",
              "      <td>1759</td>\n",
              "      <td>1798.50</td>\n",
              "      <td>0.063664</td>\n",
              "      <td>0.193217</td>\n",
              "      <td>0.256881</td>\n",
              "      <td>...</td>\n",
              "      <td>-0.002224</td>\n",
              "      <td>0.021129</td>\n",
              "      <td>0.001668</td>\n",
              "      <td>0.000000</td>\n",
              "      <td>NaN</td>\n",
              "      <td>-0.022519</td>\n",
              "      <td>-0.008896</td>\n",
              "      <td>0.003336</td>\n",
              "      <td>NaN</td>\n",
              "      <td>-0.071726</td>\n",
              "    </tr>\n",
              "    <tr>\n",
              "      <th>116</th>\n",
              "      <td>mp:2020-12-30_20.30.00.News.COM_ENM.CRU</td>\n",
              "      <td>CRU</td>\n",
              "      <td>2020-12-30 20:30:00+00:00</td>\n",
              "      <td>News</td>\n",
              "      <td>MP:4.0.0</td>\n",
              "      <td>4597</td>\n",
              "      <td>17358.55</td>\n",
              "      <td>0.059481</td>\n",
              "      <td>0.219200</td>\n",
              "      <td>0.278681</td>\n",
              "      <td>...</td>\n",
              "      <td>-0.000634</td>\n",
              "      <td>0.023231</td>\n",
              "      <td>0.001383</td>\n",
              "      <td>-0.003687</td>\n",
              "      <td>NaN</td>\n",
              "      <td>-0.021603</td>\n",
              "      <td>0.002132</td>\n",
              "      <td>0.001267</td>\n",
              "      <td>0.002708</td>\n",
              "      <td>-0.256401</td>\n",
              "    </tr>\n",
              "    <tr>\n",
              "      <th>117</th>\n",
              "      <td>mp:2020-12-30_20.30.00.News_Social.COM_ENM.CRU</td>\n",
              "      <td>CRU</td>\n",
              "      <td>2020-12-30 20:30:00+00:00</td>\n",
              "      <td>News_Social</td>\n",
              "      <td>MP:4.0.0</td>\n",
              "      <td>7281</td>\n",
              "      <td>19424.50</td>\n",
              "      <td>0.055651</td>\n",
              "      <td>0.217457</td>\n",
              "      <td>0.273109</td>\n",
              "      <td>...</td>\n",
              "      <td>-0.000978</td>\n",
              "      <td>0.022935</td>\n",
              "      <td>0.001313</td>\n",
              "      <td>-0.003269</td>\n",
              "      <td>NaN</td>\n",
              "      <td>-0.019743</td>\n",
              "      <td>0.001931</td>\n",
              "      <td>0.001493</td>\n",
              "      <td>0.002420</td>\n",
              "      <td>-0.240907</td>\n",
              "    </tr>\n",
              "    <tr>\n",
              "      <th>118</th>\n",
              "      <td>mp:2020-12-30_20.30.00.News_Headline.COM_ENM.CRU</td>\n",
              "      <td>CRU</td>\n",
              "      <td>2020-12-30 20:30:00+00:00</td>\n",
              "      <td>News_Headline</td>\n",
              "      <td>MP:4.0.0</td>\n",
              "      <td>295</td>\n",
              "      <td>745.50</td>\n",
              "      <td>0.039571</td>\n",
              "      <td>0.216633</td>\n",
              "      <td>0.256204</td>\n",
              "      <td>...</td>\n",
              "      <td>NaN</td>\n",
              "      <td>0.008719</td>\n",
              "      <td>NaN</td>\n",
              "      <td>-0.026157</td>\n",
              "      <td>NaN</td>\n",
              "      <td>-0.119383</td>\n",
              "      <td>0.000000</td>\n",
              "      <td>0.001341</td>\n",
              "      <td>0.001341</td>\n",
              "      <td>-0.225352</td>\n",
              "    </tr>\n",
              "    <tr>\n",
              "      <th>119</th>\n",
              "      <td>mp:2020-12-30_20.30.00.Social.COM_ENM.CRU</td>\n",
              "      <td>CRU</td>\n",
              "      <td>2020-12-30 20:30:00+00:00</td>\n",
              "      <td>Social</td>\n",
              "      <td>MP:4.0.0</td>\n",
              "      <td>2684</td>\n",
              "      <td>2065.95</td>\n",
              "      <td>0.023476</td>\n",
              "      <td>0.202812</td>\n",
              "      <td>0.226288</td>\n",
              "      <td>...</td>\n",
              "      <td>-0.003872</td>\n",
              "      <td>0.020451</td>\n",
              "      <td>0.000726</td>\n",
              "      <td>0.000242</td>\n",
              "      <td>NaN</td>\n",
              "      <td>-0.004114</td>\n",
              "      <td>0.000242</td>\n",
              "      <td>0.003388</td>\n",
              "      <td>NaN</td>\n",
              "      <td>-0.110724</td>\n",
              "    </tr>\n",
              "  </tbody>\n",
              "</table>\n",
              "<p>120 rows × 43 columns</p>\n",
              "</div>"
            ],
            "text/plain": [
              "                                                   id assetCode  \\\n",
              "0             mp:2020-12-01_20.30.00.News.COM_ENM.CRU       CRU   \n",
              "1      mp:2020-12-01_20.30.00.News_Social.COM_ENM.CRU       CRU   \n",
              "2    mp:2020-12-01_20.30.00.News_Headline.COM_ENM.CRU       CRU   \n",
              "3           mp:2020-12-01_20.30.00.Social.COM_ENM.CRU       CRU   \n",
              "4             mp:2020-12-02_20.30.00.News.COM_ENM.CRU       CRU   \n",
              "..                                                ...       ...   \n",
              "115         mp:2020-12-29_20.30.00.Social.COM_ENM.CRU       CRU   \n",
              "116           mp:2020-12-30_20.30.00.News.COM_ENM.CRU       CRU   \n",
              "117    mp:2020-12-30_20.30.00.News_Social.COM_ENM.CRU       CRU   \n",
              "118  mp:2020-12-30_20.30.00.News_Headline.COM_ENM.CRU       CRU   \n",
              "119         mp:2020-12-30_20.30.00.Social.COM_ENM.CRU       CRU   \n",
              "\n",
              "              windowTimestamp       dataType systemVersion  mentions  \\\n",
              "0   2020-12-01 20:30:00+00:00           News      MP:4.0.0      5585   \n",
              "1   2020-12-01 20:30:00+00:00    News_Social      MP:4.0.0      8009   \n",
              "2   2020-12-01 20:30:00+00:00  News_Headline      MP:4.0.0       289   \n",
              "3   2020-12-01 20:30:00+00:00         Social      MP:4.0.0      2424   \n",
              "4   2020-12-02 20:30:00+00:00           News      MP:4.0.0      4853   \n",
              "..                        ...            ...           ...       ...   \n",
              "115 2020-12-29 20:30:00+00:00         Social      MP:4.0.0      1759   \n",
              "116 2020-12-30 20:30:00+00:00           News      MP:4.0.0      4597   \n",
              "117 2020-12-30 20:30:00+00:00    News_Social      MP:4.0.0      7281   \n",
              "118 2020-12-30 20:30:00+00:00  News_Headline      MP:4.0.0       295   \n",
              "119 2020-12-30 20:30:00+00:00         Social      MP:4.0.0      2684   \n",
              "\n",
              "         buzz  sentiment  negative  positive  ...  overvaluedVsUndervalued  \\\n",
              "0    26119.65  -0.018722  0.242021  0.223299  ...                 0.000077   \n",
              "1    28548.95  -0.015762  0.239921  0.224159  ...                -0.000105   \n",
              "2      468.00  -0.141026  0.305556  0.164530  ...                      NaN   \n",
              "3     2429.30   0.016054  0.217347  0.233401  ...                -0.002058   \n",
              "4    18488.80  -0.010574  0.237793  0.227219  ...                 0.000000   \n",
              "..        ...        ...       ...       ...  ...                      ...   \n",
              "115   1798.50   0.063664  0.193217  0.256881  ...                -0.002224   \n",
              "116  17358.55   0.059481  0.219200  0.278681  ...                -0.000634   \n",
              "117  19424.50   0.055651  0.217457  0.273109  ...                -0.000978   \n",
              "118    745.50   0.039571  0.216633  0.256204  ...                      NaN   \n",
              "119   2065.95   0.023476  0.202812  0.226288  ...                -0.003872   \n",
              "\n",
              "     volatility  consumptionVolume  productionVolume  regulatoryIssues  \\\n",
              "0      0.023574           0.000345         -0.015506          0.000077   \n",
              "1      0.023109           0.000280         -0.014361          0.000070   \n",
              "2      0.021368                NaN         -0.056624               NaN   \n",
              "3      0.018112          -0.000412         -0.002058               NaN   \n",
              "4      0.018930           0.001136         -0.015117               NaN   \n",
              "..          ...                ...               ...               ...   \n",
              "115    0.021129           0.001668          0.000000               NaN   \n",
              "116    0.023231           0.001383         -0.003687               NaN   \n",
              "117    0.022935           0.001313         -0.003269               NaN   \n",
              "118    0.008719                NaN         -0.026157               NaN   \n",
              "119    0.020451           0.000726          0.000242               NaN   \n",
              "\n",
              "     supplyVsDemand  supplyVsDemandForecast  newExploration  safetyAccident  \\\n",
              "0         -0.011811               -0.012270        0.001091        0.000115   \n",
              "1         -0.010368               -0.011542        0.001314        0.000140   \n",
              "2         -0.048077               -0.012821             NaN             NaN   \n",
              "3          0.005146               -0.003705        0.003705        0.000412   \n",
              "4          0.001244                0.002380        0.001298        0.000054   \n",
              "..              ...                     ...             ...             ...   \n",
              "115       -0.022519               -0.008896        0.003336             NaN   \n",
              "116       -0.021603                0.002132        0.001267        0.002708   \n",
              "117       -0.019743                0.001931        0.001493        0.002420   \n",
              "118       -0.119383                0.000000        0.001341        0.001341   \n",
              "119       -0.004114                0.000242        0.003388             NaN   \n",
              "\n",
              "     futureVsPast  \n",
              "0       -0.249569  \n",
              "1       -0.236252  \n",
              "2       -0.103632  \n",
              "3       -0.093072  \n",
              "4       -0.265031  \n",
              "..            ...  \n",
              "115     -0.071726  \n",
              "116     -0.256401  \n",
              "117     -0.240907  \n",
              "118     -0.225352  \n",
              "119     -0.110724  \n",
              "\n",
              "[120 rows x 43 columns]"
            ]
          },
          "metadata": {},
          "output_type": "display_data"
        },
        {
          "name": "stdout",
          "output_type": "stream",
          "text": [
            "CPU times: user 101 ms, sys: 15.7 ms, total: 116 ms\n",
            "Wall time: 4.59 s\n"
          ]
        }
      ]
    },
    {
      "cell_type": "markdown",
      "metadata": {
        "id": "lG38ufuOXjDc"
      },
      "source": [
        "If you can see a dataframe above, congratulations! You have downloaded some data into your notebook. From here, you can have fun exploring it. Below, you'll find a plotting tool for some simple understanding of the data."
      ]
    },
    {
      "cell_type": "markdown",
      "metadata": {
        "id": "vRmZMNnOXjDd"
      },
      "source": [
        "---\n",
        "## Visualizing the data"
      ]
    },
    {
      "cell_type": "markdown",
      "metadata": {
        "id": "Q3gRkoiDXjDd"
      },
      "source": [
        "Below you can use the widgets to do some very basic exploration. A description of the widgets is given below.\n",
        "\n",
        "- The **Data Type** field represents the type of content source(s) on which the RMAs are based. There are four possible values:\n",
        "    - `News` for news sources (headlines and corpus)\n",
        "    - `News_Headline` for the headline only of news sources\n",
        "    - `Social` for social media sources\n",
        "    - `News_Social` for the combined content               \n",
        "\n",
        "\n",
        "- The **Anaytics** field represents the RMA. The actual values will depend on the asset class. Several types of indicators are provided:\n",
        "    - Emotional indicators such as Anger, Fear and Joy\n",
        "    - 'Economic' metrics including Earnings Forecast, Interest Rate Forecast, Long vs. Short \n",
        "    - ESG measures including CarbonEmissionsControversy, ManagementTrust, and WorkplaceSafety\n",
        "    - etc. \n",
        "\n",
        "\n",
        "- The **Asset** field represents the asset of choice. To see all options, clear the cell. For a description of each asset, please search for the asset code in the User Guide or Eikon app.\n",
        "\n",
        "\n",
        "- The **Roll. window** field represents the length in the smoothing function (a simple moving average).\n",
        "\n",
        "The indicators are updated every minute for companies, sectors, regions, countries, commodities, indices, bonds, currencies and cryptocurrencies. They can be translated directly into spreadsheets or charts that can be monitored by traders, risk managers or analysts – or they can be plugged straight into your algorithms for low frequency or longer-term asset allocation or sector rotation decisions.\n",
        "\n",
        "**WARNING**                \n",
        "If your plot is empty, it is likely that there is no data for that combination of the three top variables. "
      ]
    },
    {
      "cell_type": "markdown",
      "metadata": {
        "id": "SmghmdmVXjDe"
      },
      "source": [
        "<font color='blue'>Select options for plotting the data after running the cell:</font> "
      ]
    },
    {
      "cell_type": "code",
      "metadata": {
        "id": "5WnWyucGXjDe",
        "outputId": "e6a43bd9-0524-4840-f440-0e1af000bb73",
        "colab": {
          "referenced_widgets": [
            "273865029ece4dde98449c575abd0a0b",
            "d69b5da9a42e4f2d974f9f4f906d07fa",
            "3bd07bde063e4ac288f99574bbbe4f57"
          ]
        }
      },
      "source": [
        "swdgts = mpwidgets.SlicerWidgets(df)\n",
        "swdgts.display()"
      ],
      "execution_count": null,
      "outputs": [
        {
          "data": {
            "application/vnd.jupyter.widget-view+json": {
              "model_id": "273865029ece4dde98449c575abd0a0b",
              "version_major": 2,
              "version_minor": 0
            },
            "text/plain": [
              "HBox(children=(Dropdown(description='Data Type:', index=2, options=('News', 'News_Headline', 'News_Social', 'S…"
            ]
          },
          "metadata": {},
          "output_type": "display_data"
        },
        {
          "data": {
            "application/vnd.jupyter.widget-view+json": {
              "model_id": "d69b5da9a42e4f2d974f9f4f906d07fa",
              "version_major": 2,
              "version_minor": 0
            },
            "text/plain": [
              "HBox(children=(Dropdown(description='Weighted by:', options=(False, 'buzz'), value=False), BoundedIntText(valu…"
            ]
          },
          "metadata": {},
          "output_type": "display_data"
        },
        {
          "data": {
            "application/vnd.jupyter.widget-view+json": {
              "model_id": "3bd07bde063e4ac288f99574bbbe4f57",
              "version_major": 2,
              "version_minor": 0
            },
            "text/plain": [
              "Tab(children=(Output(), Output()), _titles={'0': 'RMA plot', '1': 'RMA data'})"
            ]
          },
          "metadata": {},
          "output_type": "display_data"
        }
      ]
    },
    {
      "cell_type": "code",
      "metadata": {
        "id": "cWsuqsyKa07o"
      },
      "source": [
        ""
      ],
      "execution_count": null,
      "outputs": []
    }
  ]
}