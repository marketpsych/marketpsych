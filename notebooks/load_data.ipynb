{
 "cells": [
  {
   "cell_type": "markdown",
   "id": "bbc5c22a",
   "metadata": {},
   "source": [
    "The name of this notebook has been changed, please refer to [i_introduction.ipynb](https://github.com/marketpsych/marketpsych/blob/main/notebooks/i_introduction.ipynb) for the original notebook.   \n",
    "   \n",
    "We apologise for any inconvenience."
   ]
  }
 ],
 "metadata": {
  "kernelspec": {
   "display_name": "Python 3",
   "language": "python",
   "name": "python3"
  },
  "language_info": {
   "codemirror_mode": {
    "name": "ipython",
    "version": 3
   },
   "file_extension": ".py",
   "mimetype": "text/x-python",
   "name": "python",
   "nbconvert_exporter": "python",
   "pygments_lexer": "ipython3",
   "version": "3.9.5"
  }
 },
 "nbformat": 4,
 "nbformat_minor": 5
}
