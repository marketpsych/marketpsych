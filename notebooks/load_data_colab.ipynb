{
 "cells": [
  {
   "cell_type": "markdown",
   "metadata": {
    "colab_type": "text",
    "id": "view-in-github"
   },
   "source": [
    "<a href=\"https://colab.research.google.com/github/marketpsych/marketpsych/blob/main/notebooks/load_data_colab.ipynb\" target=\"_parent\"><img src=\"https://colab.research.google.com/assets/colab-badge.svg\" alt=\"Open In Colab\"/></a>"
   ]
  },
  {
   "cell_type": "markdown",
   "metadata": {
    "id": "6oEg5liYXjDR"
   },
   "source": [
    "# Loading CSV files directly from SFTP\n",
    "\n",
    "This notebook shows how to load MarketPsych's data with your SFTP credentials directly into a Jupyter Notebook. Note, however, that this notebook is an **alpha version**. For more robust testing, we recommend downloading the trialing flat files, as instructed by the MRNSupport, and then loading them into your own environment. "
   ]
  },
  {
   "cell_type": "markdown",
   "metadata": {
    "id": "OeDQ4hDmXjDV"
   },
   "source": [
    "---\n",
    "## Settings\n",
    "In order to have this example working, you'll need to install MarketPsych's library. Additionally, this notebook uses some widgets to facilitate with your navigation. To install the libraries and enable widgets, please run the following cell. "
   ]
  },
  {
   "cell_type": "code",
   "execution_count": 2,
   "metadata": {
    "id": "moMyEx-HXjDW"
   },
   "outputs": [
    {
     "name": "stdout",
     "output_type": "stream",
     "text": [
      "\u001b[33mWARNING: You are using pip version 20.2.4; however, version 21.1.2 is available.\n",
      "You should consider upgrading via the '/Library/Frameworks/Python.framework/Versions/3.8/bin/python3.8 -m pip install --upgrade pip' command.\u001b[0m\n",
      "\u001b[33mWARNING: You are using pip version 20.2.4; however, version 21.1.2 is available.\n",
      "You should consider upgrading via the '/Library/Frameworks/Python.framework/Versions/3.8/bin/python3.8 -m pip install --upgrade pip' command.\u001b[0m\n",
      "Enabling notebook extension jupyter-js-widgets/extension...\n",
      "      - Validating: \u001b[32mOK\u001b[0m\n"
     ]
    }
   ],
   "source": [
    "import sys\n",
    "# Installs marketpsych library into your environment\n",
    "!{sys.executable} -m pip install marketpsych --upgrade --quiet\n",
    "# Installs ipywidget library into your environment\n",
    "!{sys.executable} -m pip install ipywidgets --upgrade --quiet\n",
    "\n",
    "## Libraries\n",
    "from marketpsych import sftp\n",
    "from marketpsych import mpwidgets\n",
    "\n",
    "# Allows using the widgets\n",
    "!{sys.executable} -m jupyter nbextension enable --py widgetsnbextension\n",
    "\n",
    "from IPython.core.magic import register_cell_magic\n",
    "from IPython.display import HTML, display\n"
   ]
  },
  {
   "cell_type": "markdown",
   "metadata": {
    "id": "xjX_TfMuXjDZ"
   },
   "source": [
    "---\n",
    "## Selecting your login credentials\n",
    "\n",
    "Now you should be able to input your credentials. I.e., the path to the `Key file`, and `UserID` as provided by the MRNSupport. \n",
    "\n",
    "\n",
    "\n",
    "<font color='blue'>1. Run the following cell.</font>                      \n",
    "<font color='blue'>2. Make your selections through the widgets.</font>                      \n",
    "\n",
    "\n",
    "\n",
    "First, upload your .ppk key by using the left `Key file` button to select the file. The User ID is then guessed through the provided key. Please check if that is correct (if it is the same ID as the one provided by MRNSupported). If not, manually change the ID."
   ]
  },
  {
   "cell_type": "code",
   "execution_count": 5,
   "metadata": {
    "id": "lshp6uE7XjDZ"
   },
   "outputs": [
    {
     "data": {
      "application/vnd.jupyter.widget-view+json": {
       "model_id": "52fa9bede9c942aba0361fffa2dff910",
       "version_major": 2,
       "version_minor": 0
      },
      "text/plain": [
       "HBox(children=(FileUpload(value={}, description='Key file:'), Text(value='', description='User ID:', placehold…"
      ]
     },
     "metadata": {},
     "output_type": "display_data"
    }
   ],
   "source": [
    "cwdgts = mpwidgets.LoginWidgets()\n",
    "cwdgts.display()"
   ]
  },
  {
   "cell_type": "markdown",
   "metadata": {},
   "source": [
    "**WARNING**                         \n",
    "When you run the following cell after waiting for too long, you may be given the following error:\n",
    "```python\n",
    "\"ValueError\": I/O operation on closed file.\n",
    "```   \n",
    "\n",
    "If so, please re-run the previous cell and upload your key. Otherwise, continue."
   ]
  },
  {
   "cell_type": "code",
   "execution_count": 6,
   "metadata": {
    "id": "ev5drG1RXjDa"
   },
   "outputs": [],
   "source": [
    "# Creates client\n",
    "client = sftp.connect(user=cwdgts.id_widget.value, key=cwdgts.key_widget.content)"
   ]
  },
  {
   "cell_type": "markdown",
   "metadata": {
    "id": "b5qMK0ElXjDa"
   },
   "source": [
    "---\n",
    "## Loading the data\n",
    "\n",
    "Finally, you can download the files directly into a pandas dataframe. The options can be defined through the 5 widgets below.\n",
    "\n",
    " - Select the checkbox if you are trialing the data. In some special cases, even if you are trialing, you may need to uncheck it (you can try both options in case of Permission errors).\n",
    "\n",
    " - The options for **Asset class** are:  \n",
    "\n",
    "|Asset class   | Description|\n",
    "|:-------------|:------------|\n",
    "|`CMPNY`       | Individual companies|\n",
    "|`CMPNY_AMER`  | Individual companies domiciled in America|\n",
    "|`CMPNY_APAC`  | Individual companies domiciled in APAC|\n",
    "|`CMPNY_EMEA`  | Individual companies domiciled in EMEA|\n",
    "|`CMPNY_ESG`   | Individual companies (ESG package)|\n",
    "|`CMPNY_GRP`   | Company groups and ETFs|\n",
    "|`COM_AGR`     | Agricultural commodities|  \n",
    "|`COM_ENM`     | Energy and Metals|\n",
    "|`COU`         | Countries|\n",
    "|`COU_ESG`     | Countries (ESG package)|\n",
    "|`COU_MKT`     | Stock indices, sovereign bonds, real estate|\n",
    "|`CRYPTO`      | Cryptocurrencies|\n",
    "|`CUR`         | Currencies|  \n",
    "\n",
    " - The options for **frequencies** are:  \n",
    "  \n",
    "|Frequency  | Description| Use case |\n",
    "|:----------|:-----------|:---------|\n",
    "|`W365_UDAI`| Yearly lookback window and daily updates| ESG Core only |\n",
    "|`WDAI_UDAI`| Daily lookback window and daily updates| Daily data stamped 30 minutes before the NYSE close|\n",
    "|`WDAI_UHOU`| Daily lookback window and hourly updates| Daily data stamped hourly (in case you want daily data adjusted to your time-zone) |\n",
    "|`W01M_U01M`| Minutely lookback window and minutely updates| Low-latency data (**WARNING:** extremely large datasets)|\n",
    " \n",
    "- Regarding **dates**, simply select the start and end dates of interest. Note that for dates older than 2 months (with respect to your current date), the files are packaged in monthly batches. Hence, only the selection of month will matter and not the specific day. For example, if you select `2020-12-25` as the start or end date, the full `2020-12` month will be loaded anyways.\n",
    "\n",
    "**WARNINGS**   \n",
    "Loading large files such as CMPNY data with a long window-frame can take quite a while and take over your memory. Start by loading very short periods (e.g., one month of data), then moving to ever longer periods. \n",
    "\n",
    "Check your asset class permissions. If you try downloading data for which no access was provided, it will give a Permission error:\n",
    "```python\n",
    "\"PermissionError\": [Errno 13] Access denied\n",
    "```   "
   ]
  },
  {
   "cell_type": "markdown",
   "metadata": {
    "id": "E0hd9ezyXjDb"
   },
   "source": [
    "<font color='blue'>Select options for loading the data after running the cell:</font> "
   ]
  },
  {
   "cell_type": "code",
   "execution_count": 7,
   "metadata": {
    "id": "wnqmnC5UXjDb"
   },
   "outputs": [
    {
     "data": {
      "application/vnd.jupyter.widget-view+json": {
       "model_id": "7fe4e35256a04ea6b6ba333e323ecf0d",
       "version_major": 2,
       "version_minor": 0
      },
      "text/plain": [
       "Checkbox(value=True, description='Trial')"
      ]
     },
     "metadata": {},
     "output_type": "display_data"
    },
    {
     "data": {
      "application/vnd.jupyter.widget-view+json": {
       "model_id": "9871f40ac6fa474ba2898cfe2f09f62d",
       "version_major": 2,
       "version_minor": 0
      },
      "text/plain": [
       "Dropdown(description='Asset class:', index=7, options=('CMPNY', 'CMPNY_AMER', 'CMPNY_APAC', 'CMPNY_EMEA', 'CMP…"
      ]
     },
     "metadata": {},
     "output_type": "display_data"
    },
    {
     "data": {
      "application/vnd.jupyter.widget-view+json": {
       "model_id": "32e9617042eb43e7badd78b8a098b17b",
       "version_major": 2,
       "version_minor": 0
      },
      "text/plain": [
       "Dropdown(description='Frequency:', index=1, options=('W365_UDAI', 'WDAI_UDAI', 'WDAI_UHOU', 'W01M_U01M'), valu…"
      ]
     },
     "metadata": {},
     "output_type": "display_data"
    },
    {
     "data": {
      "application/vnd.jupyter.widget-view+json": {
       "model_id": "f9f3122ef3cd45a0aa6b94be835be0c9",
       "version_major": 2,
       "version_minor": 0
      },
      "text/plain": [
       "DatePicker(value=datetime.datetime(2020, 12, 1, 0, 0), description='Start date:')"
      ]
     },
     "metadata": {},
     "output_type": "display_data"
    },
    {
     "data": {
      "application/vnd.jupyter.widget-view+json": {
       "model_id": "49e5d0803a884bac9f50f56f67b2ed43",
       "version_major": 2,
       "version_minor": 0
      },
      "text/plain": [
       "DatePicker(value=datetime.datetime(2020, 12, 31, 0, 0), description='End date:')"
      ]
     },
     "metadata": {},
     "output_type": "display_data"
    }
   ],
   "source": [
    "lwdgts = mpwidgets.LoaderWidgets()\n",
    "lwdgts.display()"
   ]
  },
  {
   "cell_type": "code",
   "execution_count": 8,
   "metadata": {
    "id": "1Ey75Fs_XjDc"
   },
   "outputs": [
    {
     "data": {
      "text/html": [
       "<div>\n",
       "<style scoped>\n",
       "    .dataframe tbody tr th:only-of-type {\n",
       "        vertical-align: middle;\n",
       "    }\n",
       "\n",
       "    .dataframe tbody tr th {\n",
       "        vertical-align: top;\n",
       "    }\n",
       "\n",
       "    .dataframe thead th {\n",
       "        text-align: right;\n",
       "    }\n",
       "</style>\n",
       "<table border=\"1\" class=\"dataframe\">\n",
       "  <thead>\n",
       "    <tr style=\"text-align: right;\">\n",
       "      <th></th>\n",
       "      <th>id</th>\n",
       "      <th>assetCode</th>\n",
       "      <th>windowTimestamp</th>\n",
       "      <th>dataType</th>\n",
       "      <th>systemVersion</th>\n",
       "      <th>mentions</th>\n",
       "      <th>buzz</th>\n",
       "      <th>sentiment</th>\n",
       "      <th>negative</th>\n",
       "      <th>positive</th>\n",
       "      <th>...</th>\n",
       "      <th>regulatoryIssues</th>\n",
       "      <th>supplyVsDemand</th>\n",
       "      <th>supplyVsDemandForecast</th>\n",
       "      <th>acreageCultivated</th>\n",
       "      <th>agDisease</th>\n",
       "      <th>agStress</th>\n",
       "      <th>subsidies</th>\n",
       "      <th>subsidiesSentiment</th>\n",
       "      <th>weatherDamage</th>\n",
       "      <th>futureVsPast</th>\n",
       "    </tr>\n",
       "  </thead>\n",
       "  <tbody>\n",
       "    <tr>\n",
       "      <th>0</th>\n",
       "      <td>mp:2020-12-01_20.30.00.News.COM_AGR.COC</td>\n",
       "      <td>COC</td>\n",
       "      <td>2020-12-01T20:30:00.000Z</td>\n",
       "      <td>News</td>\n",
       "      <td>MP:4.0.0</td>\n",
       "      <td>646</td>\n",
       "      <td>1379.2</td>\n",
       "      <td>-0.090270</td>\n",
       "      <td>0.239632</td>\n",
       "      <td>0.149362</td>\n",
       "      <td>...</td>\n",
       "      <td>NaN</td>\n",
       "      <td>0.013051</td>\n",
       "      <td>0.000000</td>\n",
       "      <td>NaN</td>\n",
       "      <td>NaN</td>\n",
       "      <td>0.005800</td>\n",
       "      <td>NaN</td>\n",
       "      <td>NaN</td>\n",
       "      <td>NaN</td>\n",
       "      <td>-0.419301</td>\n",
       "    </tr>\n",
       "    <tr>\n",
       "      <th>1</th>\n",
       "      <td>mp:2020-12-01_20.30.00.News_Social.COM_AGR.COC</td>\n",
       "      <td>COC</td>\n",
       "      <td>2020-12-01T20:30:00.000Z</td>\n",
       "      <td>News_Social</td>\n",
       "      <td>MP:4.0.0</td>\n",
       "      <td>716</td>\n",
       "      <td>1604.9</td>\n",
       "      <td>-0.059505</td>\n",
       "      <td>0.229921</td>\n",
       "      <td>0.170416</td>\n",
       "      <td>...</td>\n",
       "      <td>NaN</td>\n",
       "      <td>0.018693</td>\n",
       "      <td>0.007477</td>\n",
       "      <td>NaN</td>\n",
       "      <td>NaN</td>\n",
       "      <td>0.004985</td>\n",
       "      <td>NaN</td>\n",
       "      <td>NaN</td>\n",
       "      <td>NaN</td>\n",
       "      <td>-0.393981</td>\n",
       "    </tr>\n",
       "    <tr>\n",
       "      <th>2</th>\n",
       "      <td>mp:2020-12-01_20.30.00.News_Headline.COM_AGR.COC</td>\n",
       "      <td>COC</td>\n",
       "      <td>2020-12-01T20:30:00.000Z</td>\n",
       "      <td>News_Headline</td>\n",
       "      <td>MP:4.0.0</td>\n",
       "      <td>52</td>\n",
       "      <td>95.5</td>\n",
       "      <td>-0.109948</td>\n",
       "      <td>0.062827</td>\n",
       "      <td>-0.047120</td>\n",
       "      <td>...</td>\n",
       "      <td>NaN</td>\n",
       "      <td>0.020942</td>\n",
       "      <td>0.020942</td>\n",
       "      <td>NaN</td>\n",
       "      <td>NaN</td>\n",
       "      <td>NaN</td>\n",
       "      <td>NaN</td>\n",
       "      <td>NaN</td>\n",
       "      <td>NaN</td>\n",
       "      <td>0.172775</td>\n",
       "    </tr>\n",
       "    <tr>\n",
       "      <th>3</th>\n",
       "      <td>mp:2020-12-01_20.30.00.Social.COM_AGR.COC</td>\n",
       "      <td>COC</td>\n",
       "      <td>2020-12-01T20:30:00.000Z</td>\n",
       "      <td>Social</td>\n",
       "      <td>MP:4.0.0</td>\n",
       "      <td>70</td>\n",
       "      <td>225.7</td>\n",
       "      <td>0.128489</td>\n",
       "      <td>0.170580</td>\n",
       "      <td>0.299070</td>\n",
       "      <td>...</td>\n",
       "      <td>NaN</td>\n",
       "      <td>0.053168</td>\n",
       "      <td>0.053168</td>\n",
       "      <td>NaN</td>\n",
       "      <td>NaN</td>\n",
       "      <td>NaN</td>\n",
       "      <td>NaN</td>\n",
       "      <td>NaN</td>\n",
       "      <td>NaN</td>\n",
       "      <td>-0.239256</td>\n",
       "    </tr>\n",
       "    <tr>\n",
       "      <th>4</th>\n",
       "      <td>mp:2020-12-01_20.30.00.News.COM_AGR.COF</td>\n",
       "      <td>COF</td>\n",
       "      <td>2020-12-01T20:30:00.000Z</td>\n",
       "      <td>News</td>\n",
       "      <td>MP:4.0.0</td>\n",
       "      <td>163</td>\n",
       "      <td>483.0</td>\n",
       "      <td>0.052795</td>\n",
       "      <td>0.255694</td>\n",
       "      <td>0.308489</td>\n",
       "      <td>...</td>\n",
       "      <td>NaN</td>\n",
       "      <td>-0.008282</td>\n",
       "      <td>-0.005176</td>\n",
       "      <td>-0.001035</td>\n",
       "      <td>NaN</td>\n",
       "      <td>0.099379</td>\n",
       "      <td>NaN</td>\n",
       "      <td>NaN</td>\n",
       "      <td>0.006211</td>\n",
       "      <td>-0.428571</td>\n",
       "    </tr>\n",
       "    <tr>\n",
       "      <th>...</th>\n",
       "      <td>...</td>\n",
       "      <td>...</td>\n",
       "      <td>...</td>\n",
       "      <td>...</td>\n",
       "      <td>...</td>\n",
       "      <td>...</td>\n",
       "      <td>...</td>\n",
       "      <td>...</td>\n",
       "      <td>...</td>\n",
       "      <td>...</td>\n",
       "      <td>...</td>\n",
       "      <td>...</td>\n",
       "      <td>...</td>\n",
       "      <td>...</td>\n",
       "      <td>...</td>\n",
       "      <td>...</td>\n",
       "      <td>...</td>\n",
       "      <td>...</td>\n",
       "      <td>...</td>\n",
       "      <td>...</td>\n",
       "      <td>...</td>\n",
       "    </tr>\n",
       "    <tr>\n",
       "      <th>2103</th>\n",
       "      <td>mp:2020-12-31_20.30.00.Social.COM_AGR.WHT</td>\n",
       "      <td>WHT</td>\n",
       "      <td>2020-12-31T20:30:00.000Z</td>\n",
       "      <td>Social</td>\n",
       "      <td>MP:4.0.0</td>\n",
       "      <td>161</td>\n",
       "      <td>550.1</td>\n",
       "      <td>-0.156335</td>\n",
       "      <td>0.307217</td>\n",
       "      <td>0.150882</td>\n",
       "      <td>...</td>\n",
       "      <td>NaN</td>\n",
       "      <td>0.018179</td>\n",
       "      <td>0.000909</td>\n",
       "      <td>-0.000909</td>\n",
       "      <td>0.005454</td>\n",
       "      <td>0.014543</td>\n",
       "      <td>NaN</td>\n",
       "      <td>NaN</td>\n",
       "      <td>NaN</td>\n",
       "      <td>-0.168878</td>\n",
       "    </tr>\n",
       "    <tr>\n",
       "      <th>2104</th>\n",
       "      <td>mp:2020-12-31_20.30.00.News.COM_AGR.WOO</td>\n",
       "      <td>WOO</td>\n",
       "      <td>2020-12-31T20:30:00.000Z</td>\n",
       "      <td>News</td>\n",
       "      <td>MP:4.0.0</td>\n",
       "      <td>1</td>\n",
       "      <td>2.0</td>\n",
       "      <td>NaN</td>\n",
       "      <td>NaN</td>\n",
       "      <td>NaN</td>\n",
       "      <td>...</td>\n",
       "      <td>NaN</td>\n",
       "      <td>NaN</td>\n",
       "      <td>NaN</td>\n",
       "      <td>NaN</td>\n",
       "      <td>NaN</td>\n",
       "      <td>NaN</td>\n",
       "      <td>NaN</td>\n",
       "      <td>NaN</td>\n",
       "      <td>NaN</td>\n",
       "      <td>-0.500000</td>\n",
       "    </tr>\n",
       "    <tr>\n",
       "      <th>2105</th>\n",
       "      <td>mp:2020-12-31_20.30.00.News_Social.COM_AGR.WOO</td>\n",
       "      <td>WOO</td>\n",
       "      <td>2020-12-31T20:30:00.000Z</td>\n",
       "      <td>News_Social</td>\n",
       "      <td>MP:4.0.0</td>\n",
       "      <td>4</td>\n",
       "      <td>42.5</td>\n",
       "      <td>0.082353</td>\n",
       "      <td>0.282353</td>\n",
       "      <td>0.364706</td>\n",
       "      <td>...</td>\n",
       "      <td>NaN</td>\n",
       "      <td>NaN</td>\n",
       "      <td>NaN</td>\n",
       "      <td>0.023529</td>\n",
       "      <td>NaN</td>\n",
       "      <td>NaN</td>\n",
       "      <td>NaN</td>\n",
       "      <td>NaN</td>\n",
       "      <td>NaN</td>\n",
       "      <td>-0.529412</td>\n",
       "    </tr>\n",
       "    <tr>\n",
       "      <th>2106</th>\n",
       "      <td>mp:2020-12-31_20.30.00.News_Headline.COM_AGR.WOO</td>\n",
       "      <td>WOO</td>\n",
       "      <td>2020-12-31T20:30:00.000Z</td>\n",
       "      <td>News_Headline</td>\n",
       "      <td>MP:4.0.0</td>\n",
       "      <td>0</td>\n",
       "      <td>0.0</td>\n",
       "      <td>NaN</td>\n",
       "      <td>NaN</td>\n",
       "      <td>NaN</td>\n",
       "      <td>...</td>\n",
       "      <td>NaN</td>\n",
       "      <td>NaN</td>\n",
       "      <td>NaN</td>\n",
       "      <td>NaN</td>\n",
       "      <td>NaN</td>\n",
       "      <td>NaN</td>\n",
       "      <td>NaN</td>\n",
       "      <td>NaN</td>\n",
       "      <td>NaN</td>\n",
       "      <td>NaN</td>\n",
       "    </tr>\n",
       "    <tr>\n",
       "      <th>2107</th>\n",
       "      <td>mp:2020-12-31_20.30.00.Social.COM_AGR.WOO</td>\n",
       "      <td>WOO</td>\n",
       "      <td>2020-12-31T20:30:00.000Z</td>\n",
       "      <td>Social</td>\n",
       "      <td>MP:4.0.0</td>\n",
       "      <td>3</td>\n",
       "      <td>40.5</td>\n",
       "      <td>0.086420</td>\n",
       "      <td>0.296296</td>\n",
       "      <td>0.382716</td>\n",
       "      <td>...</td>\n",
       "      <td>NaN</td>\n",
       "      <td>NaN</td>\n",
       "      <td>NaN</td>\n",
       "      <td>0.024691</td>\n",
       "      <td>NaN</td>\n",
       "      <td>NaN</td>\n",
       "      <td>NaN</td>\n",
       "      <td>NaN</td>\n",
       "      <td>NaN</td>\n",
       "      <td>-0.530864</td>\n",
       "    </tr>\n",
       "  </tbody>\n",
       "</table>\n",
       "<p>2108 rows × 47 columns</p>\n",
       "</div>"
      ],
      "text/plain": [
       "                                                    id assetCode  \\\n",
       "0              mp:2020-12-01_20.30.00.News.COM_AGR.COC       COC   \n",
       "1       mp:2020-12-01_20.30.00.News_Social.COM_AGR.COC       COC   \n",
       "2     mp:2020-12-01_20.30.00.News_Headline.COM_AGR.COC       COC   \n",
       "3            mp:2020-12-01_20.30.00.Social.COM_AGR.COC       COC   \n",
       "4              mp:2020-12-01_20.30.00.News.COM_AGR.COF       COF   \n",
       "...                                                ...       ...   \n",
       "2103         mp:2020-12-31_20.30.00.Social.COM_AGR.WHT       WHT   \n",
       "2104           mp:2020-12-31_20.30.00.News.COM_AGR.WOO       WOO   \n",
       "2105    mp:2020-12-31_20.30.00.News_Social.COM_AGR.WOO       WOO   \n",
       "2106  mp:2020-12-31_20.30.00.News_Headline.COM_AGR.WOO       WOO   \n",
       "2107         mp:2020-12-31_20.30.00.Social.COM_AGR.WOO       WOO   \n",
       "\n",
       "               windowTimestamp       dataType systemVersion  mentions    buzz  \\\n",
       "0     2020-12-01T20:30:00.000Z           News      MP:4.0.0       646  1379.2   \n",
       "1     2020-12-01T20:30:00.000Z    News_Social      MP:4.0.0       716  1604.9   \n",
       "2     2020-12-01T20:30:00.000Z  News_Headline      MP:4.0.0        52    95.5   \n",
       "3     2020-12-01T20:30:00.000Z         Social      MP:4.0.0        70   225.7   \n",
       "4     2020-12-01T20:30:00.000Z           News      MP:4.0.0       163   483.0   \n",
       "...                        ...            ...           ...       ...     ...   \n",
       "2103  2020-12-31T20:30:00.000Z         Social      MP:4.0.0       161   550.1   \n",
       "2104  2020-12-31T20:30:00.000Z           News      MP:4.0.0         1     2.0   \n",
       "2105  2020-12-31T20:30:00.000Z    News_Social      MP:4.0.0         4    42.5   \n",
       "2106  2020-12-31T20:30:00.000Z  News_Headline      MP:4.0.0         0     0.0   \n",
       "2107  2020-12-31T20:30:00.000Z         Social      MP:4.0.0         3    40.5   \n",
       "\n",
       "      sentiment  negative  positive  ...  regulatoryIssues  supplyVsDemand  \\\n",
       "0     -0.090270  0.239632  0.149362  ...               NaN        0.013051   \n",
       "1     -0.059505  0.229921  0.170416  ...               NaN        0.018693   \n",
       "2     -0.109948  0.062827 -0.047120  ...               NaN        0.020942   \n",
       "3      0.128489  0.170580  0.299070  ...               NaN        0.053168   \n",
       "4      0.052795  0.255694  0.308489  ...               NaN       -0.008282   \n",
       "...         ...       ...       ...  ...               ...             ...   \n",
       "2103  -0.156335  0.307217  0.150882  ...               NaN        0.018179   \n",
       "2104        NaN       NaN       NaN  ...               NaN             NaN   \n",
       "2105   0.082353  0.282353  0.364706  ...               NaN             NaN   \n",
       "2106        NaN       NaN       NaN  ...               NaN             NaN   \n",
       "2107   0.086420  0.296296  0.382716  ...               NaN             NaN   \n",
       "\n",
       "      supplyVsDemandForecast  acreageCultivated  agDisease  agStress  \\\n",
       "0                   0.000000                NaN        NaN  0.005800   \n",
       "1                   0.007477                NaN        NaN  0.004985   \n",
       "2                   0.020942                NaN        NaN       NaN   \n",
       "3                   0.053168                NaN        NaN       NaN   \n",
       "4                  -0.005176          -0.001035        NaN  0.099379   \n",
       "...                      ...                ...        ...       ...   \n",
       "2103                0.000909          -0.000909   0.005454  0.014543   \n",
       "2104                     NaN                NaN        NaN       NaN   \n",
       "2105                     NaN           0.023529        NaN       NaN   \n",
       "2106                     NaN                NaN        NaN       NaN   \n",
       "2107                     NaN           0.024691        NaN       NaN   \n",
       "\n",
       "      subsidies  subsidiesSentiment  weatherDamage  futureVsPast  \n",
       "0           NaN                 NaN            NaN     -0.419301  \n",
       "1           NaN                 NaN            NaN     -0.393981  \n",
       "2           NaN                 NaN            NaN      0.172775  \n",
       "3           NaN                 NaN            NaN     -0.239256  \n",
       "4           NaN                 NaN       0.006211     -0.428571  \n",
       "...         ...                 ...            ...           ...  \n",
       "2103        NaN                 NaN            NaN     -0.168878  \n",
       "2104        NaN                 NaN            NaN     -0.500000  \n",
       "2105        NaN                 NaN            NaN     -0.529412  \n",
       "2106        NaN                 NaN            NaN           NaN  \n",
       "2107        NaN                 NaN            NaN     -0.530864  \n",
       "\n",
       "[2108 rows x 47 columns]"
      ]
     },
     "metadata": {},
     "output_type": "display_data"
    },
    {
     "name": "stdout",
     "output_type": "stream",
     "text": [
      "CPU times: user 149 ms, sys: 34.6 ms, total: 183 ms\n",
      "Wall time: 5.62 s\n"
     ]
    }
   ],
   "source": [
    "%%time\n",
    "\n",
    "df = client.download(\n",
    "    asset_class=sftp.AssetClass[lwdgts.asset_class_widget.value],\n",
    "    frequency=sftp.Frequency[lwdgts.frequency_widget.value],\n",
    "    start=lwdgts.start_date_widget.value,\n",
    "    end=lwdgts.end_date_widget.value,\n",
    "    trial=lwdgts.trial_check_widget.value\n",
    ")\n",
    "\n",
    "display(df)"
   ]
  },
  {
   "cell_type": "markdown",
   "metadata": {
    "id": "lG38ufuOXjDc"
   },
   "source": [
    "If you can see a dataframe above, congratulations! You have downloaded some data into your notebook. From here, you can have fun exploring it. Below, you'll find a plotting tool for some simple understanding of the data."
   ]
  },
  {
   "cell_type": "markdown",
   "metadata": {
    "id": "vRmZMNnOXjDd"
   },
   "source": [
    "---\n",
    "## Visualizing the data"
   ]
  },
  {
   "cell_type": "markdown",
   "metadata": {
    "id": "Q3gRkoiDXjDd"
   },
   "source": [
    "Below you can use the widgets to do some very basic exploration. A description of the widgets is given below.\n",
    "\n",
    "- The **Data Type** field represents the type of content source(s) on which the RMAs are based. There are four possible values:\n",
    "    - `News` for news sources (headlines and corpus)\n",
    "    - `News_Headline` for the headline only of news sources\n",
    "    - `Social` for social media sources\n",
    "    - `News_Social` for the combined content               \n",
    "\n",
    "\n",
    "- The **Anaytics** field represents the RMA. The actual values will depend on the asset class. Several types of indicators are provided:\n",
    "    - Emotional indicators such as Anger, Fear and Joy\n",
    "    - 'Economic' metrics including Earnings Forecast, Interest Rate Forecast, Long vs. Short \n",
    "    - ESG measures including CarbonEmissionsControversy, ManagementTrust, and WorkplaceSafety\n",
    "    - etc. \n",
    "\n",
    "\n",
    "- The **Asset** field represents the asset of choice. To see all options, clear the cell. For a description of each asset, please search for the asset code in the User Guide or Eikon app.\n",
    "\n",
    "\n",
    "- The **Roll. window** field represents the length in the smoothing function (a simple moving average).\n",
    "\n",
    "The indicators are updated every minute for companies, sectors, regions, countries, commodities, indices, bonds, currencies and cryptocurrencies. They can be translated directly into spreadsheets or charts that can be monitored by traders, risk managers or analysts – or they can be plugged straight into your algorithms for low frequency or longer-term asset allocation or sector rotation decisions.\n",
    "\n",
    "**WARNING**                \n",
    "If your plot is empty, it is likely that there is no data for that combination of the three top variables. "
   ]
  },
  {
   "cell_type": "markdown",
   "metadata": {
    "id": "SmghmdmVXjDe"
   },
   "source": [
    "<font color='blue'>Select options for plotting the data after running the cell:</font> "
   ]
  },
  {
   "cell_type": "code",
   "execution_count": 9,
   "metadata": {
    "id": "5WnWyucGXjDe"
   },
   "outputs": [
    {
     "data": {
      "application/vnd.jupyter.widget-view+json": {
       "model_id": "a60a1bcedb124bf7b5ef1459523455af",
       "version_major": 2,
       "version_minor": 0
      },
      "text/plain": [
       "HBox(children=(Dropdown(description='Data Type:', index=2, options=('News', 'News_Headline', 'News_Social', 'S…"
      ]
     },
     "metadata": {},
     "output_type": "display_data"
    },
    {
     "data": {
      "application/vnd.jupyter.widget-view+json": {
       "model_id": "e4e1db246cfa43bc9485851161f50618",
       "version_major": 2,
       "version_minor": 0
      },
      "text/plain": [
       "HBox(children=(BoundedIntText(value=1, continuous_update=True, description='Roll. window:', max=31, min=1),))"
      ]
     },
     "metadata": {},
     "output_type": "display_data"
    },
    {
     "data": {
      "application/vnd.jupyter.widget-view+json": {
       "model_id": "5f2e81d255bd41368ad3210950f97070",
       "version_major": 2,
       "version_minor": 0
      },
      "text/plain": [
       "Tab(children=(Output(), Output()), _titles={'0': 'RMA plot', '1': 'RMA data'})"
      ]
     },
     "metadata": {},
     "output_type": "display_data"
    }
   ],
   "source": [
    "swdgts = mpwidgets.SlicerWidgets(df)\n",
    "swdgts.display()"
   ]
  },
  {
   "cell_type": "code",
   "execution_count": null,
   "metadata": {},
   "outputs": [],
   "source": []
  }
 ],
 "metadata": {
  "colab": {
   "collapsed_sections": [],
   "include_colab_link": true,
   "name": "load_data_colab.ipynb",
   "provenance": []
  },
  "kernelspec": {
   "display_name": "Python 3",
   "language": "python",
   "name": "python3"
  },
  "language_info": {
   "codemirror_mode": {
    "name": "ipython",
    "version": 3
   },
   "file_extension": ".py",
   "mimetype": "text/x-python",
   "name": "python",
   "nbconvert_exporter": "python",
   "pygments_lexer": "ipython3",
   "version": "3.8.5"
  }
 },
 "nbformat": 4,
 "nbformat_minor": 1
}
