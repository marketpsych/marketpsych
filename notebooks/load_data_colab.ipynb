{
 "cells": [
  {
   "cell_type": "markdown",
   "metadata": {
    "colab_type": "text",
    "id": "view-in-github"
   },
   "source": [
    "<a href=\"https://colab.research.google.com/github/marketpsych/marketpsych/blob/main/notebooks/load_data_colab.ipynb\" target=\"_parent\"><img src=\"https://colab.research.google.com/assets/colab-badge.svg\" alt=\"Open In Colab\"/></a>"
   ]
  },
  {
   "cell_type": "markdown",
   "metadata": {
    "id": "6oEg5liYXjDR"
   },
   "source": [
    "# Loading CSV files directly from SFTP\n",
    "\n",
    "This notebook shows how to load MarketPsych's data with your SFTP credentials directly into a Jupyter Notebook. Note, however, that this notebook is an **alpha version**. For more robust testing, we recommend downloading the trialing flat files, as instructed by the MRNSupport, and then loading them into your own environment. "
   ]
  },
  {
   "cell_type": "markdown",
   "metadata": {
    "id": "OeDQ4hDmXjDV"
   },
   "source": [
    "---\n",
    "## Settings\n",
    "In order to have this example working, you'll need to install MarketPsych's library. Additionally, this notebook uses some widgets to facilitate with your navigation. To install the libraries and enable widgets, please run the following cell. "
   ]
  },
  {
   "cell_type": "code",
   "execution_count": 1,
   "metadata": {
    "id": "moMyEx-HXjDW"
   },
   "outputs": [
    {
     "name": "stdout",
     "output_type": "stream",
     "text": [
      "Enabling notebook extension jupyter-js-widgets/extension...\r\n",
      "      - Validating: \u001b[32mOK\u001b[0m\r\n"
     ]
    }
   ],
   "source": [
    "import sys\n",
    "# Installs marketpsych library into your environment\n",
    "!{sys.executable} -m pip install marketpsych --upgrade --quiet\n",
    "# Installs ipywidget library into your environment\n",
    "!{sys.executable} -m pip install ipywidgets --upgrade --quiet\n",
    "\n",
    "## Libraries\n",
    "from marketpsych import sftp\n",
    "from marketpsych import mpwidgets\n",
    "\n",
    "# Allows using the widgets\n",
    "!{sys.executable} -m jupyter nbextension enable --py widgetsnbextension\n",
    "\n",
    "from IPython.core.magic import register_cell_magic\n",
    "from IPython.display import HTML, display"
   ]
  },
  {
   "cell_type": "markdown",
   "metadata": {
    "id": "xjX_TfMuXjDZ"
   },
   "source": [
    "---\n",
    "## Selecting your login credentials\n",
    "\n",
    "Please input your credentials, i.e., the path to the `Key file`, and `UserID` as provided by the MRNSupport. \n",
    "\n",
    "<font color='blue'>**IMPORTANT**</font>       \n",
    "<font color='blue'>1. Run the following cell. After running it, you should see two widgets.</font>  \n",
    "<font color='blue'>2. Click on the uploader named `Key File`.</font>        \n",
    "<font color='blue'>3. Check if your `User ID` is correct, if not, change it manually.</font>  \n",
    "<font color='blue'>4. Move on to the next cell.</font>  "
   ]
  },
  {
   "cell_type": "code",
   "execution_count": 2,
   "metadata": {
    "id": "lshp6uE7XjDZ"
   },
   "outputs": [
    {
     "data": {
      "application/vnd.jupyter.widget-view+json": {
       "model_id": "cee82a6ba38944a9bb28431dc2cf7415",
       "version_major": 2,
       "version_minor": 0
      },
      "text/plain": [
       "HBox(children=(FileUpload(value={}, description='Key File:'), Text(value='', description='User ID:', placehold…"
      ]
     },
     "metadata": {},
     "output_type": "display_data"
    }
   ],
   "source": [
    "cwdgts = mpwidgets.LoginWidgets()\n",
    "cwdgts.display()"
   ]
  },
  {
   "cell_type": "markdown",
   "metadata": {},
   "source": [
    "**WARNING**                         \n",
    "When you run the following cell after waiting for too long, you may be given the following error:\n",
    "```python\n",
    "\"ValueError\": I/O operation on closed file.\n",
    "```   \n",
    "\n",
    "If so, please re-run the previous cell and upload your key. Otherwise, continue."
   ]
  },
  {
   "cell_type": "code",
   "execution_count": 3,
   "metadata": {
    "id": "ev5drG1RXjDa"
   },
   "outputs": [],
   "source": [
    "# Creates client\n",
    "client = sftp.connect(user=cwdgts.id_widget.value, key=cwdgts.key_widget.content)"
   ]
  },
  {
   "cell_type": "markdown",
   "metadata": {
    "id": "b5qMK0ElXjDa"
   },
   "source": [
    "---\n",
    "## Loading the data\n",
    "\n",
    "Finally, you can download the files directly into a pandas dataframe. The options can be defined through the 5 widgets below.\n",
    "\n",
    " - Select the checkbox if you are trialing the data. In some special cases, even if you are trialing, you may need to uncheck it (you can try both options in case of Permission errors).\n",
    "\n",
    " - The options for **Asset class** are:  \n",
    "\n",
    "|Asset class   | Description|\n",
    "|:-------------|:------------|\n",
    "|`CMPNY`       | Individual companies|\n",
    "|`CMPNY_AMER`  | Individual companies domiciled in America|\n",
    "|`CMPNY_APAC`  | Individual companies domiciled in APAC|\n",
    "|`CMPNY_EMEA`  | Individual companies domiciled in EMEA|\n",
    "|`CMPNY_ESG`   | Individual companies (ESG package)|\n",
    "|`CMPNY_GRP`   | Company groups and ETFs|\n",
    "|`COM_AGR`     | Agricultural commodities|  \n",
    "|`COM_ENM`     | Energy and Metals|\n",
    "|`COU`         | Countries|\n",
    "|`COU_ESG`     | Countries (ESG package)|\n",
    "|`COU_MKT`     | Stock indices, sovereign bonds, real estate|\n",
    "|`CRYPTO`      | Cryptocurrencies|\n",
    "|`CUR`         | Currencies|  \n",
    "\n",
    " - The options for **frequencies** are:  \n",
    "  \n",
    "|Frequency  | Description| Use case |\n",
    "|:----------|:-----------|:---------|\n",
    "|`W365_UDAI`| Yearly lookback window and daily updates| ESG Core only |\n",
    "|`WDAI_UDAI`| Daily lookback window and daily updates| Daily data stamped 30 minutes before the NYSE close|\n",
    "|`WDAI_UHOU`| Daily lookback window and hourly updates| Daily data stamped hourly (in case you want daily data adjusted to your time-zone) |\n",
    "|`W01M_U01M`| Minutely lookback window and minutely updates| Low-latency data (**WARNING:** extremely large datasets)|\n",
    " \n",
    "- Regarding **dates**, simply select the start and end dates of interest. Note that for dates older than 2 months (with respect to your current date), the files are packaged in monthly batches. Hence, only the selection of month will matter and not the specific day. For example, if you select `2020-12-25` as the start or end date, the full `2020-12` month will be loaded anyways.\n",
    "\n",
    "**WARNINGS**   \n",
    "Loading large files such as CMPNY data with a long window-frame can take quite a while and take over your memory. Start by loading very short periods (e.g., one month of data), then moving to ever longer periods. \n",
    "\n",
    "Check your asset class permissions. If you try downloading data for which no access was provided, it will give a Permission error:\n",
    "```python\n",
    "\"PermissionError\": [Errno 13] Access denied\n",
    "```   "
   ]
  },
  {
   "cell_type": "markdown",
   "metadata": {
    "id": "E0hd9ezyXjDb"
   },
   "source": [
    "<font color='blue'>Select options for loading the data after running the cell:</font> "
   ]
  },
  {
   "cell_type": "code",
   "execution_count": 4,
   "metadata": {
    "id": "wnqmnC5UXjDb"
   },
   "outputs": [
    {
     "data": {
      "application/vnd.jupyter.widget-view+json": {
       "model_id": "ccbcbde8e5f743fe9899002169dadb15",
       "version_major": 2,
       "version_minor": 0
      },
      "text/plain": [
       "Checkbox(value=True, description='Trial')"
      ]
     },
     "metadata": {},
     "output_type": "display_data"
    },
    {
     "data": {
      "application/vnd.jupyter.widget-view+json": {
       "model_id": "d10eb832d2a24722be1f23cba0ab8c03",
       "version_major": 2,
       "version_minor": 0
      },
      "text/plain": [
       "Dropdown(description='Asset class:', index=7, options=('CMPNY', 'CMPNY_AMER', 'CMPNY_APAC', 'CMPNY_EMEA', 'CMP…"
      ]
     },
     "metadata": {},
     "output_type": "display_data"
    },
    {
     "data": {
      "application/vnd.jupyter.widget-view+json": {
       "model_id": "cf7b11295a284b1885fd8fa01c1b1ff1",
       "version_major": 2,
       "version_minor": 0
      },
      "text/plain": [
       "Dropdown(description='Frequency:', index=1, options=('W365_UDAI', 'WDAI_UDAI', 'WDAI_UHOU', 'W01M_U01M'), valu…"
      ]
     },
     "metadata": {},
     "output_type": "display_data"
    },
    {
     "data": {
      "application/vnd.jupyter.widget-view+json": {
       "model_id": "487be1482d164b04b65a97e4e15bb4d6",
       "version_major": 2,
       "version_minor": 0
      },
      "text/plain": [
       "DatePicker(value=datetime.datetime(2020, 12, 1, 0, 0), description='Start date:')"
      ]
     },
     "metadata": {},
     "output_type": "display_data"
    },
    {
     "data": {
      "application/vnd.jupyter.widget-view+json": {
       "model_id": "cd6afb252db44966842b36fd988e4ce4",
       "version_major": 2,
       "version_minor": 0
      },
      "text/plain": [
       "DatePicker(value=datetime.datetime(2020, 12, 31, 0, 0), description='End date:')"
      ]
     },
     "metadata": {},
     "output_type": "display_data"
    },
    {
     "data": {
      "application/vnd.jupyter.widget-view+json": {
       "model_id": "63c702a0c07d4a9292bd5769c04c24e9",
       "version_major": 2,
       "version_minor": 0
      },
      "text/plain": [
       "Output()"
      ]
     },
     "metadata": {},
     "output_type": "display_data"
    }
   ],
   "source": [
    "lwdgts = mpwidgets.LoaderWidgets()\n",
    "lwdgts.display()"
   ]
  },
  {
   "cell_type": "code",
   "execution_count": 5,
   "metadata": {
    "id": "1Ey75Fs_XjDc"
   },
   "outputs": [
    {
     "data": {
      "text/html": [
       "<div>\n",
       "<style scoped>\n",
       "    .dataframe tbody tr th:only-of-type {\n",
       "        vertical-align: middle;\n",
       "    }\n",
       "\n",
       "    .dataframe tbody tr th {\n",
       "        vertical-align: top;\n",
       "    }\n",
       "\n",
       "    .dataframe thead th {\n",
       "        text-align: right;\n",
       "    }\n",
       "</style>\n",
       "<table border=\"1\" class=\"dataframe\">\n",
       "  <thead>\n",
       "    <tr style=\"text-align: right;\">\n",
       "      <th></th>\n",
       "      <th>id</th>\n",
       "      <th>assetCode</th>\n",
       "      <th>windowTimestamp</th>\n",
       "      <th>dataType</th>\n",
       "      <th>systemVersion</th>\n",
       "      <th>mentions</th>\n",
       "      <th>buzz</th>\n",
       "      <th>sentiment</th>\n",
       "      <th>negative</th>\n",
       "      <th>positive</th>\n",
       "      <th>...</th>\n",
       "      <th>overvaluedVsUndervalued</th>\n",
       "      <th>volatility</th>\n",
       "      <th>consumptionVolume</th>\n",
       "      <th>productionVolume</th>\n",
       "      <th>regulatoryIssues</th>\n",
       "      <th>supplyVsDemand</th>\n",
       "      <th>supplyVsDemandForecast</th>\n",
       "      <th>newExploration</th>\n",
       "      <th>safetyAccident</th>\n",
       "      <th>futureVsPast</th>\n",
       "    </tr>\n",
       "  </thead>\n",
       "  <tbody>\n",
       "    <tr>\n",
       "      <th>0</th>\n",
       "      <td>mp:2020-12-01_20.30.00.News.COM_ENM.ALU</td>\n",
       "      <td>ALU</td>\n",
       "      <td>2020-12-01T20:30:00.000Z</td>\n",
       "      <td>News</td>\n",
       "      <td>MP:4.0.0</td>\n",
       "      <td>261</td>\n",
       "      <td>1036.6</td>\n",
       "      <td>0.101775</td>\n",
       "      <td>0.188115</td>\n",
       "      <td>0.289890</td>\n",
       "      <td>...</td>\n",
       "      <td>NaN</td>\n",
       "      <td>0.045823</td>\n",
       "      <td>NaN</td>\n",
       "      <td>-0.001929</td>\n",
       "      <td>NaN</td>\n",
       "      <td>-0.013506</td>\n",
       "      <td>-0.005788</td>\n",
       "      <td>0.000965</td>\n",
       "      <td>NaN</td>\n",
       "      <td>-0.181266</td>\n",
       "    </tr>\n",
       "    <tr>\n",
       "      <th>1</th>\n",
       "      <td>mp:2020-12-01_20.30.00.News_Social.COM_ENM.ALU</td>\n",
       "      <td>ALU</td>\n",
       "      <td>2020-12-01T20:30:00.000Z</td>\n",
       "      <td>News_Social</td>\n",
       "      <td>MP:4.0.0</td>\n",
       "      <td>337</td>\n",
       "      <td>1253.7</td>\n",
       "      <td>0.099705</td>\n",
       "      <td>0.180266</td>\n",
       "      <td>0.279971</td>\n",
       "      <td>...</td>\n",
       "      <td>NaN</td>\n",
       "      <td>0.043471</td>\n",
       "      <td>NaN</td>\n",
       "      <td>0.000000</td>\n",
       "      <td>NaN</td>\n",
       "      <td>-0.003191</td>\n",
       "      <td>-0.003191</td>\n",
       "      <td>0.000798</td>\n",
       "      <td>NaN</td>\n",
       "      <td>-0.158650</td>\n",
       "    </tr>\n",
       "    <tr>\n",
       "      <th>2</th>\n",
       "      <td>mp:2020-12-01_20.30.00.News_Headline.COM_ENM.ALU</td>\n",
       "      <td>ALU</td>\n",
       "      <td>2020-12-01T20:30:00.000Z</td>\n",
       "      <td>News_Headline</td>\n",
       "      <td>MP:4.0.0</td>\n",
       "      <td>15</td>\n",
       "      <td>22.0</td>\n",
       "      <td>0.272727</td>\n",
       "      <td>0.181818</td>\n",
       "      <td>0.454545</td>\n",
       "      <td>...</td>\n",
       "      <td>NaN</td>\n",
       "      <td>NaN</td>\n",
       "      <td>NaN</td>\n",
       "      <td>NaN</td>\n",
       "      <td>NaN</td>\n",
       "      <td>NaN</td>\n",
       "      <td>NaN</td>\n",
       "      <td>NaN</td>\n",
       "      <td>NaN</td>\n",
       "      <td>0.363636</td>\n",
       "    </tr>\n",
       "    <tr>\n",
       "      <th>3</th>\n",
       "      <td>mp:2020-12-01_20.30.00.Social.COM_ENM.ALU</td>\n",
       "      <td>ALU</td>\n",
       "      <td>2020-12-01T20:30:00.000Z</td>\n",
       "      <td>Social</td>\n",
       "      <td>MP:4.0.0</td>\n",
       "      <td>76</td>\n",
       "      <td>217.1</td>\n",
       "      <td>0.089820</td>\n",
       "      <td>0.142791</td>\n",
       "      <td>0.232612</td>\n",
       "      <td>...</td>\n",
       "      <td>NaN</td>\n",
       "      <td>0.032243</td>\n",
       "      <td>NaN</td>\n",
       "      <td>0.009212</td>\n",
       "      <td>NaN</td>\n",
       "      <td>0.046062</td>\n",
       "      <td>0.009212</td>\n",
       "      <td>NaN</td>\n",
       "      <td>NaN</td>\n",
       "      <td>-0.050668</td>\n",
       "    </tr>\n",
       "    <tr>\n",
       "      <th>4</th>\n",
       "      <td>mp:2020-12-01_20.30.00.News.COM_ENM.ANGS</td>\n",
       "      <td>ANGS</td>\n",
       "      <td>2020-12-01T20:30:00.000Z</td>\n",
       "      <td>News</td>\n",
       "      <td>MP:4.0.0</td>\n",
       "      <td>19</td>\n",
       "      <td>110.0</td>\n",
       "      <td>0.254545</td>\n",
       "      <td>0.045455</td>\n",
       "      <td>0.300000</td>\n",
       "      <td>...</td>\n",
       "      <td>NaN</td>\n",
       "      <td>NaN</td>\n",
       "      <td>0.018182</td>\n",
       "      <td>NaN</td>\n",
       "      <td>NaN</td>\n",
       "      <td>-0.009091</td>\n",
       "      <td>NaN</td>\n",
       "      <td>NaN</td>\n",
       "      <td>NaN</td>\n",
       "      <td>-0.327273</td>\n",
       "    </tr>\n",
       "    <tr>\n",
       "      <th>...</th>\n",
       "      <td>...</td>\n",
       "      <td>...</td>\n",
       "      <td>...</td>\n",
       "      <td>...</td>\n",
       "      <td>...</td>\n",
       "      <td>...</td>\n",
       "      <td>...</td>\n",
       "      <td>...</td>\n",
       "      <td>...</td>\n",
       "      <td>...</td>\n",
       "      <td>...</td>\n",
       "      <td>...</td>\n",
       "      <td>...</td>\n",
       "      <td>...</td>\n",
       "      <td>...</td>\n",
       "      <td>...</td>\n",
       "      <td>...</td>\n",
       "      <td>...</td>\n",
       "      <td>...</td>\n",
       "      <td>...</td>\n",
       "      <td>...</td>\n",
       "    </tr>\n",
       "    <tr>\n",
       "      <th>4459</th>\n",
       "      <td>mp:2020-12-31_20.30.00.Social.COM_ENM.USCRU</td>\n",
       "      <td>USCRU</td>\n",
       "      <td>2020-12-31T20:30:00.000Z</td>\n",
       "      <td>Social</td>\n",
       "      <td>MP:4.0.0</td>\n",
       "      <td>1118</td>\n",
       "      <td>4281.6</td>\n",
       "      <td>0.084081</td>\n",
       "      <td>0.180306</td>\n",
       "      <td>0.264387</td>\n",
       "      <td>...</td>\n",
       "      <td>-0.001868</td>\n",
       "      <td>0.015415</td>\n",
       "      <td>0.000467</td>\n",
       "      <td>-0.000934</td>\n",
       "      <td>NaN</td>\n",
       "      <td>0.003970</td>\n",
       "      <td>-0.004905</td>\n",
       "      <td>0.000467</td>\n",
       "      <td>NaN</td>\n",
       "      <td>-0.083520</td>\n",
       "    </tr>\n",
       "    <tr>\n",
       "      <th>4460</th>\n",
       "      <td>mp:2020-12-31_20.30.00.News.COM_ENM.ZNC</td>\n",
       "      <td>ZNC</td>\n",
       "      <td>2020-12-31T20:30:00.000Z</td>\n",
       "      <td>News</td>\n",
       "      <td>MP:4.0.0</td>\n",
       "      <td>82</td>\n",
       "      <td>267.7</td>\n",
       "      <td>0.220396</td>\n",
       "      <td>0.115801</td>\n",
       "      <td>0.336197</td>\n",
       "      <td>...</td>\n",
       "      <td>NaN</td>\n",
       "      <td>0.011207</td>\n",
       "      <td>NaN</td>\n",
       "      <td>0.014942</td>\n",
       "      <td>NaN</td>\n",
       "      <td>0.014942</td>\n",
       "      <td>0.022413</td>\n",
       "      <td>0.007471</td>\n",
       "      <td>NaN</td>\n",
       "      <td>-0.222264</td>\n",
       "    </tr>\n",
       "    <tr>\n",
       "      <th>4461</th>\n",
       "      <td>mp:2020-12-31_20.30.00.News_Social.COM_ENM.ZNC</td>\n",
       "      <td>ZNC</td>\n",
       "      <td>2020-12-31T20:30:00.000Z</td>\n",
       "      <td>News_Social</td>\n",
       "      <td>MP:4.0.0</td>\n",
       "      <td>148</td>\n",
       "      <td>444.9</td>\n",
       "      <td>0.168577</td>\n",
       "      <td>0.148348</td>\n",
       "      <td>0.316925</td>\n",
       "      <td>...</td>\n",
       "      <td>NaN</td>\n",
       "      <td>0.010115</td>\n",
       "      <td>NaN</td>\n",
       "      <td>0.008991</td>\n",
       "      <td>NaN</td>\n",
       "      <td>0.008991</td>\n",
       "      <td>0.013486</td>\n",
       "      <td>0.004495</td>\n",
       "      <td>NaN</td>\n",
       "      <td>-0.102270</td>\n",
       "    </tr>\n",
       "    <tr>\n",
       "      <th>4462</th>\n",
       "      <td>mp:2020-12-31_20.30.00.News_Headline.COM_ENM.ZNC</td>\n",
       "      <td>ZNC</td>\n",
       "      <td>2020-12-31T20:30:00.000Z</td>\n",
       "      <td>News_Headline</td>\n",
       "      <td>MP:4.0.0</td>\n",
       "      <td>2</td>\n",
       "      <td>6.0</td>\n",
       "      <td>0.333333</td>\n",
       "      <td>NaN</td>\n",
       "      <td>0.333333</td>\n",
       "      <td>...</td>\n",
       "      <td>NaN</td>\n",
       "      <td>NaN</td>\n",
       "      <td>NaN</td>\n",
       "      <td>0.333333</td>\n",
       "      <td>NaN</td>\n",
       "      <td>0.333333</td>\n",
       "      <td>0.333333</td>\n",
       "      <td>NaN</td>\n",
       "      <td>NaN</td>\n",
       "      <td>1.000000</td>\n",
       "    </tr>\n",
       "    <tr>\n",
       "      <th>4463</th>\n",
       "      <td>mp:2020-12-31_20.30.00.Social.COM_ENM.ZNC</td>\n",
       "      <td>ZNC</td>\n",
       "      <td>2020-12-31T20:30:00.000Z</td>\n",
       "      <td>Social</td>\n",
       "      <td>MP:4.0.0</td>\n",
       "      <td>66</td>\n",
       "      <td>177.2</td>\n",
       "      <td>0.090293</td>\n",
       "      <td>0.197517</td>\n",
       "      <td>0.287810</td>\n",
       "      <td>...</td>\n",
       "      <td>NaN</td>\n",
       "      <td>0.008465</td>\n",
       "      <td>NaN</td>\n",
       "      <td>NaN</td>\n",
       "      <td>NaN</td>\n",
       "      <td>NaN</td>\n",
       "      <td>NaN</td>\n",
       "      <td>NaN</td>\n",
       "      <td>NaN</td>\n",
       "      <td>0.079007</td>\n",
       "    </tr>\n",
       "  </tbody>\n",
       "</table>\n",
       "<p>4464 rows × 43 columns</p>\n",
       "</div>"
      ],
      "text/plain": [
       "                                                    id assetCode  \\\n",
       "0              mp:2020-12-01_20.30.00.News.COM_ENM.ALU       ALU   \n",
       "1       mp:2020-12-01_20.30.00.News_Social.COM_ENM.ALU       ALU   \n",
       "2     mp:2020-12-01_20.30.00.News_Headline.COM_ENM.ALU       ALU   \n",
       "3            mp:2020-12-01_20.30.00.Social.COM_ENM.ALU       ALU   \n",
       "4             mp:2020-12-01_20.30.00.News.COM_ENM.ANGS      ANGS   \n",
       "...                                                ...       ...   \n",
       "4459       mp:2020-12-31_20.30.00.Social.COM_ENM.USCRU     USCRU   \n",
       "4460           mp:2020-12-31_20.30.00.News.COM_ENM.ZNC       ZNC   \n",
       "4461    mp:2020-12-31_20.30.00.News_Social.COM_ENM.ZNC       ZNC   \n",
       "4462  mp:2020-12-31_20.30.00.News_Headline.COM_ENM.ZNC       ZNC   \n",
       "4463         mp:2020-12-31_20.30.00.Social.COM_ENM.ZNC       ZNC   \n",
       "\n",
       "               windowTimestamp       dataType systemVersion  mentions    buzz  \\\n",
       "0     2020-12-01T20:30:00.000Z           News      MP:4.0.0       261  1036.6   \n",
       "1     2020-12-01T20:30:00.000Z    News_Social      MP:4.0.0       337  1253.7   \n",
       "2     2020-12-01T20:30:00.000Z  News_Headline      MP:4.0.0        15    22.0   \n",
       "3     2020-12-01T20:30:00.000Z         Social      MP:4.0.0        76   217.1   \n",
       "4     2020-12-01T20:30:00.000Z           News      MP:4.0.0        19   110.0   \n",
       "...                        ...            ...           ...       ...     ...   \n",
       "4459  2020-12-31T20:30:00.000Z         Social      MP:4.0.0      1118  4281.6   \n",
       "4460  2020-12-31T20:30:00.000Z           News      MP:4.0.0        82   267.7   \n",
       "4461  2020-12-31T20:30:00.000Z    News_Social      MP:4.0.0       148   444.9   \n",
       "4462  2020-12-31T20:30:00.000Z  News_Headline      MP:4.0.0         2     6.0   \n",
       "4463  2020-12-31T20:30:00.000Z         Social      MP:4.0.0        66   177.2   \n",
       "\n",
       "      sentiment  negative  positive  ...  overvaluedVsUndervalued  volatility  \\\n",
       "0      0.101775  0.188115  0.289890  ...                      NaN    0.045823   \n",
       "1      0.099705  0.180266  0.279971  ...                      NaN    0.043471   \n",
       "2      0.272727  0.181818  0.454545  ...                      NaN         NaN   \n",
       "3      0.089820  0.142791  0.232612  ...                      NaN    0.032243   \n",
       "4      0.254545  0.045455  0.300000  ...                      NaN         NaN   \n",
       "...         ...       ...       ...  ...                      ...         ...   \n",
       "4459   0.084081  0.180306  0.264387  ...                -0.001868    0.015415   \n",
       "4460   0.220396  0.115801  0.336197  ...                      NaN    0.011207   \n",
       "4461   0.168577  0.148348  0.316925  ...                      NaN    0.010115   \n",
       "4462   0.333333       NaN  0.333333  ...                      NaN         NaN   \n",
       "4463   0.090293  0.197517  0.287810  ...                      NaN    0.008465   \n",
       "\n",
       "      consumptionVolume  productionVolume  regulatoryIssues  supplyVsDemand  \\\n",
       "0                   NaN         -0.001929               NaN       -0.013506   \n",
       "1                   NaN          0.000000               NaN       -0.003191   \n",
       "2                   NaN               NaN               NaN             NaN   \n",
       "3                   NaN          0.009212               NaN        0.046062   \n",
       "4              0.018182               NaN               NaN       -0.009091   \n",
       "...                 ...               ...               ...             ...   \n",
       "4459           0.000467         -0.000934               NaN        0.003970   \n",
       "4460                NaN          0.014942               NaN        0.014942   \n",
       "4461                NaN          0.008991               NaN        0.008991   \n",
       "4462                NaN          0.333333               NaN        0.333333   \n",
       "4463                NaN               NaN               NaN             NaN   \n",
       "\n",
       "      supplyVsDemandForecast  newExploration  safetyAccident  futureVsPast  \n",
       "0                  -0.005788        0.000965             NaN     -0.181266  \n",
       "1                  -0.003191        0.000798             NaN     -0.158650  \n",
       "2                        NaN             NaN             NaN      0.363636  \n",
       "3                   0.009212             NaN             NaN     -0.050668  \n",
       "4                        NaN             NaN             NaN     -0.327273  \n",
       "...                      ...             ...             ...           ...  \n",
       "4459               -0.004905        0.000467             NaN     -0.083520  \n",
       "4460                0.022413        0.007471             NaN     -0.222264  \n",
       "4461                0.013486        0.004495             NaN     -0.102270  \n",
       "4462                0.333333             NaN             NaN      1.000000  \n",
       "4463                     NaN             NaN             NaN      0.079007  \n",
       "\n",
       "[4464 rows x 43 columns]"
      ]
     },
     "metadata": {},
     "output_type": "display_data"
    },
    {
     "name": "stdout",
     "output_type": "stream",
     "text": [
      "CPU times: user 140 ms, sys: 31.6 ms, total: 171 ms\n",
      "Wall time: 8.72 s\n"
     ]
    }
   ],
   "source": [
    "%%time\n",
    "\n",
    "df = client.download(\n",
    "    asset_class=sftp.AssetClass[lwdgts.asset_class_widget.value],\n",
    "    frequency=sftp.Frequency[lwdgts.frequency_widget.value],\n",
    "    start=lwdgts.start_date_widget.value,\n",
    "    end=lwdgts.end_date_widget.value,\n",
    "    trial=lwdgts.trial_check_widget.value\n",
    ")\n",
    "\n",
    "display(df)"
   ]
  },
  {
   "cell_type": "markdown",
   "metadata": {
    "id": "lG38ufuOXjDc"
   },
   "source": [
    "If you can see a dataframe above, congratulations! You have downloaded some data into your notebook. From here, you can have fun exploring it. Below, you'll find a plotting tool for some simple understanding of the data."
   ]
  },
  {
   "cell_type": "markdown",
   "metadata": {
    "id": "vRmZMNnOXjDd"
   },
   "source": [
    "---\n",
    "## Visualizing the data"
   ]
  },
  {
   "cell_type": "markdown",
   "metadata": {
    "id": "Q3gRkoiDXjDd"
   },
   "source": [
    "Below you can use the widgets to do some very basic exploration. A description of the widgets is given below.\n",
    "\n",
    "- The **Data Type** field represents the type of content source(s) on which the RMAs are based. There are four possible values:\n",
    "    - `News` for news sources (headlines and corpus)\n",
    "    - `News_Headline` for the headline only of news sources\n",
    "    - `Social` for social media sources\n",
    "    - `News_Social` for the combined content               \n",
    "\n",
    "\n",
    "- The **Anaytics** field represents the RMA. The actual values will depend on the asset class. Several types of indicators are provided:\n",
    "    - Emotional indicators such as Anger, Fear and Joy\n",
    "    - 'Economic' metrics including Earnings Forecast, Interest Rate Forecast, Long vs. Short \n",
    "    - ESG measures including CarbonEmissionsControversy, ManagementTrust, and WorkplaceSafety\n",
    "    - etc. \n",
    "\n",
    "\n",
    "- The **Asset** field represents the asset of choice. To see all options, clear the cell. For a description of each asset, please search for the asset code in the User Guide or Eikon app.\n",
    "\n",
    "\n",
    "- The **Roll. window** field represents the length in the smoothing function (a simple moving average).\n",
    "\n",
    "The indicators are updated every minute for companies, sectors, regions, countries, commodities, indices, bonds, currencies and cryptocurrencies. They can be translated directly into spreadsheets or charts that can be monitored by traders, risk managers or analysts – or they can be plugged straight into your algorithms for low frequency or longer-term asset allocation or sector rotation decisions.\n",
    "\n",
    "**WARNING**                \n",
    "If your plot is empty, it is likely that there is no data for that combination of the three top variables. "
   ]
  },
  {
   "cell_type": "markdown",
   "metadata": {
    "id": "SmghmdmVXjDe"
   },
   "source": [
    "<font color='blue'>Select options for plotting the data after running the cell:</font> "
   ]
  },
  {
   "cell_type": "code",
   "execution_count": 6,
   "metadata": {
    "id": "5WnWyucGXjDe"
   },
   "outputs": [
    {
     "data": {
      "application/vnd.jupyter.widget-view+json": {
       "model_id": "1b138a9a4a2d4126967e9178e9d3922e",
       "version_major": 2,
       "version_minor": 0
      },
      "text/plain": [
       "HBox(children=(Dropdown(description='Data Type:', index=2, options=('News', 'News_Headline', 'News_Social', 'S…"
      ]
     },
     "metadata": {},
     "output_type": "display_data"
    },
    {
     "data": {
      "application/vnd.jupyter.widget-view+json": {
       "model_id": "19fab121fca542bf9af73b4b8a56fbc6",
       "version_major": 2,
       "version_minor": 0
      },
      "text/plain": [
       "HBox(children=(Checkbox(value=True, description='Buzz-Weighted'), BoundedIntText(value=1, continuous_update=Tr…"
      ]
     },
     "metadata": {},
     "output_type": "display_data"
    },
    {
     "data": {
      "application/vnd.jupyter.widget-view+json": {
       "model_id": "80b521282a9e46f59829f33bf02f635c",
       "version_major": 2,
       "version_minor": 0
      },
      "text/plain": [
       "Tab(children=(Output(), Output()), _titles={'0': 'RMA plot', '1': 'RMA data'})"
      ]
     },
     "metadata": {},
     "output_type": "display_data"
    }
   ],
   "source": [
    "swdgts = mpwidgets.SlicerWidgets(df)\n",
    "swdgts.display()"
   ]
  },
  {
   "cell_type": "code",
   "execution_count": null,
   "metadata": {},
   "outputs": [],
   "source": []
  }
 ],
 "metadata": {
  "colab": {
   "collapsed_sections": [],
   "include_colab_link": true,
   "name": "load_data_colab.ipynb",
   "provenance": []
  },
  "kernelspec": {
   "display_name": "Python 3",
   "language": "python",
   "name": "python3"
  },
  "language_info": {
   "codemirror_mode": {
    "name": "ipython",
    "version": 3
   },
   "file_extension": ".py",
   "mimetype": "text/x-python",
   "name": "python",
   "nbconvert_exporter": "python",
   "pygments_lexer": "ipython3",
   "version": "3.7.4"
  }
 },
 "nbformat": 4,
 "nbformat_minor": 1
}
