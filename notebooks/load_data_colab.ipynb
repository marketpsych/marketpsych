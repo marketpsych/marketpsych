{
  "nbformat": 4,
  "nbformat_minor": 0,
  "metadata": {
    "kernelspec": {
      "display_name": "Python 3",
      "language": "python",
      "name": "python3"
    },
    "language_info": {
      "codemirror_mode": {
        "name": "ipython",
        "version": 3
      },
      "file_extension": ".py",
      "mimetype": "text/x-python",
      "name": "python",
      "nbconvert_exporter": "python",
      "pygments_lexer": "ipython3",
      "version": "3.8.5"
    },
    "colab": {
      "name": "load_data_colab.ipynb",
      "provenance": [],
      "collapsed_sections": []
    }
  },
  "cells": [
    {
      "cell_type": "markdown",
      "metadata": {
        "id": "AuDdMiAuYnx1"
      },
      "source": [
        "[![Open In Colab](https://colab.research.google.com/assets/colab-badge.svg)](https://colab.research.google.com/github/marketpsych/marketpsych/blob/main/notebooks/load_data_colab.ipynb)"
      ]
    },
    {
      "cell_type": "markdown",
      "metadata": {
        "id": "6oEg5liYXjDR"
      },
      "source": [
        "# Loading CSV files directly from SFTP\n",
        "\n",
        "This notebook shows how to load MarketPsych's data with your SFTP credentials directly into a Jupyter Notebook. Note, however, that this notebook is an **alpha version**. For more robust testing, we recommend downloading the trialing flat files, as instructed by the MRNSupport, and then loading them into your own environment. "
      ]
    },
    {
      "cell_type": "markdown",
      "metadata": {
        "id": "OeDQ4hDmXjDV"
      },
      "source": [
        "---\n",
        "## Settings\n",
        "In order to have this example working, you'll need to install MarketPsych's library. Additionally, this notebook uses some widgets to facilitate with your navigation. To install the libraries and enable widgets, please run the following cell. "
      ]
    },
    {
      "cell_type": "code",
      "metadata": {
        "id": "moMyEx-HXjDW"
      },
      "source": [
        "import sys\n",
        "# Installs marketpsych library into your environment\n",
        "!{sys.executable} -m pip install marketpsych --upgrade --quiet\n",
        "# Installs ipywidget library into your environment\n",
        "!{sys.executable} -m pip install ipywidgets --upgrade --quiet\n",
        "\n",
        "## Libraries\n",
        "from marketpsych import sftp\n",
        "from marketpsych import mpwidgets\n",
        "\n",
        "# Allows using the widgets\n",
        "!{sys.executable} -m jupyter nbextension enable --py widgetsnbextension\n",
        "\n",
        "from IPython.core.magic import register_cell_magic\n",
        "from IPython.display import HTML, display\n"
      ],
      "execution_count": null,
      "outputs": []
    },
    {
      "cell_type": "markdown",
      "metadata": {
        "id": "xjX_TfMuXjDZ"
      },
      "source": [
        "---\n",
        "## Selecting your login credentials\n",
        "\n",
        "Now you should be able to input your credentials. I.e., the path to the `Key file`, and `UserID` as provided by the MRNSupport. \n",
        "\n",
        "\n",
        "\n",
        "<font color='blue'>1. Run the following cell.</font>                      \n",
        "<font color='blue'>2. Make your selections through the widgets.</font>                      \n",
        "\n",
        "\n",
        "\n",
        "Click on the `Key file` button to select the file. The User ID to the right will be filled automatically. Now that your selection has been made, move on to the next cell."
      ]
    },
    {
      "cell_type": "code",
      "metadata": {
        "id": "lshp6uE7XjDZ"
      },
      "source": [
        "cwdgts = mpwidgets.LoginWidgets()\n",
        "cwdgts.display()"
      ],
      "execution_count": null,
      "outputs": []
    },
    {
      "cell_type": "code",
      "metadata": {
        "id": "ev5drG1RXjDa"
      },
      "source": [
        "# Creates client\n",
        "client = sftp.connect(user=cwdgts.id_widget.value, key=cwdgts.key_widget.content)"
      ],
      "execution_count": null,
      "outputs": []
    },
    {
      "cell_type": "markdown",
      "metadata": {
        "id": "b5qMK0ElXjDa"
      },
      "source": [
        "---\n",
        "## Loading the data\n",
        "\n",
        "Finally, you can download the files directly into a pandas dataframe. The options can be defined through the 5 widgets below.\n",
        "\n",
        " - Select the checkbox if you are trialing the data. In some special cases, even if you are trialing, you may need to uncheck it (you can try both options in case of Permission errors).\n",
        "\n",
        " - The options for **Asset class** are:  \n",
        "\n",
        "|Asset class   | Description|\n",
        "|:-------------|:------------|\n",
        "|`CMPNY`       | Individual companies|\n",
        "|`CMPNY_AMER`  | Individual companies domiciled in America|\n",
        "|`CMPNY_APAC`  | Individual companies domiciled in APAC|\n",
        "|`CMPNY_EMEA`  | Individual companies domiciled in EMEA|\n",
        "|`CMPNY_ESG`   | Individual companies (ESG package)|\n",
        "|`CMPNY_GRP`   | Company groups and ETFs|\n",
        "|`COM_AGR`     | Agricultural commodities|  \n",
        "|`COM_ENM`     | Energy and Metals|\n",
        "|`COU`         | Countries|\n",
        "|`COU_ESG`     | Countries (ESG package)|\n",
        "|`COU_MKT`     | Stock indices, sovereign bonds, real estate|\n",
        "|`CRYPTO`      | Cryptocurrencies|\n",
        "|`CUR`         | Currencies|  \n",
        "\n",
        " - The options for **frequencies** are:  \n",
        "  \n",
        "|Frequency  | Description| Use case |\n",
        "|:----------|:-----------|:---------|\n",
        "|`W365_UDAI`| Yearly lookback window and daily updates| ESG Core only |\n",
        "|`WDAI_UDAI`| Daily lookback window and daily updates| Daily data stamped 30 minutes before the NYSE close|\n",
        "|`WDAI_UHOU`| Daily lookback window and hourly updates| Daily data stamped hourly (in case you want daily data adjusted to your time-zone) |\n",
        "|`W01M_U01M`| Minutely lookback window and minutely updates| Low-latency data (**WARNING:** extremely large datasets)|\n",
        " \n",
        "- Regarding **dates**, simply select the start and end dates of interest. Note that for dates older than 2 months (with respect to your current date), the files are packaged in monthly batches. Hence, only the selection of month will matter and not the specific day. For example, if you select `2020-12-25` as the start or end date, the full `2020-12` month will be loaded anyways.\n",
        "\n",
        "**WARNING**   \n",
        "Loading large files such as CMPNY data with a long window-frame can take quite a while and take over your memory. Start by loading very short periods (e.g., one month of data), then moving to ever longer periods. "
      ]
    },
    {
      "cell_type": "markdown",
      "metadata": {
        "id": "E0hd9ezyXjDb"
      },
      "source": [
        "<font color='blue'>Select options for loading the data after running the cell:</font> "
      ]
    },
    {
      "cell_type": "code",
      "metadata": {
        "id": "wnqmnC5UXjDb"
      },
      "source": [
        "lwdgts = mpwidgets.LoaderWidgets()\n",
        "lwdgts.display()"
      ],
      "execution_count": null,
      "outputs": []
    },
    {
      "cell_type": "markdown",
      "metadata": {
        "id": "wvKB3UmzXjDc"
      },
      "source": [
        "**WARNING**    \n",
        "Check your asset class permissions. If you try downloading data for which no access was provided, it will give a Permission error:\n",
        "```python\n",
        "\"PermissionError\": [Errno 13] Access denied\n",
        "```   "
      ]
    },
    {
      "cell_type": "code",
      "metadata": {
        "id": "1Ey75Fs_XjDc"
      },
      "source": [
        "%%time\n",
        "\n",
        "df = client.download(\n",
        "    asset_class=sftp.AssetClass[lwdgts.asset_class_widget.value],\n",
        "    frequency=sftp.Frequency[lwdgts.frequency_widget.value],\n",
        "    start=lwdgts.start_date_widget.value,\n",
        "    end=lwdgts.end_date_widget.value,\n",
        "    trial=lwdgts.trial_check_widget.value\n",
        ")\n",
        "\n",
        "display(df)"
      ],
      "execution_count": null,
      "outputs": []
    },
    {
      "cell_type": "markdown",
      "metadata": {
        "id": "lG38ufuOXjDc"
      },
      "source": [
        "If you can see a dataframe above, congratulations! You have downloaded some data into your notebook. From here, you can have fun exploring it. Below, you'll find a plotting tool for some simple understanding of the data."
      ]
    },
    {
      "cell_type": "markdown",
      "metadata": {
        "id": "vRmZMNnOXjDd"
      },
      "source": [
        "---\n",
        "## Visualizing the data"
      ]
    },
    {
      "cell_type": "markdown",
      "metadata": {
        "id": "Q3gRkoiDXjDd"
      },
      "source": [
        "Below you can use the widgets to do some very basic exploration. A description of the widgets is given below.\n",
        "\n",
        "- The **Data Type** field represents the type of content source(s) on which the RMAs are based. There are four possible values:\n",
        "    - `News` for news sources (headlines and corpus)\n",
        "    - `News_Headline` for the headline only of news sources\n",
        "    - `Social` for social media sources\n",
        "    - `News_Social` for the combined content               \n",
        "\n",
        "\n",
        "- The **Anaytics** field represents the RMA. The actual values will depend on the asset class. Several types of indicators are provided:\n",
        "    - Emotional indicators such as Anger, Fear and Joy\n",
        "    - 'Economic' metrics including Earnings Forecast, Interest Rate Forecast, Long vs. Short \n",
        "    - ESG measures including CarbonEmissionsControversy, ManagementTrust, and WorkplaceSafety\n",
        "    - etc. \n",
        "\n",
        "\n",
        "- The **Asset** field represents the asset of choice. To see all options, clear the cell. For a description of each asset, please search for the asset code in the User Guide or Eikon app.\n",
        "\n",
        "\n",
        "- The **Roll. window** field represents the length in the smoothing function (a simple moving average).\n",
        "\n",
        "The indicators are updated every minute for companies, sectors, regions, countries, commodities, indices, bonds, currencies and cryptocurrencies. They can be translated directly into spreadsheets or charts that can be monitored by traders, risk managers or analysts – or they can be plugged straight into your algorithms for low frequency or longer-term asset allocation or sector rotation decisions.\n",
        "\n",
        "**WARNING**                \n",
        "If your plot is empty, it is likely that there is no data for that combination of the three top variables. "
      ]
    },
    {
      "cell_type": "markdown",
      "metadata": {
        "id": "SmghmdmVXjDe"
      },
      "source": [
        "<font color='blue'>Select options for plotting the data after running the cell:</font> "
      ]
    },
    {
      "cell_type": "code",
      "metadata": {
        "id": "5WnWyucGXjDe"
      },
      "source": [
        "swdgts = mpwidgets.SlicerWidgets(df)\n",
        "swdgts.display()"
      ],
      "execution_count": null,
      "outputs": []
    }
  ]
}