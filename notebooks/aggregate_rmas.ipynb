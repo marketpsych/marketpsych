{
  "nbformat": 4,
  "nbformat_minor": 0,
  "metadata": {
    "colab": {
      "name": "aggregate_rmas.ipynb",
      "provenance": [],
      "collapsed_sections": [],
      "include_colab_link": true
    },
    "kernelspec": {
      "display_name": "Python 3",
      "language": "python",
      "name": "python3"
    },
    "language_info": {
      "codemirror_mode": {
        "name": "ipython",
        "version": 3
      },
      "file_extension": ".py",
      "mimetype": "text/x-python",
      "name": "python",
      "nbconvert_exporter": "python",
      "pygments_lexer": "ipython3",
      "version": "3.7.4"
    },
    "widgets": {
      "application/vnd.jupyter.widget-state+json": {
        "5b1c04c1136649f6b469b5077f6ea1bd": {
          "model_module": "@jupyter-widgets/controls",
          "model_name": "HBoxModel",
          "state": {
            "_view_name": "HBoxView",
            "_dom_classes": [],
            "_model_name": "HBoxModel",
            "_view_module": "@jupyter-widgets/controls",
            "_model_module_version": "1.5.0",
            "_view_count": null,
            "_view_module_version": "1.5.0",
            "box_style": "",
            "layout": "IPY_MODEL_989d64abb01448039ae9507285585e2e",
            "_model_module": "@jupyter-widgets/controls",
            "children": [
              "IPY_MODEL_5f423537448c4ac581e25a5de4a72753",
              "IPY_MODEL_ec66e7a75a7d4497b55e336288f9fcca"
            ]
          }
        },
        "989d64abb01448039ae9507285585e2e": {
          "model_module": "@jupyter-widgets/base",
          "model_name": "LayoutModel",
          "state": {
            "_view_name": "LayoutView",
            "grid_template_rows": null,
            "right": null,
            "justify_content": null,
            "_view_module": "@jupyter-widgets/base",
            "overflow": null,
            "_model_module_version": "1.2.0",
            "_view_count": null,
            "flex_flow": null,
            "width": null,
            "min_width": null,
            "border": null,
            "align_items": null,
            "bottom": null,
            "_model_module": "@jupyter-widgets/base",
            "top": null,
            "grid_column": null,
            "overflow_y": null,
            "overflow_x": null,
            "grid_auto_flow": null,
            "grid_area": null,
            "grid_template_columns": null,
            "flex": null,
            "_model_name": "LayoutModel",
            "justify_items": null,
            "grid_row": null,
            "max_height": null,
            "align_content": null,
            "visibility": null,
            "align_self": null,
            "height": null,
            "min_height": null,
            "padding": null,
            "grid_auto_rows": null,
            "grid_gap": null,
            "max_width": null,
            "order": null,
            "_view_module_version": "1.2.0",
            "grid_template_areas": null,
            "object_position": null,
            "object_fit": null,
            "grid_auto_columns": null,
            "margin": null,
            "display": null,
            "left": null
          }
        },
        "5f423537448c4ac581e25a5de4a72753": {
          "model_module": "@jupyter-widgets/controls",
          "model_name": "FileUploadModel",
          "state": {
            "_view_name": "FileUploadView",
            "_counter": 1,
            "style": "IPY_MODEL_730ecf18040d4bbfa2ecdea4faf08fd9",
            "_dom_classes": [],
            "description": "Key File:",
            "multiple": false,
            "_model_name": "FileUploadModel",
            "data": [
              null
            ],
            "button_style": "",
            "_view_module": "@jupyter-widgets/controls",
            "_model_module_version": "1.5.0",
            "accept": "",
            "_view_count": null,
            "disabled": false,
            "_view_module_version": "1.5.0",
            "error": "",
            "description_tooltip": null,
            "metadata": [
              {
                "name": "8955490",
                "type": "",
                "size": 1675,
                "lastModified": 1622627855422
              }
            ],
            "_model_module": "@jupyter-widgets/controls",
            "layout": "IPY_MODEL_20b4cf0e45bf4602917f76e96c2dca99",
            "icon": "upload"
          }
        },
        "ec66e7a75a7d4497b55e336288f9fcca": {
          "model_module": "@jupyter-widgets/controls",
          "model_name": "TextModel",
          "state": {
            "_view_name": "TextView",
            "style": "IPY_MODEL_37d234fe5a8f466c9395cb8177d5e3c7",
            "_dom_classes": [],
            "description": "User ID:",
            "_model_name": "TextModel",
            "placeholder": "Type your User ID",
            "_view_module": "@jupyter-widgets/controls",
            "_model_module_version": "1.5.0",
            "value": "8955490",
            "_view_count": null,
            "disabled": false,
            "_view_module_version": "1.5.0",
            "continuous_update": true,
            "description_tooltip": null,
            "_model_module": "@jupyter-widgets/controls",
            "layout": "IPY_MODEL_05c43467311e443eb2b4cc1b36580bdb"
          }
        },
        "730ecf18040d4bbfa2ecdea4faf08fd9": {
          "model_module": "@jupyter-widgets/controls",
          "model_name": "ButtonStyleModel",
          "state": {
            "_view_name": "StyleView",
            "_model_name": "ButtonStyleModel",
            "_view_module": "@jupyter-widgets/base",
            "_model_module_version": "1.5.0",
            "_view_count": null,
            "button_color": null,
            "font_weight": "",
            "_view_module_version": "1.2.0",
            "_model_module": "@jupyter-widgets/controls"
          }
        },
        "20b4cf0e45bf4602917f76e96c2dca99": {
          "model_module": "@jupyter-widgets/base",
          "model_name": "LayoutModel",
          "state": {
            "_view_name": "LayoutView",
            "grid_template_rows": null,
            "right": null,
            "justify_content": null,
            "_view_module": "@jupyter-widgets/base",
            "overflow": null,
            "_model_module_version": "1.2.0",
            "_view_count": null,
            "flex_flow": null,
            "width": null,
            "min_width": null,
            "border": null,
            "align_items": null,
            "bottom": null,
            "_model_module": "@jupyter-widgets/base",
            "top": null,
            "grid_column": null,
            "overflow_y": null,
            "overflow_x": null,
            "grid_auto_flow": null,
            "grid_area": null,
            "grid_template_columns": null,
            "flex": null,
            "_model_name": "LayoutModel",
            "justify_items": null,
            "grid_row": null,
            "max_height": null,
            "align_content": null,
            "visibility": null,
            "align_self": null,
            "height": null,
            "min_height": null,
            "padding": null,
            "grid_auto_rows": null,
            "grid_gap": null,
            "max_width": null,
            "order": null,
            "_view_module_version": "1.2.0",
            "grid_template_areas": null,
            "object_position": null,
            "object_fit": null,
            "grid_auto_columns": null,
            "margin": null,
            "display": null,
            "left": null
          }
        },
        "37d234fe5a8f466c9395cb8177d5e3c7": {
          "model_module": "@jupyter-widgets/controls",
          "model_name": "DescriptionStyleModel",
          "state": {
            "_view_name": "StyleView",
            "_model_name": "DescriptionStyleModel",
            "description_width": "",
            "_view_module": "@jupyter-widgets/base",
            "_model_module_version": "1.5.0",
            "_view_count": null,
            "_view_module_version": "1.2.0",
            "_model_module": "@jupyter-widgets/controls"
          }
        },
        "05c43467311e443eb2b4cc1b36580bdb": {
          "model_module": "@jupyter-widgets/base",
          "model_name": "LayoutModel",
          "state": {
            "_view_name": "LayoutView",
            "grid_template_rows": null,
            "right": null,
            "justify_content": null,
            "_view_module": "@jupyter-widgets/base",
            "overflow": null,
            "_model_module_version": "1.2.0",
            "_view_count": null,
            "flex_flow": null,
            "width": null,
            "min_width": null,
            "border": null,
            "align_items": null,
            "bottom": null,
            "_model_module": "@jupyter-widgets/base",
            "top": null,
            "grid_column": null,
            "overflow_y": null,
            "overflow_x": null,
            "grid_auto_flow": null,
            "grid_area": null,
            "grid_template_columns": null,
            "flex": null,
            "_model_name": "LayoutModel",
            "justify_items": null,
            "grid_row": null,
            "max_height": null,
            "align_content": null,
            "visibility": null,
            "align_self": null,
            "height": null,
            "min_height": null,
            "padding": null,
            "grid_auto_rows": null,
            "grid_gap": null,
            "max_width": null,
            "order": null,
            "_view_module_version": "1.2.0",
            "grid_template_areas": null,
            "object_position": null,
            "object_fit": null,
            "grid_auto_columns": null,
            "margin": null,
            "display": null,
            "left": null
          }
        }
      }
    }
  },
  "cells": [
    {
      "cell_type": "markdown",
      "metadata": {
        "id": "view-in-github",
        "colab_type": "text"
      },
      "source": [
        "<a href=\"https://colab.research.google.com/github/marketpsych/marketpsych/blob/main/notebooks/aggregate_rmas.ipynb\" target=\"_parent\"><img src=\"https://colab.research.google.com/assets/colab-badge.svg\" alt=\"Open In Colab\"/></a>"
      ]
    },
    {
      "cell_type": "markdown",
      "metadata": {
        "id": "6oEg5liYXjDR"
      },
      "source": [
        "# Aggregating Data into Longer Time Windows\n",
        "\n",
        "This notebook shows how to aggregate MarketPsych's daily data into longer time windows. The latter procedure is interesting particularly when looking for long-term signals, e.g., monthly turnovers or even lower frequencies. In such cases, given that MarketPsych provides data with a daily frequency at its highest latency (other options being hourly and minutely), one needs to aggregate the data into lower-frequency updates. In this notebook, we explore a couple of aggregation options. We also show how one can use the aggregated data to create a financial factor."
      ]
    },
    {
      "cell_type": "markdown",
      "metadata": {
        "id": "OeDQ4hDmXjDV"
      },
      "source": [
        "---\n",
        "## 1. Settings\n",
        "First, we need to install some libraries to obtain MarketPsych's data directly into this notebook. If you need more details about downloading the data, please check out the *load_data* notebook also provided on our GitHub page. Overall, you just need to run the following cells."
      ]
    },
    {
      "cell_type": "code",
      "metadata": {
        "id": "moMyEx-HXjDW",
        "outputId": "b29aa87b-9068-4f2d-9cdf-9481a3a2a011",
        "colab": {
          "base_uri": "https://localhost:8080/"
        }
      },
      "source": [
        "import sys\n",
        "# Installs marketpsych's library into your environment\n",
        "!{sys.executable} -m pip install marketpsych --upgrade --quiet\n",
        "# Installs ipywidget library into your environment\n",
        "!{sys.executable} -m pip install ipywidgets --upgrade --quiet\n",
        "\n",
        "## Libraries\n",
        "from marketpsych import sftp\n",
        "from marketpsych import mpwidgets\n",
        "\n",
        "# Allows using the widgets\n",
        "!{sys.executable} -m jupyter nbextension enable --py widgetsnbextension\n",
        "\n",
        "from IPython.core.magic import register_cell_magic\n",
        "from IPython.display import HTML, display"
      ],
      "execution_count": 1,
      "outputs": [
        {
          "output_type": "stream",
          "text": [
            "\u001b[K     |████████████████████████████████| 61kB 6.9MB/s \n",
            "\u001b[K     |████████████████████████████████| 215kB 29.6MB/s \n",
            "\u001b[K     |████████████████████████████████| 256kB 49.1MB/s \n",
            "\u001b[K     |████████████████████████████████| 71kB 8.5MB/s \n",
            "\u001b[K     |████████████████████████████████| 962kB 33.1MB/s \n",
            "\u001b[K     |████████████████████████████████| 3.2MB 31.7MB/s \n",
            "\u001b[?25hEnabling notebook extension jupyter-js-widgets/extension...\n",
            "      - Validating: \u001b[32mOK\u001b[0m\n"
          ],
          "name": "stdout"
        }
      ]
    },
    {
      "cell_type": "markdown",
      "metadata": {
        "id": "VqohI41W5OFi"
      },
      "source": [
        "Some standard libraries that are also necessary:"
      ]
    },
    {
      "cell_type": "code",
      "metadata": {
        "id": "J_CMPJBZ5OFi",
        "outputId": "8804bef9-35b0-48e1-a088-0450c832a746",
        "colab": {
          "base_uri": "https://localhost:8080/"
        }
      },
      "source": [
        "# Standard libraries also necessary\n",
        "import datetime\n",
        "import math\n",
        "import matplotlib.pyplot as plt\n",
        "import matplotlib.gridspec as gridspec\n",
        "import pandas as pd\n",
        "\n",
        "!{sys.executable} -m pip install yfinance --upgrade --quiet\n",
        "import yfinance as yf"
      ],
      "execution_count": 2,
      "outputs": [
        {
          "output_type": "stream",
          "text": [
            "\u001b[K     |████████████████████████████████| 6.3MB 27.0MB/s \n",
            "\u001b[?25h  Building wheel for yfinance (setup.py) ... \u001b[?25l\u001b[?25hdone\n"
          ],
          "name": "stdout"
        }
      ]
    },
    {
      "cell_type": "markdown",
      "metadata": {
        "id": "0Gkbvmpe5OFj"
      },
      "source": [
        "In case the standard libraries in the above cell are not installed in your environment, please `pip install` them, for example:\n",
        "\n",
        "```python\n",
        "!{sys.executable} -m pip install padas --upgrade --quiet\n",
        "```"
      ]
    },
    {
      "cell_type": "markdown",
      "metadata": {
        "id": "xjX_TfMuXjDZ"
      },
      "source": [
        "The following widget allows you to easily input your key.\n",
        "     \n",
        "<font color='blue'>1. Run the following cell once. After running it, you should see two widgets.</font>  \n",
        "<font color='blue'>2. Click on the uploader named `Key File` and select your .ppk key.</font>        \n",
        "<font color='blue'>3. Check if your `User ID` is correct, if not, change it manually.</font>  \n",
        "<font color='blue'>4. Move on to the next cell.</font> "
      ]
    },
    {
      "cell_type": "code",
      "metadata": {
        "colab": {
          "base_uri": "https://localhost:8080/",
          "height": 49,
          "referenced_widgets": [
            "5b1c04c1136649f6b469b5077f6ea1bd",
            "989d64abb01448039ae9507285585e2e",
            "5f423537448c4ac581e25a5de4a72753",
            "ec66e7a75a7d4497b55e336288f9fcca",
            "730ecf18040d4bbfa2ecdea4faf08fd9",
            "20b4cf0e45bf4602917f76e96c2dca99",
            "37d234fe5a8f466c9395cb8177d5e3c7",
            "05c43467311e443eb2b4cc1b36580bdb"
          ]
        },
        "id": "lshp6uE7XjDZ",
        "outputId": "8ca57737-95ad-4291-9534-858ad99d5c98"
      },
      "source": [
        "cwdgts = mpwidgets.LoginWidgets()\n",
        "cwdgts.display()"
      ],
      "execution_count": 3,
      "outputs": [
        {
          "output_type": "display_data",
          "data": {
            "application/vnd.jupyter.widget-view+json": {
              "model_id": "5b1c04c1136649f6b469b5077f6ea1bd",
              "version_minor": 0,
              "version_major": 2
            },
            "text/plain": [
              "HBox(children=(FileUpload(value={}, description='Key File:'), Text(value='', description='User ID:', placehold…"
            ]
          },
          "metadata": {
            "tags": []
          }
        }
      ]
    },
    {
      "cell_type": "code",
      "metadata": {
        "id": "ev5drG1RXjDa"
      },
      "source": [
        "# Creates client\n",
        "client = sftp.connect(user=cwdgts.id_widget.value, key=cwdgts.key_widget.content)"
      ],
      "execution_count": 4,
      "outputs": []
    },
    {
      "cell_type": "markdown",
      "metadata": {
        "id": "b5qMK0ElXjDa"
      },
      "source": [
        "### 1.2 Loading the data\n",
        "\n",
        "#### RMA\n",
        "\n",
        "Let's download the files directly into a pandas dataframe. In this example, we will look into some of the most traded metals, which are available in the `COM_ENM` package. You can easily adapt this example to your use case by selecting another set of assets as available in your trial/subscription. Note, however, that downloading `CMPNY` data can take +100Gb of memory. Hence, if you are working with the `CMPNY` class, we strongly recommend you download the data to your disk. The same for long time-windows and for the minutely/hourly data. Please check the documentation of the `client.download` function below to learn how to do it."
      ]
    },
    {
      "cell_type": "code",
      "metadata": {
        "id": "f1Pxtosu5OFl"
      },
      "source": [
        "########## INPUTS ########\n",
        "assetClass = 'COM_ENM'\n",
        "frequency  = 'WDAI_UDAI'\n",
        "start_date = datetime.datetime(2016, 1, 1)\n",
        "end_date   = datetime.datetime(2020, 12, 31)"
      ],
      "execution_count": 5,
      "outputs": []
    },
    {
      "cell_type": "code",
      "metadata": {
        "id": "1Ey75Fs_XjDc",
        "outputId": "ad1942bf-c362-4cde-86fa-88187375a963",
        "colab": {
          "base_uri": "https://localhost:8080/",
          "height": 643
        }
      },
      "source": [
        "%%time\n",
        "\n",
        "rma = client.download(\n",
        "    asset_class=sftp.AssetClass[assetClass],\n",
        "    frequency=sftp.Frequency[frequency],\n",
        "    start=start_date,\n",
        "    end=end_date,\n",
        "    trial=True\n",
        ")\n",
        "\n",
        "display(rma)"
      ],
      "execution_count": 6,
      "outputs": [
        {
          "output_type": "display_data",
          "data": {
            "text/html": [
              "<div>\n",
              "<style scoped>\n",
              "    .dataframe tbody tr th:only-of-type {\n",
              "        vertical-align: middle;\n",
              "    }\n",
              "\n",
              "    .dataframe tbody tr th {\n",
              "        vertical-align: top;\n",
              "    }\n",
              "\n",
              "    .dataframe thead th {\n",
              "        text-align: right;\n",
              "    }\n",
              "</style>\n",
              "<table border=\"1\" class=\"dataframe\">\n",
              "  <thead>\n",
              "    <tr style=\"text-align: right;\">\n",
              "      <th></th>\n",
              "      <th>id</th>\n",
              "      <th>assetCode</th>\n",
              "      <th>windowTimestamp</th>\n",
              "      <th>dataType</th>\n",
              "      <th>systemVersion</th>\n",
              "      <th>mentions</th>\n",
              "      <th>buzz</th>\n",
              "      <th>sentiment</th>\n",
              "      <th>negative</th>\n",
              "      <th>positive</th>\n",
              "      <th>optimism</th>\n",
              "      <th>pessimism</th>\n",
              "      <th>joy</th>\n",
              "      <th>loveHate</th>\n",
              "      <th>trust</th>\n",
              "      <th>anger</th>\n",
              "      <th>disagreement</th>\n",
              "      <th>fear</th>\n",
              "      <th>gloom</th>\n",
              "      <th>stress</th>\n",
              "      <th>surprise</th>\n",
              "      <th>timeUrgency</th>\n",
              "      <th>uncertainty</th>\n",
              "      <th>violence</th>\n",
              "      <th>emotionVsFact</th>\n",
              "      <th>shortVsLongTerm</th>\n",
              "      <th>longShort</th>\n",
              "      <th>longShortForecast</th>\n",
              "      <th>priceDirection</th>\n",
              "      <th>priceDown</th>\n",
              "      <th>priceForecast</th>\n",
              "      <th>priceUp</th>\n",
              "      <th>topVsBottom</th>\n",
              "      <th>overvaluedVsUndervalued</th>\n",
              "      <th>volatility</th>\n",
              "      <th>consumptionVolume</th>\n",
              "      <th>productionVolume</th>\n",
              "      <th>regulatoryIssues</th>\n",
              "      <th>supplyVsDemand</th>\n",
              "      <th>supplyVsDemandForecast</th>\n",
              "      <th>newExploration</th>\n",
              "      <th>safetyAccident</th>\n",
              "      <th>futureVsPast</th>\n",
              "    </tr>\n",
              "  </thead>\n",
              "  <tbody>\n",
              "    <tr>\n",
              "      <th>0</th>\n",
              "      <td>mp:2016-01-01_20.30.00.News.COM_ENM.ALU</td>\n",
              "      <td>ALU</td>\n",
              "      <td>2016-01-01 20:30:00+00:00</td>\n",
              "      <td>News</td>\n",
              "      <td>MP:4.0.0</td>\n",
              "      <td>46</td>\n",
              "      <td>302.5</td>\n",
              "      <td>-0.158678</td>\n",
              "      <td>0.391736</td>\n",
              "      <td>0.233058</td>\n",
              "      <td>0.029752</td>\n",
              "      <td>0.016529</td>\n",
              "      <td>NaN</td>\n",
              "      <td>NaN</td>\n",
              "      <td>-0.013223</td>\n",
              "      <td>NaN</td>\n",
              "      <td>0.009917</td>\n",
              "      <td>0.013223</td>\n",
              "      <td>0.026446</td>\n",
              "      <td>0.018182</td>\n",
              "      <td>0.009917</td>\n",
              "      <td>0.003306</td>\n",
              "      <td>0.013223</td>\n",
              "      <td>NaN</td>\n",
              "      <td>0.424793</td>\n",
              "      <td>-0.023140</td>\n",
              "      <td>-0.003306</td>\n",
              "      <td>NaN</td>\n",
              "      <td>NaN</td>\n",
              "      <td>NaN</td>\n",
              "      <td>NaN</td>\n",
              "      <td>NaN</td>\n",
              "      <td>-0.013223</td>\n",
              "      <td>NaN</td>\n",
              "      <td>0.019835</td>\n",
              "      <td>NaN</td>\n",
              "      <td>NaN</td>\n",
              "      <td>NaN</td>\n",
              "      <td>0.018182</td>\n",
              "      <td>NaN</td>\n",
              "      <td>NaN</td>\n",
              "      <td>NaN</td>\n",
              "      <td>-0.527273</td>\n",
              "    </tr>\n",
              "    <tr>\n",
              "      <th>1</th>\n",
              "      <td>mp:2016-01-01_20.30.00.News_Social.COM_ENM.ALU</td>\n",
              "      <td>ALU</td>\n",
              "      <td>2016-01-01 20:30:00+00:00</td>\n",
              "      <td>News_Social</td>\n",
              "      <td>MP:4.0.0</td>\n",
              "      <td>64</td>\n",
              "      <td>491.0</td>\n",
              "      <td>-0.101833</td>\n",
              "      <td>0.323829</td>\n",
              "      <td>0.221996</td>\n",
              "      <td>0.018330</td>\n",
              "      <td>0.031568</td>\n",
              "      <td>NaN</td>\n",
              "      <td>NaN</td>\n",
              "      <td>-0.008147</td>\n",
              "      <td>NaN</td>\n",
              "      <td>0.000000</td>\n",
              "      <td>0.009165</td>\n",
              "      <td>0.032587</td>\n",
              "      <td>0.019348</td>\n",
              "      <td>0.014257</td>\n",
              "      <td>0.002037</td>\n",
              "      <td>0.022403</td>\n",
              "      <td>NaN</td>\n",
              "      <td>0.401222</td>\n",
              "      <td>-0.030550</td>\n",
              "      <td>0.002037</td>\n",
              "      <td>0.002037</td>\n",
              "      <td>NaN</td>\n",
              "      <td>NaN</td>\n",
              "      <td>NaN</td>\n",
              "      <td>NaN</td>\n",
              "      <td>-0.024440</td>\n",
              "      <td>NaN</td>\n",
              "      <td>0.024440</td>\n",
              "      <td>NaN</td>\n",
              "      <td>NaN</td>\n",
              "      <td>NaN</td>\n",
              "      <td>0.039715</td>\n",
              "      <td>NaN</td>\n",
              "      <td>NaN</td>\n",
              "      <td>NaN</td>\n",
              "      <td>-0.445010</td>\n",
              "    </tr>\n",
              "    <tr>\n",
              "      <th>2</th>\n",
              "      <td>mp:2016-01-01_20.30.00.News_Headline.COM_ENM.ALU</td>\n",
              "      <td>ALU</td>\n",
              "      <td>2016-01-01 20:30:00+00:00</td>\n",
              "      <td>News_Headline</td>\n",
              "      <td>MP:4.0.0</td>\n",
              "      <td>1</td>\n",
              "      <td>2.0</td>\n",
              "      <td>NaN</td>\n",
              "      <td>NaN</td>\n",
              "      <td>NaN</td>\n",
              "      <td>NaN</td>\n",
              "      <td>NaN</td>\n",
              "      <td>NaN</td>\n",
              "      <td>NaN</td>\n",
              "      <td>NaN</td>\n",
              "      <td>NaN</td>\n",
              "      <td>NaN</td>\n",
              "      <td>NaN</td>\n",
              "      <td>NaN</td>\n",
              "      <td>NaN</td>\n",
              "      <td>1.000000</td>\n",
              "      <td>1.000000</td>\n",
              "      <td>NaN</td>\n",
              "      <td>NaN</td>\n",
              "      <td>1.000000</td>\n",
              "      <td>NaN</td>\n",
              "      <td>NaN</td>\n",
              "      <td>NaN</td>\n",
              "      <td>NaN</td>\n",
              "      <td>NaN</td>\n",
              "      <td>NaN</td>\n",
              "      <td>NaN</td>\n",
              "      <td>NaN</td>\n",
              "      <td>NaN</td>\n",
              "      <td>NaN</td>\n",
              "      <td>NaN</td>\n",
              "      <td>NaN</td>\n",
              "      <td>NaN</td>\n",
              "      <td>NaN</td>\n",
              "      <td>NaN</td>\n",
              "      <td>NaN</td>\n",
              "      <td>NaN</td>\n",
              "      <td>-1.000000</td>\n",
              "    </tr>\n",
              "    <tr>\n",
              "      <th>3</th>\n",
              "      <td>mp:2016-01-01_20.30.00.Social.COM_ENM.ALU</td>\n",
              "      <td>ALU</td>\n",
              "      <td>2016-01-01 20:30:00+00:00</td>\n",
              "      <td>Social</td>\n",
              "      <td>MP:4.0.0</td>\n",
              "      <td>18</td>\n",
              "      <td>188.5</td>\n",
              "      <td>-0.010610</td>\n",
              "      <td>0.214854</td>\n",
              "      <td>0.204244</td>\n",
              "      <td>NaN</td>\n",
              "      <td>0.055703</td>\n",
              "      <td>NaN</td>\n",
              "      <td>NaN</td>\n",
              "      <td>NaN</td>\n",
              "      <td>NaN</td>\n",
              "      <td>-0.015915</td>\n",
              "      <td>0.002653</td>\n",
              "      <td>0.042440</td>\n",
              "      <td>0.021220</td>\n",
              "      <td>0.021220</td>\n",
              "      <td>0.000000</td>\n",
              "      <td>0.037135</td>\n",
              "      <td>NaN</td>\n",
              "      <td>0.363395</td>\n",
              "      <td>-0.042440</td>\n",
              "      <td>0.010610</td>\n",
              "      <td>0.005305</td>\n",
              "      <td>NaN</td>\n",
              "      <td>NaN</td>\n",
              "      <td>NaN</td>\n",
              "      <td>NaN</td>\n",
              "      <td>-0.042440</td>\n",
              "      <td>NaN</td>\n",
              "      <td>0.031830</td>\n",
              "      <td>NaN</td>\n",
              "      <td>NaN</td>\n",
              "      <td>NaN</td>\n",
              "      <td>0.074271</td>\n",
              "      <td>NaN</td>\n",
              "      <td>NaN</td>\n",
              "      <td>NaN</td>\n",
              "      <td>-0.312997</td>\n",
              "    </tr>\n",
              "    <tr>\n",
              "      <th>4</th>\n",
              "      <td>mp:2016-01-01_20.30.00.News.COM_ENM.ANGS</td>\n",
              "      <td>ANGS</td>\n",
              "      <td>2016-01-01 20:30:00+00:00</td>\n",
              "      <td>News</td>\n",
              "      <td>MP:4.0.0</td>\n",
              "      <td>1</td>\n",
              "      <td>0.0</td>\n",
              "      <td>NaN</td>\n",
              "      <td>NaN</td>\n",
              "      <td>NaN</td>\n",
              "      <td>NaN</td>\n",
              "      <td>NaN</td>\n",
              "      <td>NaN</td>\n",
              "      <td>NaN</td>\n",
              "      <td>NaN</td>\n",
              "      <td>NaN</td>\n",
              "      <td>NaN</td>\n",
              "      <td>NaN</td>\n",
              "      <td>NaN</td>\n",
              "      <td>NaN</td>\n",
              "      <td>NaN</td>\n",
              "      <td>NaN</td>\n",
              "      <td>NaN</td>\n",
              "      <td>NaN</td>\n",
              "      <td>NaN</td>\n",
              "      <td>NaN</td>\n",
              "      <td>NaN</td>\n",
              "      <td>NaN</td>\n",
              "      <td>NaN</td>\n",
              "      <td>NaN</td>\n",
              "      <td>NaN</td>\n",
              "      <td>NaN</td>\n",
              "      <td>NaN</td>\n",
              "      <td>NaN</td>\n",
              "      <td>NaN</td>\n",
              "      <td>NaN</td>\n",
              "      <td>NaN</td>\n",
              "      <td>NaN</td>\n",
              "      <td>NaN</td>\n",
              "      <td>NaN</td>\n",
              "      <td>NaN</td>\n",
              "      <td>NaN</td>\n",
              "      <td>NaN</td>\n",
              "    </tr>\n",
              "    <tr>\n",
              "      <th>...</th>\n",
              "      <td>...</td>\n",
              "      <td>...</td>\n",
              "      <td>...</td>\n",
              "      <td>...</td>\n",
              "      <td>...</td>\n",
              "      <td>...</td>\n",
              "      <td>...</td>\n",
              "      <td>...</td>\n",
              "      <td>...</td>\n",
              "      <td>...</td>\n",
              "      <td>...</td>\n",
              "      <td>...</td>\n",
              "      <td>...</td>\n",
              "      <td>...</td>\n",
              "      <td>...</td>\n",
              "      <td>...</td>\n",
              "      <td>...</td>\n",
              "      <td>...</td>\n",
              "      <td>...</td>\n",
              "      <td>...</td>\n",
              "      <td>...</td>\n",
              "      <td>...</td>\n",
              "      <td>...</td>\n",
              "      <td>...</td>\n",
              "      <td>...</td>\n",
              "      <td>...</td>\n",
              "      <td>...</td>\n",
              "      <td>...</td>\n",
              "      <td>...</td>\n",
              "      <td>...</td>\n",
              "      <td>...</td>\n",
              "      <td>...</td>\n",
              "      <td>...</td>\n",
              "      <td>...</td>\n",
              "      <td>...</td>\n",
              "      <td>...</td>\n",
              "      <td>...</td>\n",
              "      <td>...</td>\n",
              "      <td>...</td>\n",
              "      <td>...</td>\n",
              "      <td>...</td>\n",
              "      <td>...</td>\n",
              "      <td>...</td>\n",
              "    </tr>\n",
              "    <tr>\n",
              "      <th>263083</th>\n",
              "      <td>mp:2020-12-31_20.30.00.Social.COM_ENM.USCRU</td>\n",
              "      <td>USCRU</td>\n",
              "      <td>2020-12-31 20:30:00+00:00</td>\n",
              "      <td>Social</td>\n",
              "      <td>MP:4.0.0</td>\n",
              "      <td>1118</td>\n",
              "      <td>4281.6</td>\n",
              "      <td>0.084081</td>\n",
              "      <td>0.180306</td>\n",
              "      <td>0.264387</td>\n",
              "      <td>0.053251</td>\n",
              "      <td>0.051149</td>\n",
              "      <td>0.026158</td>\n",
              "      <td>0.007941</td>\n",
              "      <td>0.016583</td>\n",
              "      <td>0.006540</td>\n",
              "      <td>-0.001868</td>\n",
              "      <td>0.003737</td>\n",
              "      <td>0.038771</td>\n",
              "      <td>0.047879</td>\n",
              "      <td>0.007707</td>\n",
              "      <td>-0.007240</td>\n",
              "      <td>0.021861</td>\n",
              "      <td>0.014247</td>\n",
              "      <td>0.501588</td>\n",
              "      <td>0.003270</td>\n",
              "      <td>-0.019619</td>\n",
              "      <td>0.000934</td>\n",
              "      <td>-0.001635</td>\n",
              "      <td>0.001401</td>\n",
              "      <td>NaN</td>\n",
              "      <td>-0.000234</td>\n",
              "      <td>-0.004438</td>\n",
              "      <td>-0.001868</td>\n",
              "      <td>0.015415</td>\n",
              "      <td>0.000467</td>\n",
              "      <td>-0.000934</td>\n",
              "      <td>NaN</td>\n",
              "      <td>0.003970</td>\n",
              "      <td>-0.004905</td>\n",
              "      <td>0.000467</td>\n",
              "      <td>NaN</td>\n",
              "      <td>-0.083520</td>\n",
              "    </tr>\n",
              "    <tr>\n",
              "      <th>263084</th>\n",
              "      <td>mp:2020-12-31_20.30.00.News.COM_ENM.ZNC</td>\n",
              "      <td>ZNC</td>\n",
              "      <td>2020-12-31 20:30:00+00:00</td>\n",
              "      <td>News</td>\n",
              "      <td>MP:4.0.0</td>\n",
              "      <td>82</td>\n",
              "      <td>267.7</td>\n",
              "      <td>0.220396</td>\n",
              "      <td>0.115801</td>\n",
              "      <td>0.336197</td>\n",
              "      <td>0.127008</td>\n",
              "      <td>0.041091</td>\n",
              "      <td>NaN</td>\n",
              "      <td>NaN</td>\n",
              "      <td>0.041091</td>\n",
              "      <td>NaN</td>\n",
              "      <td>-0.011207</td>\n",
              "      <td>NaN</td>\n",
              "      <td>0.014942</td>\n",
              "      <td>0.007471</td>\n",
              "      <td>NaN</td>\n",
              "      <td>-0.056033</td>\n",
              "      <td>-0.014195</td>\n",
              "      <td>NaN</td>\n",
              "      <td>0.215540</td>\n",
              "      <td>-0.065372</td>\n",
              "      <td>0.003736</td>\n",
              "      <td>NaN</td>\n",
              "      <td>NaN</td>\n",
              "      <td>NaN</td>\n",
              "      <td>NaN</td>\n",
              "      <td>NaN</td>\n",
              "      <td>-0.022413</td>\n",
              "      <td>NaN</td>\n",
              "      <td>0.011207</td>\n",
              "      <td>NaN</td>\n",
              "      <td>0.014942</td>\n",
              "      <td>NaN</td>\n",
              "      <td>0.014942</td>\n",
              "      <td>0.022413</td>\n",
              "      <td>0.007471</td>\n",
              "      <td>NaN</td>\n",
              "      <td>-0.222264</td>\n",
              "    </tr>\n",
              "    <tr>\n",
              "      <th>263085</th>\n",
              "      <td>mp:2020-12-31_20.30.00.News_Social.COM_ENM.ZNC</td>\n",
              "      <td>ZNC</td>\n",
              "      <td>2020-12-31 20:30:00+00:00</td>\n",
              "      <td>News_Social</td>\n",
              "      <td>MP:4.0.0</td>\n",
              "      <td>148</td>\n",
              "      <td>444.9</td>\n",
              "      <td>0.168577</td>\n",
              "      <td>0.148348</td>\n",
              "      <td>0.316925</td>\n",
              "      <td>0.101146</td>\n",
              "      <td>0.049449</td>\n",
              "      <td>0.011238</td>\n",
              "      <td>0.002248</td>\n",
              "      <td>0.024725</td>\n",
              "      <td>0.004495</td>\n",
              "      <td>-0.002248</td>\n",
              "      <td>0.002248</td>\n",
              "      <td>0.029220</td>\n",
              "      <td>0.038211</td>\n",
              "      <td>0.002248</td>\n",
              "      <td>-0.017982</td>\n",
              "      <td>0.003147</td>\n",
              "      <td>0.005619</td>\n",
              "      <td>0.405484</td>\n",
              "      <td>-0.034839</td>\n",
              "      <td>-0.035963</td>\n",
              "      <td>-0.013486</td>\n",
              "      <td>NaN</td>\n",
              "      <td>NaN</td>\n",
              "      <td>NaN</td>\n",
              "      <td>NaN</td>\n",
              "      <td>-0.015734</td>\n",
              "      <td>NaN</td>\n",
              "      <td>0.010115</td>\n",
              "      <td>NaN</td>\n",
              "      <td>0.008991</td>\n",
              "      <td>NaN</td>\n",
              "      <td>0.008991</td>\n",
              "      <td>0.013486</td>\n",
              "      <td>0.004495</td>\n",
              "      <td>NaN</td>\n",
              "      <td>-0.102270</td>\n",
              "    </tr>\n",
              "    <tr>\n",
              "      <th>263086</th>\n",
              "      <td>mp:2020-12-31_20.30.00.News_Headline.COM_ENM.ZNC</td>\n",
              "      <td>ZNC</td>\n",
              "      <td>2020-12-31 20:30:00+00:00</td>\n",
              "      <td>News_Headline</td>\n",
              "      <td>MP:4.0.0</td>\n",
              "      <td>2</td>\n",
              "      <td>6.0</td>\n",
              "      <td>0.333333</td>\n",
              "      <td>NaN</td>\n",
              "      <td>0.333333</td>\n",
              "      <td>0.500000</td>\n",
              "      <td>NaN</td>\n",
              "      <td>NaN</td>\n",
              "      <td>NaN</td>\n",
              "      <td>NaN</td>\n",
              "      <td>NaN</td>\n",
              "      <td>NaN</td>\n",
              "      <td>NaN</td>\n",
              "      <td>NaN</td>\n",
              "      <td>NaN</td>\n",
              "      <td>NaN</td>\n",
              "      <td>NaN</td>\n",
              "      <td>NaN</td>\n",
              "      <td>NaN</td>\n",
              "      <td>-0.333333</td>\n",
              "      <td>NaN</td>\n",
              "      <td>NaN</td>\n",
              "      <td>NaN</td>\n",
              "      <td>NaN</td>\n",
              "      <td>NaN</td>\n",
              "      <td>NaN</td>\n",
              "      <td>NaN</td>\n",
              "      <td>-0.166667</td>\n",
              "      <td>NaN</td>\n",
              "      <td>NaN</td>\n",
              "      <td>NaN</td>\n",
              "      <td>0.333333</td>\n",
              "      <td>NaN</td>\n",
              "      <td>0.333333</td>\n",
              "      <td>0.333333</td>\n",
              "      <td>NaN</td>\n",
              "      <td>NaN</td>\n",
              "      <td>1.000000</td>\n",
              "    </tr>\n",
              "    <tr>\n",
              "      <th>263087</th>\n",
              "      <td>mp:2020-12-31_20.30.00.Social.COM_ENM.ZNC</td>\n",
              "      <td>ZNC</td>\n",
              "      <td>2020-12-31 20:30:00+00:00</td>\n",
              "      <td>Social</td>\n",
              "      <td>MP:4.0.0</td>\n",
              "      <td>66</td>\n",
              "      <td>177.2</td>\n",
              "      <td>0.090293</td>\n",
              "      <td>0.197517</td>\n",
              "      <td>0.287810</td>\n",
              "      <td>0.062077</td>\n",
              "      <td>0.062077</td>\n",
              "      <td>0.028217</td>\n",
              "      <td>0.005643</td>\n",
              "      <td>0.000000</td>\n",
              "      <td>0.011287</td>\n",
              "      <td>0.011287</td>\n",
              "      <td>0.005643</td>\n",
              "      <td>0.050790</td>\n",
              "      <td>0.084650</td>\n",
              "      <td>0.005643</td>\n",
              "      <td>0.039503</td>\n",
              "      <td>0.029345</td>\n",
              "      <td>0.014108</td>\n",
              "      <td>0.692438</td>\n",
              "      <td>0.011287</td>\n",
              "      <td>-0.095937</td>\n",
              "      <td>-0.033860</td>\n",
              "      <td>NaN</td>\n",
              "      <td>NaN</td>\n",
              "      <td>NaN</td>\n",
              "      <td>NaN</td>\n",
              "      <td>-0.005643</td>\n",
              "      <td>NaN</td>\n",
              "      <td>0.008465</td>\n",
              "      <td>NaN</td>\n",
              "      <td>NaN</td>\n",
              "      <td>NaN</td>\n",
              "      <td>NaN</td>\n",
              "      <td>NaN</td>\n",
              "      <td>NaN</td>\n",
              "      <td>NaN</td>\n",
              "      <td>0.079007</td>\n",
              "    </tr>\n",
              "  </tbody>\n",
              "</table>\n",
              "<p>263088 rows × 43 columns</p>\n",
              "</div>"
            ],
            "text/plain": [
              "                                                      id  ... futureVsPast\n",
              "0                mp:2016-01-01_20.30.00.News.COM_ENM.ALU  ...    -0.527273\n",
              "1         mp:2016-01-01_20.30.00.News_Social.COM_ENM.ALU  ...    -0.445010\n",
              "2       mp:2016-01-01_20.30.00.News_Headline.COM_ENM.ALU  ...    -1.000000\n",
              "3              mp:2016-01-01_20.30.00.Social.COM_ENM.ALU  ...    -0.312997\n",
              "4               mp:2016-01-01_20.30.00.News.COM_ENM.ANGS  ...          NaN\n",
              "...                                                  ...  ...          ...\n",
              "263083       mp:2020-12-31_20.30.00.Social.COM_ENM.USCRU  ...    -0.083520\n",
              "263084           mp:2020-12-31_20.30.00.News.COM_ENM.ZNC  ...    -0.222264\n",
              "263085    mp:2020-12-31_20.30.00.News_Social.COM_ENM.ZNC  ...    -0.102270\n",
              "263086  mp:2020-12-31_20.30.00.News_Headline.COM_ENM.ZNC  ...     1.000000\n",
              "263087         mp:2020-12-31_20.30.00.Social.COM_ENM.ZNC  ...     0.079007\n",
              "\n",
              "[263088 rows x 43 columns]"
            ]
          },
          "metadata": {
            "tags": []
          }
        },
        {
          "output_type": "stream",
          "text": [
            "CPU times: user 6.37 s, sys: 548 ms, total: 6.92 s\n",
            "Wall time: 18.7 s\n"
          ],
          "name": "stdout"
        }
      ]
    },
    {
      "cell_type": "markdown",
      "metadata": {
        "id": "l3pTvq0D5OFm"
      },
      "source": [
        "Let's now slice the dataframe such that we only keep the commodities of interest and the data points from News sources:"
      ]
    },
    {
      "cell_type": "code",
      "metadata": {
        "id": "DWtI9yc55OFn",
        "outputId": "227c6b90-ce1b-49eb-a01f-5fe95a6edfde",
        "colab": {
          "base_uri": "https://localhost:8080/",
          "height": 309
        }
      },
      "source": [
        "dataType = 'News'\n",
        "assetCodes = ['SLVR', 'CPPR', 'PALL', 'PLAT'] \n",
        "\n",
        "# Slices DF to only keep assets of interest and dataType selection\n",
        "rma.query(f\"assetCode in {assetCodes} & dataType == '{dataType}'\", inplace=True)\n",
        "# Converts time to datetime format\n",
        "rma.windowTimestamp = pd.to_datetime(pd.to_datetime(rma.windowTimestamp).dt.strftime('%Y-%m-%d'))\n",
        "\n",
        "rma.head()"
      ],
      "execution_count": 7,
      "outputs": [
        {
          "output_type": "execute_result",
          "data": {
            "text/html": [
              "<div>\n",
              "<style scoped>\n",
              "    .dataframe tbody tr th:only-of-type {\n",
              "        vertical-align: middle;\n",
              "    }\n",
              "\n",
              "    .dataframe tbody tr th {\n",
              "        vertical-align: top;\n",
              "    }\n",
              "\n",
              "    .dataframe thead th {\n",
              "        text-align: right;\n",
              "    }\n",
              "</style>\n",
              "<table border=\"1\" class=\"dataframe\">\n",
              "  <thead>\n",
              "    <tr style=\"text-align: right;\">\n",
              "      <th></th>\n",
              "      <th>id</th>\n",
              "      <th>assetCode</th>\n",
              "      <th>windowTimestamp</th>\n",
              "      <th>dataType</th>\n",
              "      <th>systemVersion</th>\n",
              "      <th>mentions</th>\n",
              "      <th>buzz</th>\n",
              "      <th>sentiment</th>\n",
              "      <th>negative</th>\n",
              "      <th>positive</th>\n",
              "      <th>optimism</th>\n",
              "      <th>pessimism</th>\n",
              "      <th>joy</th>\n",
              "      <th>loveHate</th>\n",
              "      <th>trust</th>\n",
              "      <th>anger</th>\n",
              "      <th>disagreement</th>\n",
              "      <th>fear</th>\n",
              "      <th>gloom</th>\n",
              "      <th>stress</th>\n",
              "      <th>surprise</th>\n",
              "      <th>timeUrgency</th>\n",
              "      <th>uncertainty</th>\n",
              "      <th>violence</th>\n",
              "      <th>emotionVsFact</th>\n",
              "      <th>shortVsLongTerm</th>\n",
              "      <th>longShort</th>\n",
              "      <th>longShortForecast</th>\n",
              "      <th>priceDirection</th>\n",
              "      <th>priceDown</th>\n",
              "      <th>priceForecast</th>\n",
              "      <th>priceUp</th>\n",
              "      <th>topVsBottom</th>\n",
              "      <th>overvaluedVsUndervalued</th>\n",
              "      <th>volatility</th>\n",
              "      <th>consumptionVolume</th>\n",
              "      <th>productionVolume</th>\n",
              "      <th>regulatoryIssues</th>\n",
              "      <th>supplyVsDemand</th>\n",
              "      <th>supplyVsDemandForecast</th>\n",
              "      <th>newExploration</th>\n",
              "      <th>safetyAccident</th>\n",
              "      <th>futureVsPast</th>\n",
              "    </tr>\n",
              "  </thead>\n",
              "  <tbody>\n",
              "    <tr>\n",
              "      <th>32</th>\n",
              "      <td>mp:2016-01-01_20.30.00.News.COM_ENM.CPPR</td>\n",
              "      <td>CPPR</td>\n",
              "      <td>2016-01-01</td>\n",
              "      <td>News</td>\n",
              "      <td>MP:4.0.0</td>\n",
              "      <td>109</td>\n",
              "      <td>447.5</td>\n",
              "      <td>-0.317318</td>\n",
              "      <td>0.455866</td>\n",
              "      <td>0.138547</td>\n",
              "      <td>0.020112</td>\n",
              "      <td>0.015642</td>\n",
              "      <td>NaN</td>\n",
              "      <td>NaN</td>\n",
              "      <td>-0.002235</td>\n",
              "      <td>NaN</td>\n",
              "      <td>0.006704</td>\n",
              "      <td>NaN</td>\n",
              "      <td>0.031285</td>\n",
              "      <td>0.040223</td>\n",
              "      <td>-0.001117</td>\n",
              "      <td>-0.021229</td>\n",
              "      <td>0.004469</td>\n",
              "      <td>0.017877</td>\n",
              "      <td>0.491620</td>\n",
              "      <td>-0.093855</td>\n",
              "      <td>0.006704</td>\n",
              "      <td>NaN</td>\n",
              "      <td>NaN</td>\n",
              "      <td>NaN</td>\n",
              "      <td>NaN</td>\n",
              "      <td>NaN</td>\n",
              "      <td>-0.011173</td>\n",
              "      <td>0.002235</td>\n",
              "      <td>0.021229</td>\n",
              "      <td>0.006704</td>\n",
              "      <td>-0.008939</td>\n",
              "      <td>NaN</td>\n",
              "      <td>-0.022346</td>\n",
              "      <td>-0.008939</td>\n",
              "      <td>0.002235</td>\n",
              "      <td>NaN</td>\n",
              "      <td>-0.586592</td>\n",
              "    </tr>\n",
              "    <tr>\n",
              "      <th>100</th>\n",
              "      <td>mp:2016-01-01_20.30.00.News.COM_ENM.PALL</td>\n",
              "      <td>PALL</td>\n",
              "      <td>2016-01-01</td>\n",
              "      <td>News</td>\n",
              "      <td>MP:4.0.0</td>\n",
              "      <td>20</td>\n",
              "      <td>92.0</td>\n",
              "      <td>-0.173913</td>\n",
              "      <td>0.271739</td>\n",
              "      <td>0.097826</td>\n",
              "      <td>0.054348</td>\n",
              "      <td>0.010870</td>\n",
              "      <td>NaN</td>\n",
              "      <td>NaN</td>\n",
              "      <td>-0.021739</td>\n",
              "      <td>NaN</td>\n",
              "      <td>-0.021739</td>\n",
              "      <td>0.043478</td>\n",
              "      <td>0.141304</td>\n",
              "      <td>NaN</td>\n",
              "      <td>NaN</td>\n",
              "      <td>-0.043478</td>\n",
              "      <td>NaN</td>\n",
              "      <td>NaN</td>\n",
              "      <td>0.478261</td>\n",
              "      <td>-0.076087</td>\n",
              "      <td>NaN</td>\n",
              "      <td>NaN</td>\n",
              "      <td>NaN</td>\n",
              "      <td>NaN</td>\n",
              "      <td>NaN</td>\n",
              "      <td>NaN</td>\n",
              "      <td>-0.021739</td>\n",
              "      <td>-0.021739</td>\n",
              "      <td>NaN</td>\n",
              "      <td>NaN</td>\n",
              "      <td>NaN</td>\n",
              "      <td>NaN</td>\n",
              "      <td>-0.065217</td>\n",
              "      <td>-0.043478</td>\n",
              "      <td>NaN</td>\n",
              "      <td>NaN</td>\n",
              "      <td>-0.347826</td>\n",
              "    </tr>\n",
              "    <tr>\n",
              "      <th>104</th>\n",
              "      <td>mp:2016-01-01_20.30.00.News.COM_ENM.PLAT</td>\n",
              "      <td>PLAT</td>\n",
              "      <td>2016-01-01</td>\n",
              "      <td>News</td>\n",
              "      <td>MP:4.0.0</td>\n",
              "      <td>27</td>\n",
              "      <td>154.5</td>\n",
              "      <td>-0.498382</td>\n",
              "      <td>0.543689</td>\n",
              "      <td>0.045307</td>\n",
              "      <td>NaN</td>\n",
              "      <td>0.048544</td>\n",
              "      <td>NaN</td>\n",
              "      <td>NaN</td>\n",
              "      <td>0.006472</td>\n",
              "      <td>NaN</td>\n",
              "      <td>0.000000</td>\n",
              "      <td>NaN</td>\n",
              "      <td>0.097087</td>\n",
              "      <td>0.012945</td>\n",
              "      <td>NaN</td>\n",
              "      <td>-0.084142</td>\n",
              "      <td>NaN</td>\n",
              "      <td>0.006472</td>\n",
              "      <td>0.663430</td>\n",
              "      <td>-0.038835</td>\n",
              "      <td>NaN</td>\n",
              "      <td>NaN</td>\n",
              "      <td>NaN</td>\n",
              "      <td>NaN</td>\n",
              "      <td>NaN</td>\n",
              "      <td>NaN</td>\n",
              "      <td>-0.006472</td>\n",
              "      <td>NaN</td>\n",
              "      <td>NaN</td>\n",
              "      <td>NaN</td>\n",
              "      <td>NaN</td>\n",
              "      <td>NaN</td>\n",
              "      <td>0.045307</td>\n",
              "      <td>0.012945</td>\n",
              "      <td>NaN</td>\n",
              "      <td>NaN</td>\n",
              "      <td>-0.779935</td>\n",
              "    </tr>\n",
              "    <tr>\n",
              "      <th>120</th>\n",
              "      <td>mp:2016-01-01_20.30.00.News.COM_ENM.SLVR</td>\n",
              "      <td>SLVR</td>\n",
              "      <td>2016-01-01</td>\n",
              "      <td>News</td>\n",
              "      <td>MP:4.0.0</td>\n",
              "      <td>106</td>\n",
              "      <td>208.5</td>\n",
              "      <td>-0.043165</td>\n",
              "      <td>0.163070</td>\n",
              "      <td>0.119904</td>\n",
              "      <td>0.047962</td>\n",
              "      <td>0.047962</td>\n",
              "      <td>NaN</td>\n",
              "      <td>NaN</td>\n",
              "      <td>0.009592</td>\n",
              "      <td>NaN</td>\n",
              "      <td>-0.004796</td>\n",
              "      <td>NaN</td>\n",
              "      <td>0.028777</td>\n",
              "      <td>0.033573</td>\n",
              "      <td>NaN</td>\n",
              "      <td>-0.033573</td>\n",
              "      <td>NaN</td>\n",
              "      <td>0.004796</td>\n",
              "      <td>0.016787</td>\n",
              "      <td>-0.122302</td>\n",
              "      <td>-0.023981</td>\n",
              "      <td>NaN</td>\n",
              "      <td>-0.023981</td>\n",
              "      <td>0.028777</td>\n",
              "      <td>0.004796</td>\n",
              "      <td>0.004796</td>\n",
              "      <td>0.023981</td>\n",
              "      <td>0.004796</td>\n",
              "      <td>0.004796</td>\n",
              "      <td>NaN</td>\n",
              "      <td>NaN</td>\n",
              "      <td>NaN</td>\n",
              "      <td>-0.002398</td>\n",
              "      <td>NaN</td>\n",
              "      <td>NaN</td>\n",
              "      <td>NaN</td>\n",
              "      <td>-0.424460</td>\n",
              "    </tr>\n",
              "    <tr>\n",
              "      <th>176</th>\n",
              "      <td>mp:2016-01-02_20.30.00.News.COM_ENM.CPPR</td>\n",
              "      <td>CPPR</td>\n",
              "      <td>2016-01-02</td>\n",
              "      <td>News</td>\n",
              "      <td>MP:4.0.0</td>\n",
              "      <td>54</td>\n",
              "      <td>108.0</td>\n",
              "      <td>0.185185</td>\n",
              "      <td>0.129630</td>\n",
              "      <td>0.314815</td>\n",
              "      <td>NaN</td>\n",
              "      <td>NaN</td>\n",
              "      <td>NaN</td>\n",
              "      <td>NaN</td>\n",
              "      <td>0.083333</td>\n",
              "      <td>NaN</td>\n",
              "      <td>-0.083333</td>\n",
              "      <td>NaN</td>\n",
              "      <td>0.055556</td>\n",
              "      <td>0.037037</td>\n",
              "      <td>NaN</td>\n",
              "      <td>-0.046296</td>\n",
              "      <td>NaN</td>\n",
              "      <td>NaN</td>\n",
              "      <td>0.675926</td>\n",
              "      <td>NaN</td>\n",
              "      <td>NaN</td>\n",
              "      <td>NaN</td>\n",
              "      <td>NaN</td>\n",
              "      <td>NaN</td>\n",
              "      <td>NaN</td>\n",
              "      <td>NaN</td>\n",
              "      <td>-0.111111</td>\n",
              "      <td>NaN</td>\n",
              "      <td>0.138889</td>\n",
              "      <td>NaN</td>\n",
              "      <td>NaN</td>\n",
              "      <td>NaN</td>\n",
              "      <td>NaN</td>\n",
              "      <td>NaN</td>\n",
              "      <td>NaN</td>\n",
              "      <td>NaN</td>\n",
              "      <td>-0.574074</td>\n",
              "    </tr>\n",
              "  </tbody>\n",
              "</table>\n",
              "</div>"
            ],
            "text/plain": [
              "                                           id  ... futureVsPast\n",
              "32   mp:2016-01-01_20.30.00.News.COM_ENM.CPPR  ...    -0.586592\n",
              "100  mp:2016-01-01_20.30.00.News.COM_ENM.PALL  ...    -0.347826\n",
              "104  mp:2016-01-01_20.30.00.News.COM_ENM.PLAT  ...    -0.779935\n",
              "120  mp:2016-01-01_20.30.00.News.COM_ENM.SLVR  ...    -0.424460\n",
              "176  mp:2016-01-02_20.30.00.News.COM_ENM.CPPR  ...    -0.574074\n",
              "\n",
              "[5 rows x 43 columns]"
            ]
          },
          "metadata": {
            "tags": []
          },
          "execution_count": 7
        }
      ]
    },
    {
      "cell_type": "markdown",
      "metadata": {
        "id": "igJI0sC95OFn"
      },
      "source": [
        "#### Price"
      ]
    },
    {
      "cell_type": "markdown",
      "metadata": {
        "id": "wefcz3Q-5OFn"
      },
      "source": [
        "Given the simplicity of this example, we download price data from Yahoo finance, which is an easily accessible library. Specifically, we'll be looking at some liquid ETFs tracking the metals that we are analyzing. That is to avoid having to deal with the rolling of contracts."
      ]
    },
    {
      "cell_type": "code",
      "metadata": {
        "id": "yYHFONN25OFo"
      },
      "source": [
        "tickers = ['SLV', 'CPER', 'PPLT', 'PALL']\n",
        "\n",
        "# The extra days at the end are to have the last forward month\n",
        "prices = yf.download(tickers, progress=False,\n",
        "            start=start_date, end=end_date+datetime.timedelta(days=40))\n",
        "# We are only interested in the Closing prices:\n",
        "prices = prices['Adj Close']"
      ],
      "execution_count": 8,
      "outputs": []
    },
    {
      "cell_type": "code",
      "metadata": {
        "id": "09HQ5LNS5OFo",
        "outputId": "c5b97bc6-494b-444e-dc08-cfee03ef5c5d",
        "colab": {
          "base_uri": "https://localhost:8080/",
          "height": 465
        }
      },
      "source": [
        "prices.plot(subplots=True, figsize=(10, 8))\n",
        "plt.show()"
      ],
      "execution_count": 9,
      "outputs": [
        {
          "output_type": "display_data",
          "data": {
            "image/png": "[encoded data removed]",
            "text/plain": [
              "<Figure size 720x576 with 4 Axes>"
            ]
          },
          "metadata": {
            "tags": [],
            "needs_background": "light"
          }
        }
      ]
    },
    {
      "cell_type": "markdown",
      "metadata": {
        "id": "2CYX96Cy5OFo"
      },
      "source": [
        "Now we compute forward returns. To be sure we are not introducing some look-ahead bias, let's use the returns from close to close on the first day of trade for each (forward) month."
      ]
    },
    {
      "cell_type": "code",
      "metadata": {
        "id": "qjBFqApw5OFo"
      },
      "source": [
        "fw_mon_rets = ((prices.resample('M').first().shift(-1)\n",
        "               / prices.resample('M').first()) - 1).shift(-1)\n",
        "\n",
        "# Converts to format/column names that can be easily merged with sentiment df\n",
        "fw_mon_rets = fw_mon_rets.unstack().reset_index()\n",
        "fw_mon_rets.columns = ['assetCode', 'windowTimestamp', 'fwRet']"
      ],
      "execution_count": 10,
      "outputs": []
    },
    {
      "cell_type": "markdown",
      "metadata": {
        "id": "Gkv_o2xB5OFp"
      },
      "source": [
        "#### Final touch"
      ]
    },
    {
      "cell_type": "markdown",
      "metadata": {
        "id": "-SEDLUg85OFp"
      },
      "source": [
        "Finally, to have both RMA and price data with the same codes, we rename the assetCode in the RMA dataframe. If you are working with `CMPNY`, assetCode refers to the PermID of a company. A mapping from PermIDs to your trading universe will be needed to track companies to their stock price."
      ]
    },
    {
      "cell_type": "code",
      "metadata": {
        "id": "UV-dcdm95OFp"
      },
      "source": [
        "convert_assetCode = {\n",
        "    'SLVR':'SLV',\n",
        "    'CPPR':'CPER',\n",
        "    'PLAT':'PPLT',\n",
        "    'PALL':'PALL'\n",
        "}\n",
        "\n",
        "rma['assetCode'] = rma['assetCode'].replace(convert_assetCode)"
      ],
      "execution_count": 11,
      "outputs": []
    },
    {
      "cell_type": "markdown",
      "metadata": {
        "id": "Vli0OjPweYB7"
      },
      "source": [
        "In this example, let's choose a common topic in news about commodities, the level of supply and demand, as proxied by the `supplyVdDemand` RMA. The higher the value of this RMA, the more overwhelming the news are about oversupply/weak demand. While low values indicate more demand / less supply."
      ]
    },
    {
      "cell_type": "code",
      "metadata": {
        "id": "P03CCLwseYB7"
      },
      "source": [
        "rma_score = 'supplyVsDemand'"
      ],
      "execution_count": 12,
      "outputs": []
    },
    {
      "cell_type": "markdown",
      "metadata": {
        "id": "ZlA3J1Xf5OFp"
      },
      "source": [
        "## 2. Aggregation\n",
        "\n",
        "### 2.1 Simple average"
      ]
    },
    {
      "cell_type": "markdown",
      "metadata": {
        "id": "_pOwvTLF5OFq"
      },
      "source": [
        "Now, let's assume we want to develop a strategy with a monthly turnover based on one of the RMAs. In that scenario, we may want to aggregate all information in-between the trades, i.e., to create a monthly sentiment value. There are a few routes we can take here. The simplest one is to average the level of sentiment:\n",
        "\n",
        "$$\n",
        "s_m^\\text{Avg} = \\frac{1}{D}\\sum_{d \\in m}^D s_d \\label{eq1}\\tag{1} \n",
        "$$\n",
        "\n",
        "where $s_d$ is the daily ($d$) RMA value in month $m$.  "
      ]
    },
    {
      "cell_type": "code",
      "metadata": {
        "id": "2HkKS8Nk5OFq"
      },
      "source": [
        "#### Approach 1\n",
        "sent = rma.set_index('windowTimestamp')\\\n",
        "        .groupby([\"assetCode\", pd.Grouper(freq=\"M\")])\\\n",
        "            [rma_score].mean().reset_index().rename(columns={rma_score : 'sentAvg'})"
      ],
      "execution_count": 13,
      "outputs": []
    },
    {
      "cell_type": "code",
      "metadata": {
        "id": "juqGP7QB5OFq",
        "outputId": "62cef8a5-a6c0-434a-897f-de654c958377",
        "colab": {
          "base_uri": "https://localhost:8080/",
          "height": 465
        }
      },
      "source": [
        "sent.pivot_table(columns='assetCode', \n",
        "                 index='windowTimestamp', \n",
        "                 values='sentAvg').plot(subplots=True, figsize=(10, 8))\n",
        "plt.show()"
      ],
      "execution_count": 14,
      "outputs": [
        {
          "output_type": "display_data",
          "data": {
            "image/png": "[encoded data removed]",
            "text/plain": [
              "<Figure size 720x576 with 4 Axes>"
            ]
          },
          "metadata": {
            "tags": [],
            "needs_background": "light"
          }
        }
      ]
    },
    {
      "cell_type": "markdown",
      "metadata": {
        "id": "U2qx-LMs5OFq"
      },
      "source": [
        "### 2.2. Buzz-weighting\n",
        "One note with the approach in Eqn. 1 is that we treat all daily values as equal, even though the news may be considerably more/less populated on some days. An alternative is to re-aggregate the data (thus buzz-weighting it) such that we have a monthly RMA rather than a daily one:\n",
        "\n",
        "$$\n",
        "s_m^\\text{Bw} = \\frac{\\sum_{d \\in m}^D s_d b_d}{\\sum_{d \\in m}^D b_d} \\label{eq2}\\tag{2} \n",
        "$$\n",
        "\n",
        "We use the Bw subscript to describe \"buzz-weighted\" as this is effectively the difference from the simple average approach."
      ]
    },
    {
      "cell_type": "code",
      "metadata": {
        "id": "VxTTFjbc5OFq"
      },
      "source": [
        "#### Approach 2\n",
        "temp = rma.set_index('windowTimestamp').copy()\n",
        "temp['sentBuzz'] =  temp[rma_score] * temp[\"buzz\"]\n",
        "temp = temp.groupby([\"assetCode\", pd.Grouper(freq=\"M\")])[['sentBuzz', 'buzz']].sum()\n",
        "# The above lines obtain the numerator and denominator of the equation\n",
        "temp = (temp.sentBuzz / temp.buzz).reset_index().rename(columns={0: 'sentBw'})\n",
        "\n",
        "# Merges both time-series\n",
        "sent = sent.merge(temp)"
      ],
      "execution_count": 15,
      "outputs": []
    },
    {
      "cell_type": "code",
      "metadata": {
        "id": "fCczUu3O5OFr",
        "outputId": "5423e469-3444-4d6d-e87b-d437772c6218",
        "colab": {
          "base_uri": "https://localhost:8080/",
          "height": 465
        }
      },
      "source": [
        "sent.pivot_table(columns='assetCode', \n",
        "                 index='windowTimestamp', \n",
        "                 values='sentBw').plot(subplots=True, figsize=(10, 8))\n",
        "plt.show()"
      ],
      "execution_count": 16,
      "outputs": [
        {
          "output_type": "display_data",
          "data": {
            "image/png": "[encoded data removed]",
            "text/plain": [
              "<Figure size 720x576 with 4 Axes>"
            ]
          },
          "metadata": {
            "tags": [],
            "needs_background": "light"
          }
        }
      ]
    },
    {
      "cell_type": "markdown",
      "metadata": {
        "id": "dIzH0iTx5OFr"
      },
      "source": [
        "Despite the difference in methodologies, both approaches will generally yield similar results, especially for assets with a high volume of news. This is confirmed when looking at the correlations between both approaches:"
      ]
    },
    {
      "cell_type": "code",
      "metadata": {
        "id": "6a6EOvc15OFr",
        "outputId": "093f358c-81f9-4a7f-b265-eb256b55261f",
        "colab": {
          "base_uri": "https://localhost:8080/",
          "height": 328
        }
      },
      "source": [
        "sent.groupby('assetCode')[['sentAvg', 'sentBw']].corr()"
      ],
      "execution_count": 17,
      "outputs": [
        {
          "output_type": "execute_result",
          "data": {
            "text/html": [
              "<div>\n",
              "<style scoped>\n",
              "    .dataframe tbody tr th:only-of-type {\n",
              "        vertical-align: middle;\n",
              "    }\n",
              "\n",
              "    .dataframe tbody tr th {\n",
              "        vertical-align: top;\n",
              "    }\n",
              "\n",
              "    .dataframe thead th {\n",
              "        text-align: right;\n",
              "    }\n",
              "</style>\n",
              "<table border=\"1\" class=\"dataframe\">\n",
              "  <thead>\n",
              "    <tr style=\"text-align: right;\">\n",
              "      <th></th>\n",
              "      <th></th>\n",
              "      <th>sentAvg</th>\n",
              "      <th>sentBw</th>\n",
              "    </tr>\n",
              "    <tr>\n",
              "      <th>assetCode</th>\n",
              "      <th></th>\n",
              "      <th></th>\n",
              "      <th></th>\n",
              "    </tr>\n",
              "  </thead>\n",
              "  <tbody>\n",
              "    <tr>\n",
              "      <th rowspan=\"2\" valign=\"top\">CPER</th>\n",
              "      <th>sentAvg</th>\n",
              "      <td>1.000000</td>\n",
              "      <td>0.948261</td>\n",
              "    </tr>\n",
              "    <tr>\n",
              "      <th>sentBw</th>\n",
              "      <td>0.948261</td>\n",
              "      <td>1.000000</td>\n",
              "    </tr>\n",
              "    <tr>\n",
              "      <th rowspan=\"2\" valign=\"top\">PALL</th>\n",
              "      <th>sentAvg</th>\n",
              "      <td>1.000000</td>\n",
              "      <td>0.748979</td>\n",
              "    </tr>\n",
              "    <tr>\n",
              "      <th>sentBw</th>\n",
              "      <td>0.748979</td>\n",
              "      <td>1.000000</td>\n",
              "    </tr>\n",
              "    <tr>\n",
              "      <th rowspan=\"2\" valign=\"top\">PPLT</th>\n",
              "      <th>sentAvg</th>\n",
              "      <td>1.000000</td>\n",
              "      <td>0.830589</td>\n",
              "    </tr>\n",
              "    <tr>\n",
              "      <th>sentBw</th>\n",
              "      <td>0.830589</td>\n",
              "      <td>1.000000</td>\n",
              "    </tr>\n",
              "    <tr>\n",
              "      <th rowspan=\"2\" valign=\"top\">SLV</th>\n",
              "      <th>sentAvg</th>\n",
              "      <td>1.000000</td>\n",
              "      <td>0.778414</td>\n",
              "    </tr>\n",
              "    <tr>\n",
              "      <th>sentBw</th>\n",
              "      <td>0.778414</td>\n",
              "      <td>1.000000</td>\n",
              "    </tr>\n",
              "  </tbody>\n",
              "</table>\n",
              "</div>"
            ],
            "text/plain": [
              "                    sentAvg    sentBw\n",
              "assetCode                            \n",
              "CPER      sentAvg  1.000000  0.948261\n",
              "          sentBw   0.948261  1.000000\n",
              "PALL      sentAvg  1.000000  0.748979\n",
              "          sentBw   0.748979  1.000000\n",
              "PPLT      sentAvg  1.000000  0.830589\n",
              "          sentBw   0.830589  1.000000\n",
              "SLV       sentAvg  1.000000  0.778414\n",
              "          sentBw   0.778414  1.000000"
            ]
          },
          "metadata": {
            "tags": []
          },
          "execution_count": 17
        }
      ]
    },
    {
      "cell_type": "markdown",
      "metadata": {
        "id": "CYktJGOU5OFr"
      },
      "source": [
        "## 3. Creating a factor with the aggregated RMA"
      ]
    },
    {
      "cell_type": "markdown",
      "metadata": {
        "id": "qCkgz3iz5OFs"
      },
      "source": [
        "Lets merge both (RMA and price) datasets."
      ]
    },
    {
      "cell_type": "code",
      "metadata": {
        "id": "TldmyoXF5OFs"
      },
      "source": [
        "sent_comb = sent.merge(fw_mon_rets, on=['assetCode', 'windowTimestamp'])"
      ],
      "execution_count": 18,
      "outputs": []
    },
    {
      "cell_type": "markdown",
      "metadata": {
        "id": "HPgLwIQB5OFs"
      },
      "source": [
        "Now that we have both sentiment and forward returns in the same DF, we can analyze some simple strategies. For example, we can hypothesize that relative price movements of commodities are somewhat related to how the market notices the disparity between supply and demand. Let's thus try the following arbitrage:\n",
        "\n",
        "- Based on the past month's level of the `supplyVsDemand` RMA we:\n",
        "    - Buy the commodity (ETF) with the lowest value (high Demand / low Supply)\n",
        "    - Short the commodity (ETF) with the highest value (low Demand / high Supply)\n",
        "    \n",
        "The approach is similar to the identification of risk factors. In such cases, one may be looking into a large number of assets in each portfolio. To generalize, we will create two new columns in the dataframe, which will hold the cross-sectional percentile rank of each commodity's `supplyVsDemand`."
      ]
    },
    {
      "cell_type": "code",
      "metadata": {
        "id": "-dd6AXU15OFs",
        "outputId": "7af1423a-b837-4851-f5f2-99b6931489ac",
        "colab": {
          "base_uri": "https://localhost:8080/",
          "height": 204
        }
      },
      "source": [
        "sent_comb['sentAvg_rank'] = sent_comb.groupby('windowTimestamp')['sentAvg'].rank(pct=True)\n",
        "sent_comb['sentBw_rank'] = sent_comb.groupby('windowTimestamp')['sentBw'].rank(pct=True)\n",
        "# Reorders the DF for easiness of visualization\n",
        "sent_comb = sent_comb.sort_values(by=['windowTimestamp', 'assetCode']).reset_index(drop=True)\n",
        "sent_comb.head()"
      ],
      "execution_count": 19,
      "outputs": [
        {
          "output_type": "execute_result",
          "data": {
            "text/html": [
              "<div>\n",
              "<style scoped>\n",
              "    .dataframe tbody tr th:only-of-type {\n",
              "        vertical-align: middle;\n",
              "    }\n",
              "\n",
              "    .dataframe tbody tr th {\n",
              "        vertical-align: top;\n",
              "    }\n",
              "\n",
              "    .dataframe thead th {\n",
              "        text-align: right;\n",
              "    }\n",
              "</style>\n",
              "<table border=\"1\" class=\"dataframe\">\n",
              "  <thead>\n",
              "    <tr style=\"text-align: right;\">\n",
              "      <th></th>\n",
              "      <th>assetCode</th>\n",
              "      <th>windowTimestamp</th>\n",
              "      <th>sentAvg</th>\n",
              "      <th>sentBw</th>\n",
              "      <th>fwRet</th>\n",
              "      <th>sentAvg_rank</th>\n",
              "      <th>sentBw_rank</th>\n",
              "    </tr>\n",
              "  </thead>\n",
              "  <tbody>\n",
              "    <tr>\n",
              "      <th>0</th>\n",
              "      <td>CPER</td>\n",
              "      <td>2016-01-31</td>\n",
              "      <td>0.004984</td>\n",
              "      <td>0.008321</td>\n",
              "      <td>0.041545</td>\n",
              "      <td>0.75</td>\n",
              "      <td>0.75</td>\n",
              "    </tr>\n",
              "    <tr>\n",
              "      <th>1</th>\n",
              "      <td>PALL</td>\n",
              "      <td>2016-01-31</td>\n",
              "      <td>-0.011595</td>\n",
              "      <td>-0.010127</td>\n",
              "      <td>0.023682</td>\n",
              "      <td>0.25</td>\n",
              "      <td>0.25</td>\n",
              "    </tr>\n",
              "    <tr>\n",
              "      <th>2</th>\n",
              "      <td>PPLT</td>\n",
              "      <td>2016-01-31</td>\n",
              "      <td>0.008025</td>\n",
              "      <td>-0.003108</td>\n",
              "      <td>0.078289</td>\n",
              "      <td>1.00</td>\n",
              "      <td>0.50</td>\n",
              "    </tr>\n",
              "    <tr>\n",
              "      <th>3</th>\n",
              "      <td>SLV</td>\n",
              "      <td>2016-01-31</td>\n",
              "      <td>-0.006212</td>\n",
              "      <td>0.010315</td>\n",
              "      <td>0.036576</td>\n",
              "      <td>0.50</td>\n",
              "      <td>1.00</td>\n",
              "    </tr>\n",
              "    <tr>\n",
              "      <th>4</th>\n",
              "      <td>CPER</td>\n",
              "      <td>2016-02-29</td>\n",
              "      <td>0.005826</td>\n",
              "      <td>0.010864</td>\n",
              "      <td>0.008397</td>\n",
              "      <td>0.75</td>\n",
              "      <td>1.00</td>\n",
              "    </tr>\n",
              "  </tbody>\n",
              "</table>\n",
              "</div>"
            ],
            "text/plain": [
              "  assetCode windowTimestamp   sentAvg  ...     fwRet  sentAvg_rank  sentBw_rank\n",
              "0      CPER      2016-01-31  0.004984  ...  0.041545          0.75         0.75\n",
              "1      PALL      2016-01-31 -0.011595  ...  0.023682          0.25         0.25\n",
              "2      PPLT      2016-01-31  0.008025  ...  0.078289          1.00         0.50\n",
              "3       SLV      2016-01-31 -0.006212  ...  0.036576          0.50         1.00\n",
              "4      CPER      2016-02-29  0.005826  ...  0.008397          0.75         1.00\n",
              "\n",
              "[5 rows x 7 columns]"
            ]
          },
          "metadata": {
            "tags": []
          },
          "execution_count": 19
        }
      ]
    },
    {
      "cell_type": "code",
      "metadata": {
        "id": "fgsisHLQ5OFs"
      },
      "source": [
        "colors = {'SLV': 'grey', \n",
        "          'CPER': '#B87333',\n",
        "          'PPLT': 'blue',\n",
        "          'PALL':'black'}\n",
        "\n",
        "def portfolios_plot(low_df, top_df):\n",
        "    fig = plt.figure(figsize=(16, 7))\n",
        "    gs = gridspec.GridSpec(2, 2, wspace=0.2, hspace=0.2)\n",
        "\n",
        "    ax1 = fig.add_subplot(gs[:, 0])\n",
        "    low_rets = low_df.groupby('windowTimestamp')['fwRet'].mean()\n",
        "    top_rets = top_df.groupby('windowTimestamp')['fwRet'].mean()\n",
        "    spread_rets = low_rets - top_rets\n",
        "    \n",
        "    (low_rets + 1).cumprod().plot(c='g', ax=ax1)\n",
        "    (top_rets + 1).cumprod().plot(c='r', ax=ax1)\n",
        "    (spread_rets + 1).cumprod().plot(c='b', ls='--', ax=ax1)\n",
        "    ax1.set_ylabel('Dollar growth')\n",
        "    ax1.legend(['Long', 'Short', 'Spread'])\n",
        "    ax1.set_title(f'Spread: $\\mu$={spread_rets.mean():.2%}, \\\n",
        "$\\sigma$={spread_rets.std() * math.sqrt(12):.2%}')\n",
        "\n",
        "    ax2 = fig.add_subplot(gs[0, 1])\n",
        "    low_df.assetCode.value_counts().plot.barh(ax=ax2, \n",
        "        color=[colors[c] for c in low_df.assetCode.value_counts().index])\n",
        "    ax2.set_ylabel('Long', color='g')\n",
        "\n",
        "    ax3 = fig.add_subplot(gs[1, 1])\n",
        "    top_df.assetCode.value_counts().plot.barh(ax=ax3,\n",
        "        color=[colors[c] for c in top_df.assetCode.value_counts().index])\n",
        "    ax3.set_ylabel('Short', color='r')\n",
        "\n",
        "    plt.show()"
      ],
      "execution_count": 20,
      "outputs": []
    },
    {
      "cell_type": "code",
      "metadata": {
        "id": "d-MqhymN5OFs",
        "outputId": "cbebc2be-7758-4fb2-d654-973e73b08a60",
        "colab": {
          "base_uri": "https://localhost:8080/",
          "height": 937
        }
      },
      "source": [
        "low_thresh = 0.25\n",
        "top_thresh = 0.75\n",
        "\n",
        "print('simple average')\n",
        "low_df = sent_comb[sent_comb['sentAvg_rank'] <= low_thresh]\n",
        "top_df = sent_comb[sent_comb['sentAvg_rank'] >  top_thresh]\n",
        "portfolios_plot(low_df, top_df)\n",
        "\n",
        "print('buzz-weighted')\n",
        "low_df = sent_comb[sent_comb['sentBw_rank'] <= low_thresh]\n",
        "top_df = sent_comb[sent_comb['sentBw_rank'] >  top_thresh]\n",
        "portfolios_plot(low_df, top_df)"
      ],
      "execution_count": 21,
      "outputs": [
        {
          "output_type": "stream",
          "text": [
            "simple average\n"
          ],
          "name": "stdout"
        },
        {
          "output_type": "display_data",
          "data": {
            "image/png": "[encoded data removed]",
            "text/plain": [
              "<Figure size 1152x504 with 3 Axes>"
            ]
          },
          "metadata": {
            "tags": [],
            "needs_background": "light"
          }
        },
        {
          "output_type": "stream",
          "text": [
            "buzz-weighted\n"
          ],
          "name": "stdout"
        },
        {
          "output_type": "display_data",
          "data": {
            "image/png": "[encoded data removed]",
            "text/plain": [
              "<Figure size 1152x504 with 3 Axes>"
            ]
          },
          "metadata": {
            "tags": [],
            "needs_background": "light"
          }
        }
      ]
    },
    {
      "cell_type": "markdown",
      "metadata": {
        "id": "x3cu5Nnp5OFt"
      },
      "source": [
        "As we observe above, the trends look similar in both versions, as expected by the high correlations. Yet, the result can be quite different, but that is mostly an effect of the highly concentrated portfolios (one ETF at a time in each only). It’s easy to notice that silver never made the long portfolio in the buzz-weighted aggregation."
      ]
    },
    {
      "cell_type": "markdown",
      "metadata": {
        "id": "b6saZHj45OFt"
      },
      "source": [
        "## 4. Conclusions"
      ]
    },
    {
      "cell_type": "markdown",
      "metadata": {
        "id": "BMY6Mev1eYCA"
      },
      "source": [
        "We have shown two examples of how to aggregate the daily data into longer time-intervals. We also demonstrate how to create a simple factor from RMAs. "
      ]
    }
  ]
}