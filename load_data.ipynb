{
 "cells": [
  {
   "cell_type": "markdown",
   "metadata": {
    "colab_type": "text",
    "id": "view-in-github"
   },
   "source": [
    "<a href=\"https://colab.research.google.com/github/marketpsych/marketpsych/blob/main/notebooks/load_data.ipynb\" target=\"_parent\"><img src=\"https://colab.research.google.com/assets/colab-badge.svg\" alt=\"Open In Colab\"/></a>"
   ]
  },
  {
   "cell_type": "markdown",
   "metadata": {
    "id": "6oEg5liYXjDR"
   },
   "source": [
    "# Loading CSV files directly from SFTP\n",
    "\n",
    "This notebook shows how to load MarketPsych's data with your SFTP credentials directly into a Jupyter Notebook. Note, however, that this notebook is an **alpha version**. For more robust testing, we recommend downloading the trialing flat files, as instructed by the MRNSupport, and then loading them into your own environment. "
   ]
  },
  {
   "cell_type": "markdown",
   "metadata": {
    "id": "OeDQ4hDmXjDV"
   },
   "source": [
    "---\n",
    "## Settings\n",
    "In order to have this example working, you'll need to install MarketPsych's library. Additionally, this notebook uses some widgets to facilitate with your navigation. To install the libraries and enable widgets, please run the following cell. "
   ]
  },
  {
   "cell_type": "code",
   "execution_count": 1,
   "metadata": {
    "id": "moMyEx-HXjDW",
    "outputId": "bdaa1548-0628-4cb1-feb1-aec6760b1ac2"
   },
   "outputs": [
    {
     "name": "stderr",
     "output_type": "stream",
     "text": [
      "WARNING: Ignoring invalid distribution -ywidgets (c:\\programdata\\anaconda3\\lib\\site-packages)\n",
      "WARNING: Ignoring invalid distribution -ywidgets (c:\\programdata\\anaconda3\\lib\\site-packages)\n",
      "WARNING: Ignoring invalid distribution -pywidgets (c:\\programdata\\anaconda3\\lib\\site-packages)\n",
      "WARNING: Ignoring invalid distribution -lick (c:\\programdata\\anaconda3\\lib\\site-packages)\n",
      "WARNING: Ignoring invalid distribution - (c:\\programdata\\anaconda3\\lib\\site-packages)\n",
      "WARNING: Ignoring invalid distribution -ywidgets (c:\\programdata\\anaconda3\\lib\\site-packages)\n",
      "WARNING: Ignoring invalid distribution -ywidgets (c:\\programdata\\anaconda3\\lib\\site-packages)\n",
      "WARNING: Ignoring invalid distribution -pywidgets (c:\\programdata\\anaconda3\\lib\\site-packages)\n",
      "WARNING: Ignoring invalid distribution -lick (c:\\programdata\\anaconda3\\lib\\site-packages)\n",
      "WARNING: Ignoring invalid distribution - (c:\\programdata\\anaconda3\\lib\\site-packages)\n",
      "WARNING: Ignoring invalid distribution -ywidgets (c:\\programdata\\anaconda3\\lib\\site-packages)\n",
      "WARNING: Ignoring invalid distribution -ywidgets (c:\\programdata\\anaconda3\\lib\\site-packages)\n",
      "WARNING: Ignoring invalid distribution -pywidgets (c:\\programdata\\anaconda3\\lib\\site-packages)\n",
      "WARNING: Ignoring invalid distribution -lick (c:\\programdata\\anaconda3\\lib\\site-packages)\n",
      "WARNING: Ignoring invalid distribution - (c:\\programdata\\anaconda3\\lib\\site-packages)\n",
      "WARNING: Ignoring invalid distribution -ywidgets (c:\\programdata\\anaconda3\\lib\\site-packages)\n",
      "WARNING: Ignoring invalid distribution -ywidgets (c:\\programdata\\anaconda3\\lib\\site-packages)\n",
      "WARNING: Ignoring invalid distribution -pywidgets (c:\\programdata\\anaconda3\\lib\\site-packages)\n",
      "WARNING: Ignoring invalid distribution -lick (c:\\programdata\\anaconda3\\lib\\site-packages)\n",
      "WARNING: Ignoring invalid distribution - (c:\\programdata\\anaconda3\\lib\\site-packages)\n",
      "WARNING: Ignoring invalid distribution -ywidgets (c:\\programdata\\anaconda3\\lib\\site-packages)\n",
      "WARNING: Ignoring invalid distribution -ywidgets (c:\\programdata\\anaconda3\\lib\\site-packages)\n",
      "WARNING: Ignoring invalid distribution -pywidgets (c:\\programdata\\anaconda3\\lib\\site-packages)\n",
      "WARNING: Ignoring invalid distribution -lick (c:\\programdata\\anaconda3\\lib\\site-packages)\n",
      "WARNING: Ignoring invalid distribution - (c:\\programdata\\anaconda3\\lib\\site-packages)\n",
      "WARNING: Ignoring invalid distribution -ywidgets (c:\\programdata\\anaconda3\\lib\\site-packages)\n",
      "WARNING: Ignoring invalid distribution -ywidgets (c:\\programdata\\anaconda3\\lib\\site-packages)\n",
      "WARNING: Ignoring invalid distribution -pywidgets (c:\\programdata\\anaconda3\\lib\\site-packages)\n",
      "WARNING: Ignoring invalid distribution -lick (c:\\programdata\\anaconda3\\lib\\site-packages)\n",
      "WARNING: Ignoring invalid distribution - (c:\\programdata\\anaconda3\\lib\\site-packages)\n",
      "WARNING: Ignoring invalid distribution -ywidgets (c:\\programdata\\anaconda3\\lib\\site-packages)\n",
      "WARNING: Ignoring invalid distribution -ywidgets (c:\\programdata\\anaconda3\\lib\\site-packages)\n",
      "WARNING: Ignoring invalid distribution -pywidgets (c:\\programdata\\anaconda3\\lib\\site-packages)\n",
      "WARNING: Ignoring invalid distribution -lick (c:\\programdata\\anaconda3\\lib\\site-packages)\n",
      "WARNING: Ignoring invalid distribution - (c:\\programdata\\anaconda3\\lib\\site-packages)\n",
      "WARNING: Ignoring invalid distribution -ywidgets (c:\\programdata\\anaconda3\\lib\\site-packages)\n",
      "WARNING: Ignoring invalid distribution -ywidgets (c:\\programdata\\anaconda3\\lib\\site-packages)\n",
      "WARNING: Ignoring invalid distribution -pywidgets (c:\\programdata\\anaconda3\\lib\\site-packages)\n",
      "WARNING: Ignoring invalid distribution -lick (c:\\programdata\\anaconda3\\lib\\site-packages)\n",
      "WARNING: Ignoring invalid distribution - (c:\\programdata\\anaconda3\\lib\\site-packages)\n",
      "WARNING: Ignoring invalid distribution -ywidgets (c:\\programdata\\anaconda3\\lib\\site-packages)\n",
      "WARNING: Ignoring invalid distribution -ywidgets (c:\\programdata\\anaconda3\\lib\\site-packages)\n",
      "WARNING: Ignoring invalid distribution -pywidgets (c:\\programdata\\anaconda3\\lib\\site-packages)\n",
      "WARNING: Ignoring invalid distribution -lick (c:\\programdata\\anaconda3\\lib\\site-packages)\n",
      "WARNING: Ignoring invalid distribution - (c:\\programdata\\anaconda3\\lib\\site-packages)\n",
      "    WARNING: Ignoring invalid distribution -ywidgets (c:\\programdata\\anaconda3\\lib\\site-packages)\n",
      "    WARNING: Ignoring invalid distribution -ywidgets (c:\\programdata\\anaconda3\\lib\\site-packages)\n",
      "    WARNING: Ignoring invalid distribution -pywidgets (c:\\programdata\\anaconda3\\lib\\site-packages)\n",
      "    WARNING: Ignoring invalid distribution -lick (c:\\programdata\\anaconda3\\lib\\site-packages)\n",
      "    WARNING: Ignoring invalid distribution - (c:\\programdata\\anaconda3\\lib\\site-packages)\n",
      "ERROR: Could not install packages due to an OSError: [WinError 5] Access is denied: 'c:\\\\programdata\\\\anaconda3\\\\lib\\\\site-packages\\\\ipywidgets-7.6.3.dist-info\\\\direct_url.json'\n",
      "Consider using the `--user` option or check the permissions.\n",
      "\n",
      "WARNING: Ignoring invalid distribution -ywidgets (c:\\programdata\\anaconda3\\lib\\site-packages)\n",
      "WARNING: Ignoring invalid distribution -ywidgets (c:\\programdata\\anaconda3\\lib\\site-packages)\n",
      "WARNING: Ignoring invalid distribution -pywidgets (c:\\programdata\\anaconda3\\lib\\site-packages)\n",
      "WARNING: Ignoring invalid distribution -lick (c:\\programdata\\anaconda3\\lib\\site-packages)\n",
      "WARNING: Ignoring invalid distribution - (c:\\programdata\\anaconda3\\lib\\site-packages)\n",
      "WARNING: Ignoring invalid distribution -ywidgets (c:\\programdata\\anaconda3\\lib\\site-packages)\n",
      "WARNING: Ignoring invalid distribution -ywidgets (c:\\programdata\\anaconda3\\lib\\site-packages)\n",
      "WARNING: Ignoring invalid distribution -pywidgets (c:\\programdata\\anaconda3\\lib\\site-packages)\n",
      "WARNING: Ignoring invalid distribution -lick (c:\\programdata\\anaconda3\\lib\\site-packages)\n",
      "WARNING: Ignoring invalid distribution - (c:\\programdata\\anaconda3\\lib\\site-packages)\n",
      "WARNING: Ignoring invalid distribution -ywidgets (c:\\programdata\\anaconda3\\lib\\site-packages)\n",
      "WARNING: Ignoring invalid distribution -ywidgets (c:\\programdata\\anaconda3\\lib\\site-packages)\n",
      "WARNING: Ignoring invalid distribution -pywidgets (c:\\programdata\\anaconda3\\lib\\site-packages)\n",
      "WARNING: Ignoring invalid distribution -lick (c:\\programdata\\anaconda3\\lib\\site-packages)\n",
      "WARNING: Ignoring invalid distribution - (c:\\programdata\\anaconda3\\lib\\site-packages)\n",
      "Enabling notebook extension jupyter-js-widgets/extension...\n",
      "      - Validating: ok\n"
     ]
    }
   ],
   "source": [
    "import sys\n",
    "# Installs marketpsych library into your environment\n",
    "!{sys.executable} -m pip install marketpsych --upgrade --quiet\n",
    "# Installs ipywidget library into your environment\n",
    "!{sys.executable} -m pip install ipywidgets --upgrade --quiet\n",
    "\n",
    "## Libraries\n",
    "from marketpsych import sftp\n",
    "from marketpsych import mpwidgets\n",
    "\n",
    "# Allows using the widgets\n",
    "!{sys.executable} -m jupyter nbextension enable --py widgetsnbextension\n",
    "\n",
    "from IPython.core.magic import register_cell_magic\n",
    "from IPython.display import HTML, display\n",
    "\n",
    "%load_ext autoreload\n",
    "%autoreload 2"
   ]
  },
  {
   "cell_type": "markdown",
   "metadata": {
    "id": "xjX_TfMuXjDZ"
   },
   "source": [
    "---\n",
    "## Selecting your login credentials\n",
    "\n",
    "Please input your credentials, i.e., the path to the `Key file`, and `UserID` as provided by the MRNSupport. \n",
    "\n",
    "<font color='blue'>**IMPORTANT**</font>       \n",
    "<font color='blue'>1. Run the following cell. After running it, you should see two widgets.</font>  \n",
    "<font color='blue'>2. Click on the uploader named `Key File`.</font>        \n",
    "<font color='blue'>3. Check if your `User ID` is correct, if not, change it manually.</font>  \n",
    "<font color='blue'>4. Move on to the next cell.</font>  "
   ]
  },
  {
   "cell_type": "code",
   "execution_count": 2,
   "metadata": {
    "colab": {
     "referenced_widgets": [
      "a586e32b9ae5463a8b0225f0525acdb5"
     ]
    },
    "id": "lshp6uE7XjDZ",
    "outputId": "9a39579b-1d8c-4997-ea84-93480e16ba5b"
   },
   "outputs": [
    {
     "data": {
      "application/vnd.jupyter.widget-view+json": {
       "model_id": "c69ba9ad2295434581feadd7b387f02c",
       "version_major": 2,
       "version_minor": 0
      },
      "text/plain": [
       "HBox(children=(FileUpload(value={}, description='Key File:'), Text(value='', description='User ID:', placehold…"
      ]
     },
     "metadata": {},
     "output_type": "display_data"
    }
   ],
   "source": [
    "cwdgts = mpwidgets.LoginWidgets()\n",
    "cwdgts.display()"
   ]
  },
  {
   "cell_type": "markdown",
   "metadata": {
    "id": "RlaoEGLMa07h"
   },
   "source": [
    "**WARNING**                         \n",
    "When you run the following cell after waiting for too long, you may be given the following error:\n",
    "```python\n",
    "\"ValueError\": I/O operation on closed file.\n",
    "```   \n",
    "\n",
    "If so, please re-run the previous cell and upload your key. Otherwise, continue."
   ]
  },
  {
   "cell_type": "code",
   "execution_count": 3,
   "metadata": {
    "id": "ev5drG1RXjDa"
   },
   "outputs": [
    {
     "ename": "AttributeError",
     "evalue": "'FileUpload' object has no attribute 'content'",
     "output_type": "error",
     "traceback": [
      "\u001b[1;31m---------------------------------------------------------------------------\u001b[0m",
      "\u001b[1;31mAttributeError\u001b[0m                            Traceback (most recent call last)",
      "\u001b[1;32m<ipython-input-3-0d381426b318>\u001b[0m in \u001b[0;36m<module>\u001b[1;34m\u001b[0m\n\u001b[0;32m      1\u001b[0m \u001b[1;31m# Creates client\u001b[0m\u001b[1;33m\u001b[0m\u001b[1;33m\u001b[0m\u001b[1;33m\u001b[0m\u001b[0m\n\u001b[1;32m----> 2\u001b[1;33m \u001b[0mclient\u001b[0m \u001b[1;33m=\u001b[0m \u001b[0msftp\u001b[0m\u001b[1;33m.\u001b[0m\u001b[0mconnect\u001b[0m\u001b[1;33m(\u001b[0m\u001b[0muser\u001b[0m\u001b[1;33m=\u001b[0m\u001b[0mcwdgts\u001b[0m\u001b[1;33m.\u001b[0m\u001b[0mid_widget\u001b[0m\u001b[1;33m.\u001b[0m\u001b[0mvalue\u001b[0m\u001b[1;33m,\u001b[0m \u001b[0mkey\u001b[0m\u001b[1;33m=\u001b[0m\u001b[0mcwdgts\u001b[0m\u001b[1;33m.\u001b[0m\u001b[0mkey_widget\u001b[0m\u001b[1;33m.\u001b[0m\u001b[0mcontent\u001b[0m\u001b[1;33m)\u001b[0m\u001b[1;33m\u001b[0m\u001b[1;33m\u001b[0m\u001b[0m\n\u001b[0m",
      "\u001b[1;31mAttributeError\u001b[0m: 'FileUpload' object has no attribute 'content'"
     ]
    }
   ],
   "source": [
    "# Creates client\n",
    "client = sftp.connect(user=cwdgts.id_widget.value, key=cwdgts.key_widget.content)"
   ]
  },
  {
   "cell_type": "markdown",
   "metadata": {
    "id": "b5qMK0ElXjDa"
   },
   "source": [
    "---\n",
    "## Loading the data\n",
    "\n",
    "Finally, you can download the files directly into a pandas dataframe. The options can be defined through the 5 widgets below.\n",
    "\n",
    " - Select the checkbox if you are trialing the data. In some special cases, even if you are trialing, you may need to uncheck it (you can try both options in case of Permission errors).\n",
    "\n",
    " - The options for **Asset class** are:  \n",
    "\n",
    "|Asset class   | Description|\n",
    "|:-------------|:------------|\n",
    "|`CMPNY`       | Individual companies|\n",
    "|`CMPNY_AMER`  | Individual companies domiciled in America|\n",
    "|`CMPNY_APAC`  | Individual companies domiciled in APAC|\n",
    "|`CMPNY_EMEA`  | Individual companies domiciled in EMEA|\n",
    "|`CMPNY_ESG`   | Individual companies (ESG package)|\n",
    "|`CMPNY_GRP`   | Company groups and ETFs|\n",
    "|`COM_AGR`     | Agricultural commodities|  \n",
    "|`COM_ENM`     | Energy and Metals|\n",
    "|`COU`         | Countries|\n",
    "|`COU_ESG`     | Countries (ESG package)|\n",
    "|`COU_MKT`     | Stock indices, sovereign bonds, real estate|\n",
    "|`CRYPTO`      | Cryptocurrencies|\n",
    "|`CUR`         | Currencies|  \n",
    "\n",
    " - The options for **frequencies** are:  \n",
    "  \n",
    "|Frequency  | Description| Use case |\n",
    "|:----------|:-----------|:---------|\n",
    "|`W365_UDAI`| Yearly lookback window and daily updates| ESG Core only |\n",
    "|`WDAI_UDAI`| Daily lookback window and daily updates| Daily data stamped 30 minutes before the NYSE close|\n",
    "|`WDAI_UHOU`| Daily lookback window and hourly updates| Daily data stamped hourly (in case you want daily data adjusted to your time-zone) |\n",
    "|`W01M_U01M`| Minutely lookback window and minutely updates| Low-latency data (**WARNING:** extremely large datasets)|\n",
    " \n",
    "- Regarding **dates**, simply select the start and end dates of interest. Note that for dates older than 2 months (with respect to your current date), the files are packaged in monthly batches. Hence, only the selection of month will matter and not the specific day. For example, if you select `2020-12-25` as the start or end date, the full `2020-12` month will be loaded anyways.\n",
    "\n",
    "**WARNINGS**   \n",
    "Loading large files such as CMPNY data with a long window-frame can take quite a while and take over your memory. Start by loading very short periods (e.g., one month of data), then moving to ever longer periods. \n",
    "\n",
    "Check your asset class permissions. If you try downloading data for which no access was provided, it will give a Permission error:\n",
    "```python\n",
    "\"PermissionError\": [Errno 13] Access denied\n",
    "```   "
   ]
  },
  {
   "cell_type": "markdown",
   "metadata": {
    "id": "E0hd9ezyXjDb"
   },
   "source": [
    "<font color='blue'>Run the following cell ONCE. After it you'll be able to select the parameters. Once you have selected them, run the next cell.</font> "
   ]
  },
  {
   "cell_type": "code",
   "execution_count": null,
   "metadata": {
    "colab": {
     "referenced_widgets": [
      "cf590e2e32d94a26b41a41bc1aa09343",
      "ebc451c9c1124e778231142635b89435",
      "6068b07754e74cb8b6ac842dea0ac1ce",
      "09063deb52864f7f8048f0997c16a3a1",
      "9db7df9387ed4bb4bfb7bf4f60c04d02"
     ]
    },
    "id": "wnqmnC5UXjDb",
    "outputId": "6c82d377-1def-4652-95e3-85070db60776"
   },
   "outputs": [],
   "source": [
    "lwdgts = mpwidgets.LoaderWidgets()\n",
    "lwdgts.display()"
   ]
  },
  {
   "cell_type": "code",
   "execution_count": null,
   "metadata": {
    "id": "1Ey75Fs_XjDc",
    "outputId": "49a4b013-19e6-4fae-dc7d-3730ef002286"
   },
   "outputs": [],
   "source": [
    "%%time\n",
    "\n",
    "df = client.download(\n",
    "    asset_class=sftp.AssetClass[lwdgts.asset_class_widget.value],\n",
    "    frequency=sftp.Frequency[lwdgts.frequency_widget.value],\n",
    "    start=lwdgts.start_date_widget.value,\n",
    "    end=lwdgts.end_date_widget.value,\n",
    "    trial=lwdgts.trial_check_widget.value,\n",
    "    assets=tuple(lwdgts.assets_widget.value.split()),\n",
    "    sources=tuple(lwdgts.data_type_widget.value)\n",
    ")\n",
    "\n",
    "display(df)"
   ]
  },
  {
   "cell_type": "markdown",
   "metadata": {
    "id": "lG38ufuOXjDc"
   },
   "source": [
    "If you can see a dataframe above, congratulations! You have downloaded some data into your notebook. From here, you can have fun exploring it. Below, you'll find a plotting tool for some simple understanding of the data."
   ]
  },
  {
   "cell_type": "markdown",
   "metadata": {
    "id": "vRmZMNnOXjDd"
   },
   "source": [
    "---\n",
    "## Visualizing the data"
   ]
  },
  {
   "cell_type": "markdown",
   "metadata": {
    "id": "Q3gRkoiDXjDd"
   },
   "source": [
    "Below you can use the widgets to do some very basic exploration. A description of the widgets is given below.\n",
    "\n",
    "- The **Data Type** field represents the type of content source(s) on which the RMAs are based. There are four possible values:\n",
    "    - `News` for news sources (headlines and corpus)\n",
    "    - `News_Headline` for the headline only of news sources\n",
    "    - `Social` for social media sources\n",
    "    - `News_Social` for the combined content               \n",
    "\n",
    "\n",
    "- The **Anaytics** field represents the RMA. The actual values will depend on the asset class. Several types of indicators are provided:\n",
    "    - Emotional indicators such as Anger, Fear and Joy\n",
    "    - 'Economic' metrics including Earnings Forecast, Interest Rate Forecast, Long vs. Short \n",
    "    - ESG measures including CarbonEmissionsControversy, ManagementTrust, and WorkplaceSafety\n",
    "    - etc. \n",
    "\n",
    "\n",
    "- The **Asset** field represents the asset of choice. To see all options, clear the cell. For a description of each asset, please search for the asset code in the User Guide or Eikon app.\n",
    "\n",
    "\n",
    "- The **Roll. window** field represents the length in the smoothing function (a simple moving average).\n",
    "\n",
    "The indicators are updated every minute for companies, sectors, regions, countries, commodities, indices, bonds, currencies and cryptocurrencies. They can be translated directly into spreadsheets or charts that can be monitored by traders, risk managers or analysts – or they can be plugged straight into your algorithms for low frequency or longer-term asset allocation or sector rotation decisions.\n",
    "\n",
    "**WARNING**                \n",
    "If your plot is empty, it is likely that there is no data for that combination of the three top variables. "
   ]
  },
  {
   "cell_type": "markdown",
   "metadata": {
    "id": "SmghmdmVXjDe"
   },
   "source": [
    "<font color='blue'>Select options for plotting the data after running the cell:</font> "
   ]
  },
  {
   "cell_type": "code",
   "execution_count": 4,
   "metadata": {
    "colab": {
     "referenced_widgets": [
      "273865029ece4dde98449c575abd0a0b",
      "d69b5da9a42e4f2d974f9f4f906d07fa",
      "3bd07bde063e4ac288f99574bbbe4f57"
     ]
    },
    "id": "5WnWyucGXjDe",
    "outputId": "e6a43bd9-0524-4840-f440-0e1af000bb73"
   },
   "outputs": [
    {
     "ename": "NameError",
     "evalue": "name 'df' is not defined",
     "output_type": "error",
     "traceback": [
      "\u001b[1;31m---------------------------------------------------------------------------\u001b[0m",
      "\u001b[1;31mNameError\u001b[0m                                 Traceback (most recent call last)",
      "\u001b[1;32m<ipython-input-4-3000d4437308>\u001b[0m in \u001b[0;36m<module>\u001b[1;34m\u001b[0m\n\u001b[1;32m----> 1\u001b[1;33m \u001b[0mswdgts\u001b[0m \u001b[1;33m=\u001b[0m \u001b[0mmpwidgets\u001b[0m\u001b[1;33m.\u001b[0m\u001b[0mSlicerWidgets\u001b[0m\u001b[1;33m(\u001b[0m\u001b[0mdf\u001b[0m\u001b[1;33m)\u001b[0m\u001b[1;33m\u001b[0m\u001b[1;33m\u001b[0m\u001b[0m\n\u001b[0m\u001b[0;32m      2\u001b[0m \u001b[0mswdgts\u001b[0m\u001b[1;33m.\u001b[0m\u001b[0mdisplay\u001b[0m\u001b[1;33m(\u001b[0m\u001b[1;33m)\u001b[0m\u001b[1;33m\u001b[0m\u001b[1;33m\u001b[0m\u001b[0m\n",
      "\u001b[1;31mNameError\u001b[0m: name 'df' is not defined"
     ]
    }
   ],
   "source": [
    "swdgts = mpwidgets.SlicerWidgets(df)\n",
    "swdgts.display()"
   ]
  },
  {
   "cell_type": "code",
   "execution_count": 5,
   "metadata": {},
   "outputs": [],
   "source": [
    "import numpy as np\n",
    "import pandas as pd\n",
    "import ipywidgets as widgets\n",
    "from IPython.display import display\n",
    "w = widgets.IntSlider()\n",
    "\n",
    "df = pd.DataFrame(np.random.randn(100, 4), columns=list('ABCD'))"
   ]
  },
  {
   "cell_type": "code",
   "execution_count": 92,
   "metadata": {
    "id": "cWsuqsyKa07o"
   },
   "outputs": [],
   "source": [
    "class NameItWidgets:\n",
    "    def __init__(self, df):\n",
    "        \"\"\"\n",
    "        Widgets for downloading the data\n",
    "        \"\"\"\n",
    "        self.file_name = widgets.Text(\n",
    "            value='MarketPsychData',\n",
    "            placeholder='Type name of file to save',\n",
    "            description='File name:',\n",
    "            disabled=False\n",
    "        )\n",
    "\n",
    "               \n",
    "        \n",
    "        \n",
    "    def display(self):\n",
    "        \"\"\"\n",
    "        Display widgets.\n",
    "        \"\"\"\n",
    "        widgets_ = widgets.HBox([\n",
    "            self.file_name])\n",
    "        display(widgets_)\n",
    "        \n",
    "        \n"
   ]
  },
  {
   "cell_type": "markdown",
   "metadata": {},
   "source": [
    "Single button for download - needs to be combined with above and function to download"
   ]
  },
  {
   "cell_type": "code",
   "execution_count": 97,
   "metadata": {},
   "outputs": [],
   "source": [
    "class ButtonWidgets:   \n",
    "    \n",
    "    def __init__(self, df):\n",
    "            self.button = widgets.Button(\n",
    "            description='Click to Download',\n",
    "            disabled=False,\n",
    "            button_style='', # 'success', 'info', 'warning', 'danger' or ''\n",
    "            tooltip='Download File to PC',\n",
    "            icon='' # (FontAwesome names without the `fa-` prefix)\n",
    "            )\n",
    "            output = widgets.Output()\n",
    "            with output:\n",
    "                print('button clicked')\n",
    "            \n",
    "    def display(self):\n",
    "        \"\"\"\n",
    "        Display widgets.\n",
    "        \"\"\"\n",
    "        widgets_ = widgets.HBox([\n",
    "            self.button])\n",
    "        display(widgets_)\n",
    "                   \n",
    "            \n",
    "            "
   ]
  },
  {
   "cell_type": "markdown",
   "metadata": {},
   "source": [
    "Drop Down"
   ]
  },
  {
   "cell_type": "code",
   "execution_count": 68,
   "metadata": {},
   "outputs": [],
   "source": [
    "class DropDownWidgets:   \n",
    "    \n",
    "    def __init__(self, df):\n",
    "            self.dropdown = widgets.Dropdown(\n",
    "            options=['.csv', '.xlsx', '.json', '.dta'],\n",
    "            value='.csv',\n",
    "            description='File Type:',\n",
    "            disabled=False,\n",
    "            )\n",
    "            \n",
    "    def display(self):\n",
    "        \"\"\"\n",
    "        Display widgets.\n",
    "        \"\"\"\n",
    "        widgets_ = widgets.VBox([\n",
    "            self.dropdown])\n",
    "        display(widgets_)\n",
    "                  "
   ]
  },
  {
   "cell_type": "markdown",
   "metadata": {},
   "source": [
    "Combine widgets so only have to call one thing, maybe done through MP on PiPy"
   ]
  },
  {
   "cell_type": "markdown",
   "metadata": {},
   "source": [
    "Based on selections for name and dropdown perform:\n",
    "download_df=pd.to_{filetype}({filename}.{filetype})\n",
    "Then use button to perform download"
   ]
  },
  {
   "cell_type": "code",
   "execution_count": 98,
   "metadata": {},
   "outputs": [
    {
     "data": {
      "application/vnd.jupyter.widget-view+json": {
       "model_id": "ccb1855d8a3e46a3a876625340377cba",
       "version_major": 2,
       "version_minor": 0
      },
      "text/plain": [
       "HBox(children=(Text(value='MarketPsychData', description='File name:', placeholder='Type name of file to save'…"
      ]
     },
     "metadata": {},
     "output_type": "display_data"
    },
    {
     "data": {
      "application/vnd.jupyter.widget-view+json": {
       "model_id": "f1866ef5a5ad4014b8a185f4bbd94cfc",
       "version_major": 2,
       "version_minor": 0
      },
      "text/plain": [
       "VBox(children=(Dropdown(description='File Type:', options=('.csv', '.xlsx', '.json', '.dta'), value='.csv'),))"
      ]
     },
     "metadata": {},
     "output_type": "display_data"
    },
    {
     "data": {
      "application/vnd.jupyter.widget-view+json": {
       "model_id": "afed49a1ac3d438b80aa1109ff9dad56",
       "version_major": 2,
       "version_minor": 0
      },
      "text/plain": [
       "HBox(children=(Button(description='Click to Download', style=ButtonStyle(), tooltip='Download File to PC'),))"
      ]
     },
     "metadata": {},
     "output_type": "display_data"
    }
   ],
   "source": [
    "nameitwidg = NameItWidgets(df).display()\n",
    "dropdownwidg = DropDownWidgets(df).display()\n",
    "buttonwidg = ButtonWidgets(df).display()"
   ]
  },
  {
   "cell_type": "code",
   "execution_count": 94,
   "metadata": {},
   "outputs": [
    {
     "ename": "AttributeError",
     "evalue": "'NoneType' object has no attribute 'value'",
     "output_type": "error",
     "traceback": [
      "\u001b[1;31m---------------------------------------------------------------------------\u001b[0m",
      "\u001b[1;31mAttributeError\u001b[0m                            Traceback (most recent call last)",
      "\u001b[1;32m<ipython-input-94-68a042b39e1d>\u001b[0m in \u001b[0;36m<module>\u001b[1;34m\u001b[0m\n\u001b[1;32m----> 1\u001b[1;33m \u001b[0mnameitwidg\u001b[0m\u001b[1;33m.\u001b[0m\u001b[0mvalue\u001b[0m\u001b[1;33m(\u001b[0m\u001b[1;33m)\u001b[0m\u001b[1;33m\u001b[0m\u001b[1;33m\u001b[0m\u001b[0m\n\u001b[0m",
      "\u001b[1;31mAttributeError\u001b[0m: 'NoneType' object has no attribute 'value'"
     ]
    }
   ],
   "source": []
  },
  {
   "cell_type": "code",
   "execution_count": 87,
   "metadata": {},
   "outputs": [
    {
     "ename": "NameError",
     "evalue": "name 'MarketPsychData' is not defined",
     "output_type": "error",
     "traceback": [
      "\u001b[1;31m---------------------------------------------------------------------------\u001b[0m",
      "\u001b[1;31mNameError\u001b[0m                                 Traceback (most recent call last)",
      "\u001b[1;32m<ipython-input-87-888e066d0ec2>\u001b[0m in \u001b[0;36m<module>\u001b[1;34m\u001b[0m\n\u001b[1;32m----> 1\u001b[1;33m \u001b[0mMarketPsychData\u001b[0m\u001b[1;33m\u001b[0m\u001b[1;33m\u001b[0m\u001b[0m\n\u001b[0m",
      "\u001b[1;31mNameError\u001b[0m: name 'MarketPsychData' is not defined"
     ]
    }
   ],
   "source": [
    "MarketPsychData"
   ]
  },
  {
   "cell_type": "code",
   "execution_count": 71,
   "metadata": {},
   "outputs": [],
   "source": [
    "nameitwidg = NameItWidgets(df)\n",
    "dropdownwidg = DropDownWidgets(df)\n",
    "buttonwidg = ButtonWidgets(df)"
   ]
  },
  {
   "cell_type": "markdown",
   "metadata": {},
   "source": [
    "test"
   ]
  },
  {
   "cell_type": "code",
   "execution_count": 62,
   "metadata": {},
   "outputs": [],
   "source": [
    "class DownloadWidgets:\n",
    "    def __init__(self, df):\n",
    "        \"\"\"\n",
    "        Widgets for downloading the data\n",
    "        \"\"\"\n",
    "        self.file_name = widgets.Text(\n",
    "            value='MarketPsychData',\n",
    "            placeholder='Type name of file to save',\n",
    "            description='File name:',\n",
    "            disabled=False\n",
    "        )   \n",
    "    \n",
    "    def __init__(self, df):\n",
    "            self.dropdown = widgets.Dropdown(\n",
    "            options=['.csv', '.xlsx', '.json', '.dta'],\n",
    "            value='.csv',\n",
    "            description='File Type:',\n",
    "            disabled=False,\n",
    "            )    \n",
    "            \n",
    "    def display(self):\n",
    "        \"\"\"\n",
    "        Display widgets.\n",
    "        \"\"\"\n",
    "        widgets_ = widgets.VBox([self.file_name, self.dropdown])\n",
    "        display(widgets_)\n",
    "                  \n",
    "            \n",
    "            \n",
    "        \n",
    "        \n",
    "        \n",
    "        \n",
    "        \n",
    "        \n",
    "        "
   ]
  },
  {
   "cell_type": "code",
   "execution_count": 72,
   "metadata": {},
   "outputs": [
    {
     "data": {
      "text/plain": [
       "<__main__.NameItWidgets at 0x1eb3ad6c6d0>"
      ]
     },
     "metadata": {},
     "output_type": "display_data"
    },
    {
     "data": {
      "text/plain": [
       "<__main__.DropDownWidgets at 0x1eb3ad6cdc0>"
      ]
     },
     "metadata": {},
     "output_type": "display_data"
    },
    {
     "data": {
      "text/plain": [
       "<__main__.ButtonWidgets at 0x1eb3ad6c340>"
      ]
     },
     "metadata": {},
     "output_type": "display_data"
    }
   ],
   "source": [
    "display(nameitwidg, dropdownwidg, buttonwidg)"
   ]
  },
  {
   "cell_type": "code",
   "execution_count": 75,
   "metadata": {},
   "outputs": [
    {
     "data": {
      "application/vnd.jupyter.widget-view+json": {
       "model_id": "6d14709b508a487e8b0c810c058b9ac6",
       "version_major": 2,
       "version_minor": 0
      },
      "text/plain": [
       "ToggleButtons(description='Speed:', options=('Slow', 'Regular', 'Fast'), tooltips=('Description of slow', 'Des…"
      ]
     },
     "metadata": {},
     "output_type": "display_data"
    }
   ],
   "source": [
    "widgets.ToggleButtons(\n",
    "    options=['Slow', 'Regular', 'Fast'],\n",
    "    description='Speed:',\n",
    "    disabled=False,\n",
    "    button_style='', # 'success', 'info', 'warning', 'danger' or ''\n",
    "    tooltips=['Description of slow', 'Description of regular', 'Description of fast'],\n",
    "#     icons=['check'] * 3\n",
    ")"
   ]
  },
  {
   "cell_type": "code",
   "execution_count": null,
   "metadata": {},
   "outputs": [],
   "source": []
  }
 ],
 "metadata": {
  "colab": {
   "collapsed_sections": [],
   "include_colab_link": true,
   "name": "load_data_colab.ipynb",
   "provenance": []
  },
  "kernelspec": {
   "display_name": "Python 3",
   "language": "python",
   "name": "python3"
  },
  "language_info": {
   "codemirror_mode": {
    "name": "ipython",
    "version": 3
   },
   "file_extension": ".py",
   "mimetype": "text/x-python",
   "name": "python",
   "nbconvert_exporter": "python",
   "pygments_lexer": "ipython3",
   "version": "3.8.10"
  }
 },
 "nbformat": 4,
 "nbformat_minor": 1
}
